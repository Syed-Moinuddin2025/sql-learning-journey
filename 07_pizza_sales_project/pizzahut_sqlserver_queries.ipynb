{
    "metadata": {
        "kernelspec": {
            "name": "SQL",
            "display_name": "SQL",
            "language": "sql"
        },
        "language_info": {
            "name": "sql",
            "version": ""
        }
    },
    "nbformat_minor": 2,
    "nbformat": 4,
    "cells": [
        {
            "cell_type": "code",
            "source": [
                "--📘 BASIC SQL SERVER QUERIES\r\n",
                "\r\n",
                "-- 1. Total number of orders placed\r\n",
                "SELECT COUNT(*) AS total_orders FROM orders;"
            ],
            "metadata": {
                "azdata_cell_guid": "423c047b-bfd9-461b-876b-ee9fc0c15c28",
                "language": "sql"
            },
            "outputs": [
                {
                    "output_type": "display_data",
                    "data": {
                        "text/html": "(1 row affected)"
                    },
                    "metadata": {}
                },
                {
                    "output_type": "display_data",
                    "data": {
                        "text/html": "Total execution time: 00:00:00.005"
                    },
                    "metadata": {}
                },
                {
                    "output_type": "execute_result",
                    "metadata": {},
                    "execution_count": 2,
                    "data": {
                        "application/vnd.dataresource+json": {
                            "schema": {
                                "fields": [
                                    {
                                        "name": "total_orders"
                                    }
                                ]
                            },
                            "data": [
                                {
                                    "total_orders": "21350"
                                }
                            ]
                        },
                        "text/html": [
                            "<table>",
                            "<tr><th>total_orders</th></tr>",
                            "<tr><td>21350</td></tr>",
                            "</table>"
                        ]
                    }
                }
            ],
            "execution_count": 2
        },
        {
            "cell_type": "code",
            "source": [
                "-- 2. Total revenue from pizza sales\r\n",
                "SELECT Round(SUM(od.quantity * p.price), 2) AS total_revenue\r\n",
                "FROM order_details od\r\n",
                "JOIN pizzas p ON od.pizza_id = p.pizza_id;"
            ],
            "metadata": {
                "language": "sql",
                "azdata_cell_guid": "20bfb5d1-8282-40cc-b320-5b45bea3f477",
                "tags": []
            },
            "outputs": [
                {
                    "output_type": "display_data",
                    "data": {
                        "text/html": "(1 row affected)"
                    },
                    "metadata": {}
                },
                {
                    "output_type": "display_data",
                    "data": {
                        "text/html": "Total execution time: 00:00:00.052"
                    },
                    "metadata": {}
                },
                {
                    "output_type": "execute_result",
                    "metadata": {},
                    "execution_count": 3,
                    "data": {
                        "application/vnd.dataresource+json": {
                            "schema": {
                                "fields": [
                                    {
                                        "name": "total_revenue"
                                    }
                                ]
                            },
                            "data": [
                                {
                                    "total_revenue": "817860.05"
                                }
                            ]
                        },
                        "text/html": [
                            "<table>",
                            "<tr><th>total_revenue</th></tr>",
                            "<tr><td>817860.05</td></tr>",
                            "</table>"
                        ]
                    }
                }
            ],
            "execution_count": 3
        },
        {
            "cell_type": "code",
            "source": [
                "-- 3. Highest-priced pizza with name\r\n",
                "SELECT TOP 1 pt.name, p.price\r\n",
                "FROM pizza_types pt\r\n",
                "JOIN pizzas p ON pt.pizza_type_id = p.pizza_type_id\r\n",
                "ORDER BY p.price DESC;"
            ],
            "metadata": {
                "language": "sql",
                "azdata_cell_guid": "78ead7f0-6f78-462a-bf7a-3afe4378602f",
                "tags": []
            },
            "outputs": [
                {
                    "output_type": "display_data",
                    "data": {
                        "text/html": "(1 row affected)"
                    },
                    "metadata": {}
                },
                {
                    "output_type": "display_data",
                    "data": {
                        "text/html": "Total execution time: 00:00:00.005"
                    },
                    "metadata": {}
                },
                {
                    "output_type": "execute_result",
                    "metadata": {},
                    "execution_count": 4,
                    "data": {
                        "application/vnd.dataresource+json": {
                            "schema": {
                                "fields": [
                                    {
                                        "name": "name"
                                    },
                                    {
                                        "name": "price"
                                    }
                                ]
                            },
                            "data": [
                                {
                                    "name": "The Greek Pizza",
                                    "price": "35.95"
                                }
                            ]
                        },
                        "text/html": [
                            "<table>",
                            "<tr><th>name</th><th>price</th></tr>",
                            "<tr><td>The Greek Pizza</td><td>35.95</td></tr>",
                            "</table>"
                        ]
                    }
                }
            ],
            "execution_count": 4
        },
        {
            "cell_type": "code",
            "source": [
                "-- 4. Most common pizza size ordered\r\n",
                "SELECT TOP 1 p.size, COUNT(*) AS size_count\r\n",
                "FROM pizzas p\r\n",
                "JOIN order_details od ON od.pizza_id = p.pizza_id\r\n",
                "GROUP BY p.size\r\n",
                "ORDER BY size_count DESC;"
            ],
            "metadata": {
                "language": "sql",
                "azdata_cell_guid": "5178e5ac-7373-42d0-a453-b7ec77c36a11"
            },
            "outputs": [],
            "execution_count": null
        },
        {
            "cell_type": "code",
            "source": [
                "-- 5. Top 5 most ordered pizza types\r\n",
                "SELECT TOP 5 pt.name, SUM(od.quantity) AS total_quantity\r\n",
                "FROM order_details od\r\n",
                "JOIN pizzas p ON od.pizza_id = p.pizza_id\r\n",
                "JOIN pizza_types pt ON p.pizza_type_id = pt.pizza_type_id\r\n",
                "GROUP BY pt.name\r\n",
                "ORDER BY total_quantity DESC;"
            ],
            "metadata": {
                "language": "sql",
                "azdata_cell_guid": "3f6bfc39-0209-4f70-a418-1cf86fee7f3f"
            },
            "outputs": [],
            "execution_count": null
        },
        {
            "cell_type": "code",
            "source": [
                "-- 6. Total quantity per pizza category\r\n",
                "SELECT pt.category, SUM(od.quantity) AS total_quantity\r\n",
                "FROM order_details od\r\n",
                "JOIN pizzas p ON od.pizza_id = p.pizza_id\r\n",
                "JOIN pizza_types pt ON pt.pizza_type_id = p.pizza_type_id\r\n",
                "GROUP BY pt.category;"
            ],
            "metadata": {
                "language": "sql",
                "azdata_cell_guid": "9c3ef755-6fcb-4737-abe1-3bbf8f19711e",
                "tags": []
            },
            "outputs": [],
            "execution_count": null
        },
        {
            "cell_type": "code",
            "source": [
                "-- 7. Total revenue per category\r\n",
                "SELECT pt.category, SUM(od.quantity * p.price) AS revenue\r\n",
                "FROM order_details od\r\n",
                "JOIN pizzas p ON od.pizza_id = p.pizza_id\r\n",
                "JOIN pizza_types pt ON pt.pizza_type_id = p.pizza_type_id\r\n",
                "GROUP BY pt.category;"
            ],
            "metadata": {
                "language": "sql",
                "azdata_cell_guid": "ad57add5-6bc5-404e-a547-d59b6999ed99"
            },
            "outputs": [],
            "execution_count": null
        },
        {
            "cell_type": "code",
            "source": [
                "-- 8. Total pizzas ordered per day\r\n",
                "SELECT o.date, SUM(od.quantity) AS daily_total\r\n",
                "FROM orders o\r\n",
                "JOIN order_details od ON o.order_id = od.order_id\r\n",
                "GROUP BY o.date\r\n",
                "ORDER BY o.date;"
            ],
            "metadata": {
                "language": "sql",
                "azdata_cell_guid": "fcc01e73-7564-4f84-b6a1-e191eb57c9f5"
            },
            "outputs": [],
            "execution_count": null
        },
        {
            "cell_type": "code",
            "source": [
                "-- 9. Orders per hour\r\n",
                "SELECT DATEPART(HOUR, o.time) AS order_hour, COUNT(*) AS orders_per_hour\r\n",
                "FROM orders o\r\n",
                "GROUP BY DATEPART(HOUR, o.time)\r\n",
                "ORDER BY order_hour;"
            ],
            "metadata": {
                "language": "sql",
                "azdata_cell_guid": "354aac7d-339b-4e25-a2a7-676290dabc47"
            },
            "outputs": [],
            "execution_count": null
        },
        {
            "cell_type": "code",
            "source": [
                "-- 10. Count of unique pizza types\r\n",
                "SELECT COUNT(DISTINCT name) AS unique_pizzas FROM pizza_types;"
            ],
            "metadata": {
                "language": "sql",
                "azdata_cell_guid": "76829e98-9e1c-48ff-8d92-a680864f3680"
            },
            "outputs": [],
            "execution_count": null
        },
        {
            "cell_type": "code",
            "source": [
                "\r\n",
                "-- 📗 NORMAL LEVEL SQL SERVER QUERIES (JOIN + AGGREGATION)\r\n",
                "\r\n",
                "-- 11. List all pizza types with their categories\r\n",
                "SELECT name, category FROM pizza_types;\r\n",
                ""
            ],
            "metadata": {
                "language": "sql",
                "azdata_cell_guid": "aa763e8a-5318-4d48-b412-32c0a33ae6c9"
            },
            "outputs": [],
            "execution_count": null
        },
        {
            "cell_type": "code",
            "source": [
                "-- 12. Total number of pizzas sold (sum of quantity)\r\n",
                "SELECT SUM(quantity) AS total_pizzas_sold FROM order_details;\r\n",
                ""
            ],
            "metadata": {
                "language": "sql",
                "azdata_cell_guid": "8bc3b83c-38a7-4309-9167-425070bad4d3"
            },
            "outputs": [],
            "execution_count": null
        },
        {
            "cell_type": "code",
            "source": [
                "-- 13. Pizza with lowest price\r\n",
                "SELECT TOP 1 pt.name, p.price\r\n",
                "FROM pizza_types pt\r\n",
                "JOIN pizzas p ON pt.pizza_type_id = p.pizza_type_id\r\n",
                "ORDER BY p.price ASC;\r\n",
                ""
            ],
            "metadata": {
                "language": "sql",
                "azdata_cell_guid": "a7ebdf59-e9f8-417d-84a2-e1508c3661c3"
            },
            "outputs": [],
            "execution_count": null
        },
        {
            "cell_type": "code",
            "source": [
                "-- 14. Quantity of each pizza_id sold\r\n",
                "SELECT pizza_id, SUM(quantity) AS quantity_sold\r\n",
                "FROM order_details\r\n",
                "GROUP BY pizza_id\r\n",
                "ORDER BY quantity_sold DESC;\r\n",
                ""
            ],
            "metadata": {
                "language": "sql",
                "azdata_cell_guid": "d70360f5-262a-416d-8093-b65cfd31c4a3"
            },
            "outputs": [],
            "execution_count": null
        },
        {
            "cell_type": "code",
            "source": [
                "-- 15. Average price of pizzas by size\r\n",
                "SELECT size, AVG(price) AS avg_price FROM pizzas GROUP BY size;\r\n",
                ""
            ],
            "metadata": {
                "language": "sql",
                "azdata_cell_guid": "1f835ff7-0015-4535-9a37-81907bacffa9"
            },
            "outputs": [],
            "execution_count": null
        },
        {
            "cell_type": "code",
            "source": [
                "-- 16. Daily revenue generated\r\n",
                "SELECT o.date, SUM(od.quantity * p.price) AS daily_revenue\r\n",
                "FROM orders o\r\n",
                "JOIN order_details od ON o.order_id = od.order_id\r\n",
                "JOIN pizzas p ON p.pizza_id = od.pizza_id\r\n",
                "GROUP BY o.date\r\n",
                "ORDER BY o.date;\r\n",
                ""
            ],
            "metadata": {
                "language": "sql",
                "azdata_cell_guid": "b5fa1093-4b95-47e5-a141-62e71af6166f"
            },
            "outputs": [],
            "execution_count": null
        },
        {
            "cell_type": "code",
            "source": [
                "-- 17. List of all pizza sizes used\r\n",
                "SELECT DISTINCT size FROM pizzas;\r\n",
                ""
            ],
            "metadata": {
                "language": "sql",
                "azdata_cell_guid": "267ad2ee-cda6-44c9-9a62-76dcdf091e56"
            },
            "outputs": [],
            "execution_count": null
        },
        {
            "cell_type": "code",
            "source": [
                "-- 18. Revenue generated by each pizza type\r\n",
                "SELECT pt.name, SUM(od.quantity * p.price) AS revenue\r\n",
                "FROM order_details od\r\n",
                "JOIN pizzas p ON od.pizza_id = p.pizza_id\r\n",
                "JOIN pizza_types pt ON pt.pizza_type_id = p.pizza_type_id\r\n",
                "GROUP BY pt.name\r\n",
                "ORDER BY revenue DESC;"
            ],
            "metadata": {
                "language": "sql",
                "azdata_cell_guid": "bbc8565b-4dfb-4b30-ae05-ee1da643a096"
            },
            "outputs": [],
            "execution_count": null
        },
        {
            "cell_type": "code",
            "source": [
                "-- 19. Total revenue and quantity for each category\r\n",
                "SELECT pt.category, SUM(od.quantity) AS total_qty, SUM(od.quantity * p.price) AS total_rev\r\n",
                "FROM order_details od\r\n",
                "JOIN pizzas p ON p.pizza_id = od.pizza_id\r\n",
                "JOIN pizza_types pt ON pt.pizza_type_id = p.pizza_type_id\r\n",
                "GROUP  BY pt.category;"
            ],
            "metadata": {
                "language": "sql",
                "azdata_cell_guid": "48952026-e9f5-4e14-9972-69d2378c3f5e",
                "tags": []
            },
            "outputs": [],
            "execution_count": null
        },
        {
            "cell_type": "code",
            "source": [
                "-- 20. Average quantity per order\r\n",
                "SELECT AVG(quantity) AS avg_qty_per_order FROM order_details;"
            ],
            "metadata": {
                "language": "sql",
                "azdata_cell_guid": "d9ea6976-9088-4904-8f98-5e7e32fe4525"
            },
            "outputs": [],
            "execution_count": null
        }
    ]
}