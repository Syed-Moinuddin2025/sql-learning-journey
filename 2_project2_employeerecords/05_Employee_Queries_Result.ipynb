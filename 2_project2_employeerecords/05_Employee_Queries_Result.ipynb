{
    "metadata": {
        "kernelspec": {
            "name": "SQL",
            "display_name": "SQL",
            "language": "sql"
        },
        "language_info": {
            "name": "sql",
            "version": ""
        }
    },
    "nbformat_minor": 2,
    "nbformat": 4,
    "cells": [
        {
            "cell_type": "markdown",
            "source": [
                "\n",
                "# 🧾 Employee Queries Result Notebook\n",
                "\n",
                "This notebook contains a series of basic and intermediate SQL queries executed on the `EmployeesDB` database.\n",
                "\n",
                "**Database Tables Involved:**\n",
                "- Employees\n",
                "- Departments\n",
                "- JobTitles\n",
                "- Salaries\n",
                "- JobAssignments\n",
                "\n",
                "---\n"
            ],
            "metadata": {
                "azdata_cell_guid": "d0e7e2c4-3945-4332-bca0-daa7ab090d20"
            }
        },
        {
            "cell_type": "markdown",
            "source": [
                "### 🔹 View all employees"
            ],
            "metadata": {
                "azdata_cell_guid": "d8f4c80c-9872-4818-b1b4-86e1f72b8a97"
            }
        },
        {
            "cell_type": "code",
            "source": [
                "SELECT * FROM Employees;"
            ],
            "metadata": {
                "azdata_cell_guid": "220e5424-fe03-43fa-8b80-9f55e8e1f752",
                "language": "sql"
            },
            "outputs": [
                {
                    "output_type": "display_data",
                    "data": {
                        "text/html": "(10 rows affected)"
                    },
                    "metadata": {}
                },
                {
                    "output_type": "display_data",
                    "data": {
                        "text/html": "Total execution time: 00:00:00.012"
                    },
                    "metadata": {}
                },
                {
                    "output_type": "execute_result",
                    "metadata": {},
                    "execution_count": 5,
                    "data": {
                        "application/vnd.dataresource+json": {
                            "schema": {
                                "fields": [
                                    {
                                        "name": "EmployeeID"
                                    },
                                    {
                                        "name": "FirstName"
                                    },
                                    {
                                        "name": "LastName"
                                    },
                                    {
                                        "name": "Gender"
                                    },
                                    {
                                        "name": "DateOfBirth"
                                    },
                                    {
                                        "name": "HireDate"
                                    },
                                    {
                                        "name": "DepartmentID"
                                    }
                                ]
                            },
                            "data": [
                                {
                                    "EmployeeID": "101",
                                    "FirstName": "Ali",
                                    "LastName": "Khan",
                                    "Gender": "Male",
                                    "DateOfBirth": "1990-05-12",
                                    "HireDate": "2015-06-01",
                                    "DepartmentID": "1"
                                },
                                {
                                    "EmployeeID": "102",
                                    "FirstName": "Sara",
                                    "LastName": "Ahmed",
                                    "Gender": "Female",
                                    "DateOfBirth": "1988-11-23",
                                    "HireDate": "2016-03-10",
                                    "DepartmentID": "2"
                                },
                                {
                                    "EmployeeID": "103",
                                    "FirstName": "Omar",
                                    "LastName": "Zaid",
                                    "Gender": "Male",
                                    "DateOfBirth": "1992-07-18",
                                    "HireDate": "2018-01-25",
                                    "DepartmentID": "3"
                                },
                                {
                                    "EmployeeID": "104",
                                    "FirstName": "Nadia",
                                    "LastName": "Farooq",
                                    "Gender": "Female",
                                    "DateOfBirth": "1985-03-14",
                                    "HireDate": "2019-08-15",
                                    "DepartmentID": "4"
                                },
                                {
                                    "EmployeeID": "105",
                                    "FirstName": "Hassan",
                                    "LastName": "Raza",
                                    "Gender": "Male",
                                    "DateOfBirth": "1980-09-30",
                                    "HireDate": "2010-09-01",
                                    "DepartmentID": "1"
                                },
                                {
                                    "EmployeeID": "106",
                                    "FirstName": "Ayesha",
                                    "LastName": "Malik",
                                    "Gender": "Female",
                                    "DateOfBirth": "1991-01-11",
                                    "HireDate": "2017-05-20",
                                    "DepartmentID": "5"
                                },
                                {
                                    "EmployeeID": "107",
                                    "FirstName": "Bilal",
                                    "LastName": "Sheikh",
                                    "Gender": "Male",
                                    "DateOfBirth": "1983-12-19",
                                    "HireDate": "2012-11-01",
                                    "DepartmentID": "4"
                                },
                                {
                                    "EmployeeID": "108",
                                    "FirstName": "Zara",
                                    "LastName": "Siddiqui",
                                    "Gender": "Female",
                                    "DateOfBirth": "1995-02-02",
                                    "HireDate": "2020-02-10",
                                    "DepartmentID": "2"
                                },
                                {
                                    "EmployeeID": "109",
                                    "FirstName": "Imran",
                                    "LastName": "Ali",
                                    "Gender": "Male",
                                    "DateOfBirth": "1998-04-22",
                                    "HireDate": "2021-03-15",
                                    "DepartmentID": "3"
                                },
                                {
                                    "EmployeeID": "110",
                                    "FirstName": "Fatima",
                                    "LastName": "Khalid",
                                    "Gender": "Female",
                                    "DateOfBirth": "1994-06-30",
                                    "HireDate": "2022-06-01",
                                    "DepartmentID": "5"
                                }
                            ]
                        },
                        "text/html": [
                            "<table>",
                            "<tr><th>EmployeeID</th><th>FirstName</th><th>LastName</th><th>Gender</th><th>DateOfBirth</th><th>HireDate</th><th>DepartmentID</th></tr>",
                            "<tr><td>101</td><td>Ali</td><td>Khan</td><td>Male</td><td>1990-05-12</td><td>2015-06-01</td><td>1</td></tr>",
                            "<tr><td>102</td><td>Sara</td><td>Ahmed</td><td>Female</td><td>1988-11-23</td><td>2016-03-10</td><td>2</td></tr>",
                            "<tr><td>103</td><td>Omar</td><td>Zaid</td><td>Male</td><td>1992-07-18</td><td>2018-01-25</td><td>3</td></tr>",
                            "<tr><td>104</td><td>Nadia</td><td>Farooq</td><td>Female</td><td>1985-03-14</td><td>2019-08-15</td><td>4</td></tr>",
                            "<tr><td>105</td><td>Hassan</td><td>Raza</td><td>Male</td><td>1980-09-30</td><td>2010-09-01</td><td>1</td></tr>",
                            "<tr><td>106</td><td>Ayesha</td><td>Malik</td><td>Female</td><td>1991-01-11</td><td>2017-05-20</td><td>5</td></tr>",
                            "<tr><td>107</td><td>Bilal</td><td>Sheikh</td><td>Male</td><td>1983-12-19</td><td>2012-11-01</td><td>4</td></tr>",
                            "<tr><td>108</td><td>Zara</td><td>Siddiqui</td><td>Female</td><td>1995-02-02</td><td>2020-02-10</td><td>2</td></tr>",
                            "<tr><td>109</td><td>Imran</td><td>Ali</td><td>Male</td><td>1998-04-22</td><td>2021-03-15</td><td>3</td></tr>",
                            "<tr><td>110</td><td>Fatima</td><td>Khalid</td><td>Female</td><td>1994-06-30</td><td>2022-06-01</td><td>5</td></tr>",
                            "</table>"
                        ]
                    }
                }
            ],
            "execution_count": 5
        },
        {
            "cell_type": "markdown",
            "source": [
                "### 🔹 View all departments"
            ],
            "metadata": {
                "azdata_cell_guid": "cefa8e05-9274-46fa-b2dd-2a8e27cf3e33"
            }
        },
        {
            "cell_type": "code",
            "source": [
                "SELECT * FROM Departments;"
            ],
            "metadata": {
                "azdata_cell_guid": "d482b981-b6fa-4fc7-99c9-336ce6c3b19c",
                "language": "sql"
            },
            "outputs": [
                {
                    "output_type": "display_data",
                    "data": {},
                    "metadata": {}
                },
                {
                    "output_type": "display_data",
                    "data": {},
                    "metadata": {}
                },
                {
                    "output_type": "execute_result",
                    "execution_count": 2,
                    "data": {
                        "application/vnd.dataresource+json": {
                            "schema": {
                                "fields": [
                                    {
                                        "name": "DepartmentID"
                                    },
                                    {
                                        "name": "DepartmentName"
                                    }
                                ]
                            },
                            "data": [
                                {
                                    "DepartmentID": "1",
                                    "DepartmentName": "IT"
                                },
                                {
                                    "DepartmentID": "2",
                                    "DepartmentName": "HR"
                                },
                                {
                                    "DepartmentID": "3",
                                    "DepartmentName": "Sales"
                                },
                                {
                                    "DepartmentID": "4",
                                    "DepartmentName": "Finance"
                                },
                                {
                                    "DepartmentID": "5",
                                    "DepartmentName": "Marketing"
                                }
                            ]
                        },
                        "text/html": "<table><tr><th>DepartmentID</th><th>DepartmentName</th></tr><tr><td>1</td><td>IT</td></tr><tr><td>2</td><td>HR</td></tr><tr><td>3</td><td>Sales</td></tr><tr><td>4</td><td>Finance</td></tr><tr><td>5</td><td>Marketing</td></tr></table>"
                    },
                    "metadata": {}
                }
            ],
            "execution_count": 2
        },
        {
            "cell_type": "markdown",
            "source": [
                "### 🔹 View all job titles"
            ],
            "metadata": {
                "azdata_cell_guid": "80165625-ee97-4146-ad8a-b9e3ceab1f56"
            }
        },
        {
            "cell_type": "code",
            "source": [
                "SELECT * FROM JobTitles;"
            ],
            "metadata": {
                "azdata_cell_guid": "25191814-9ea1-40c8-9e72-cca27cfcf301",
                "language": "sql"
            },
            "outputs": [
                {
                    "output_type": "display_data",
                    "data": {},
                    "metadata": {}
                },
                {
                    "output_type": "display_data",
                    "data": {},
                    "metadata": {}
                },
                {
                    "output_type": "execute_result",
                    "execution_count": 3,
                    "data": {
                        "application/vnd.dataresource+json": {
                            "schema": {
                                "fields": [
                                    {
                                        "name": "JobTitleID"
                                    },
                                    {
                                        "name": "Title"
                                    }
                                ]
                            },
                            "data": [
                                {
                                    "JobTitleID": "1",
                                    "Title": "Software Engineer"
                                },
                                {
                                    "JobTitleID": "2",
                                    "Title": "HR Manager"
                                },
                                {
                                    "JobTitleID": "3",
                                    "Title": "Sales Executive"
                                },
                                {
                                    "JobTitleID": "4",
                                    "Title": "Accountant"
                                },
                                {
                                    "JobTitleID": "5",
                                    "Title": "Senior Developer"
                                },
                                {
                                    "JobTitleID": "6",
                                    "Title": "Marketing Specialist"
                                },
                                {
                                    "JobTitleID": "7",
                                    "Title": "Finance Manager"
                                },
                                {
                                    "JobTitleID": "8",
                                    "Title": "HR Assistant"
                                },
                                {
                                    "JobTitleID": "9",
                                    "Title": "Sales Trainee"
                                },
                                {
                                    "JobTitleID": "10",
                                    "Title": "Content Creator"
                                },
                                {
                                    "JobTitleID": "11",
                                    "Title": "HR Executive"
                                },
                                {
                                    "JobTitleID": "12",
                                    "Title": "Team Lead"
                                },
                                {
                                    "JobTitleID": "13",
                                    "Title": "Sales Manager"
                                },
                                {
                                    "JobTitleID": "14",
                                    "Title": "Junior Accountant"
                                },
                                {
                                    "JobTitleID": "15",
                                    "Title": "Brand Strategist"
                                }
                            ]
                        },
                        "text/html": "<table><tr><th>JobTitleID</th><th>Title</th></tr><tr><td>1</td><td>Software Engineer</td></tr><tr><td>2</td><td>HR Manager</td></tr><tr><td>3</td><td>Sales Executive</td></tr><tr><td>4</td><td>Accountant</td></tr><tr><td>5</td><td>Senior Developer</td></tr><tr><td>6</td><td>Marketing Specialist</td></tr><tr><td>7</td><td>Finance Manager</td></tr><tr><td>8</td><td>HR Assistant</td></tr><tr><td>9</td><td>Sales Trainee</td></tr><tr><td>10</td><td>Content Creator</td></tr><tr><td>11</td><td>HR Executive</td></tr><tr><td>12</td><td>Team Lead</td></tr><tr><td>13</td><td>Sales Manager</td></tr><tr><td>14</td><td>Junior Accountant</td></tr><tr><td>15</td><td>Brand Strategist</td></tr></table>"
                    },
                    "metadata": {}
                }
            ],
            "execution_count": 3
        },
        {
            "cell_type": "markdown",
            "source": [
                "### 🔹 View all salaries"
            ],
            "metadata": {
                "azdata_cell_guid": "d552e721-0229-4509-8e0c-868cb700ad20"
            }
        },
        {
            "cell_type": "code",
            "source": [
                "SELECT * FROM Salaries;"
            ],
            "metadata": {
                "azdata_cell_guid": "534b0465-daf3-4c89-b956-c18d8adf937b",
                "language": "sql"
            },
            "outputs": [
                {
                    "output_type": "display_data",
                    "data": {},
                    "metadata": {}
                },
                {
                    "output_type": "display_data",
                    "data": {},
                    "metadata": {}
                },
                {
                    "output_type": "execute_result",
                    "execution_count": 4,
                    "data": {
                        "application/vnd.dataresource+json": {
                            "schema": {
                                "fields": [
                                    {
                                        "name": "EmployeeID"
                                    },
                                    {
                                        "name": "BasicSalary"
                                    },
                                    {
                                        "name": "Allowance"
                                    },
                                    {
                                        "name": "Deductions"
                                    }
                                ]
                            },
                            "data": [
                                {
                                    "EmployeeID": "101",
                                    "BasicSalary": "70000.00",
                                    "Allowance": "5000.00",
                                    "Deductions": "2000.00"
                                },
                                {
                                    "EmployeeID": "102",
                                    "BasicSalary": "60000.00",
                                    "Allowance": "4000.00",
                                    "Deductions": "1500.00"
                                },
                                {
                                    "EmployeeID": "103",
                                    "BasicSalary": "55000.00",
                                    "Allowance": "3500.00",
                                    "Deductions": "1200.00"
                                },
                                {
                                    "EmployeeID": "104",
                                    "BasicSalary": "50000.00",
                                    "Allowance": "3000.00",
                                    "Deductions": "1000.00"
                                },
                                {
                                    "EmployeeID": "105",
                                    "BasicSalary": "80000.00",
                                    "Allowance": "6000.00",
                                    "Deductions": "2500.00"
                                },
                                {
                                    "EmployeeID": "106",
                                    "BasicSalary": "45000.00",
                                    "Allowance": "2500.00",
                                    "Deductions": "900.00"
                                },
                                {
                                    "EmployeeID": "107",
                                    "BasicSalary": "65000.00",
                                    "Allowance": "4500.00",
                                    "Deductions": "1800.00"
                                },
                                {
                                    "EmployeeID": "108",
                                    "BasicSalary": "40000.00",
                                    "Allowance": "2000.00",
                                    "Deductions": "700.00"
                                },
                                {
                                    "EmployeeID": "109",
                                    "BasicSalary": "35000.00",
                                    "Allowance": "1500.00",
                                    "Deductions": "600.00"
                                },
                                {
                                    "EmployeeID": "110",
                                    "BasicSalary": "42000.00",
                                    "Allowance": "2200.00",
                                    "Deductions": "800.00"
                                }
                            ]
                        },
                        "text/html": "<table><tr><th>EmployeeID</th><th>BasicSalary</th><th>Allowance</th><th>Deductions</th></tr><tr><td>101</td><td>70000.00</td><td>5000.00</td><td>2000.00</td></tr><tr><td>102</td><td>60000.00</td><td>4000.00</td><td>1500.00</td></tr><tr><td>103</td><td>55000.00</td><td>3500.00</td><td>1200.00</td></tr><tr><td>104</td><td>50000.00</td><td>3000.00</td><td>1000.00</td></tr><tr><td>105</td><td>80000.00</td><td>6000.00</td><td>2500.00</td></tr><tr><td>106</td><td>45000.00</td><td>2500.00</td><td>900.00</td></tr><tr><td>107</td><td>65000.00</td><td>4500.00</td><td>1800.00</td></tr><tr><td>108</td><td>40000.00</td><td>2000.00</td><td>700.00</td></tr><tr><td>109</td><td>35000.00</td><td>1500.00</td><td>600.00</td></tr><tr><td>110</td><td>42000.00</td><td>2200.00</td><td>800.00</td></tr></table>"
                    },
                    "metadata": {}
                }
            ],
            "execution_count": 4
        },
        {
            "cell_type": "markdown",
            "source": [
                "### 🔹 Join: Employees with Departments"
            ],
            "metadata": {
                "azdata_cell_guid": "b348c57c-bae1-4956-a1ce-05c08372f190"
            }
        },
        {
            "cell_type": "code",
            "source": [
                "\n",
                "SELECT \n",
                "    E.FirstName + ' ' + E.LastName AS FullName,\n",
                "    D.DepartmentName\n",
                "FROM Employees E\n",
                "JOIN Departments D ON E.DepartmentID = D.DepartmentID;\n"
            ],
            "metadata": {
                "azdata_cell_guid": "88bae029-b267-40cc-8312-6c6ac674bca3",
                "language": "sql"
            },
            "outputs": [
                {
                    "output_type": "display_data",
                    "data": {},
                    "metadata": {}
                },
                {
                    "output_type": "display_data",
                    "data": {},
                    "metadata": {}
                },
                {
                    "output_type": "execute_result",
                    "execution_count": 5,
                    "data": {
                        "application/vnd.dataresource+json": {
                            "schema": {
                                "fields": [
                                    {
                                        "name": "FullName"
                                    },
                                    {
                                        "name": "DepartmentName"
                                    }
                                ]
                            },
                            "data": [
                                {
                                    "FullName": "Ali Khan",
                                    "DepartmentName": "IT"
                                },
                                {
                                    "FullName": "Sara Ahmed",
                                    "DepartmentName": "HR"
                                },
                                {
                                    "FullName": "Omar Zaid",
                                    "DepartmentName": "Sales"
                                },
                                {
                                    "FullName": "Nadia Farooq",
                                    "DepartmentName": "Finance"
                                },
                                {
                                    "FullName": "Hassan Raza",
                                    "DepartmentName": "IT"
                                },
                                {
                                    "FullName": "Ayesha Malik",
                                    "DepartmentName": "Marketing"
                                },
                                {
                                    "FullName": "Bilal Sheikh",
                                    "DepartmentName": "Finance"
                                },
                                {
                                    "FullName": "Zara Siddiqui",
                                    "DepartmentName": "HR"
                                },
                                {
                                    "FullName": "Imran Ali",
                                    "DepartmentName": "Sales"
                                },
                                {
                                    "FullName": "Fatima Khalid",
                                    "DepartmentName": "Marketing"
                                }
                            ]
                        },
                        "text/html": "<table><tr><th>FullName</th><th>DepartmentName</th></tr><tr><td>Ali Khan</td><td>IT</td></tr><tr><td>Sara Ahmed</td><td>HR</td></tr><tr><td>Omar Zaid</td><td>Sales</td></tr><tr><td>Nadia Farooq</td><td>Finance</td></tr><tr><td>Hassan Raza</td><td>IT</td></tr><tr><td>Ayesha Malik</td><td>Marketing</td></tr><tr><td>Bilal Sheikh</td><td>Finance</td></tr><tr><td>Zara Siddiqui</td><td>HR</td></tr><tr><td>Imran Ali</td><td>Sales</td></tr><tr><td>Fatima Khalid</td><td>Marketing</td></tr></table>"
                    },
                    "metadata": {}
                }
            ],
            "execution_count": 5
        },
        {
            "cell_type": "markdown",
            "source": [
                "### 🔹 Join: Employees with Job Titles (via JobAssignments)"
            ],
            "metadata": {
                "azdata_cell_guid": "677b3a00-41d1-462d-b54b-e05c90975226"
            }
        },
        {
            "cell_type": "code",
            "source": [
                "\n",
                "SELECT \n",
                "    E.FirstName + ' ' + E.LastName AS FullName,\n",
                "    J.Title\n",
                "FROM Employees E\n",
                "JOIN JobAssignments A ON E.EmployeeID = A.EmployeeID\n",
                "JOIN JobTitles J ON A.JobTitleID = J.JobTitleID;\n"
            ],
            "metadata": {
                "azdata_cell_guid": "10ea606a-3e4a-4364-ba1c-01ad49daf9eb",
                "language": "sql"
            },
            "outputs": [
                {
                    "output_type": "display_data",
                    "data": {},
                    "metadata": {}
                },
                {
                    "output_type": "display_data",
                    "data": {},
                    "metadata": {}
                },
                {
                    "output_type": "execute_result",
                    "execution_count": 6,
                    "data": {
                        "application/vnd.dataresource+json": {
                            "schema": {
                                "fields": [
                                    {
                                        "name": "FullName"
                                    },
                                    {
                                        "name": "Title"
                                    }
                                ]
                            },
                            "data": [
                                {
                                    "FullName": "Ali Khan",
                                    "Title": "Software Engineer"
                                },
                                {
                                    "FullName": "Sara Ahmed",
                                    "Title": "HR Manager"
                                },
                                {
                                    "FullName": "Omar Zaid",
                                    "Title": "Sales Executive"
                                },
                                {
                                    "FullName": "Nadia Farooq",
                                    "Title": "Accountant"
                                },
                                {
                                    "FullName": "Hassan Raza",
                                    "Title": "Senior Developer"
                                },
                                {
                                    "FullName": "Ayesha Malik",
                                    "Title": "Marketing Specialist"
                                },
                                {
                                    "FullName": "Bilal Sheikh",
                                    "Title": "Finance Manager"
                                },
                                {
                                    "FullName": "Zara Siddiqui",
                                    "Title": "HR Assistant"
                                },
                                {
                                    "FullName": "Imran Ali",
                                    "Title": "Sales Trainee"
                                },
                                {
                                    "FullName": "Fatima Khalid",
                                    "Title": "Content Creator"
                                }
                            ]
                        },
                        "text/html": "<table><tr><th>FullName</th><th>Title</th></tr><tr><td>Ali Khan</td><td>Software Engineer</td></tr><tr><td>Sara Ahmed</td><td>HR Manager</td></tr><tr><td>Omar Zaid</td><td>Sales Executive</td></tr><tr><td>Nadia Farooq</td><td>Accountant</td></tr><tr><td>Hassan Raza</td><td>Senior Developer</td></tr><tr><td>Ayesha Malik</td><td>Marketing Specialist</td></tr><tr><td>Bilal Sheikh</td><td>Finance Manager</td></tr><tr><td>Zara Siddiqui</td><td>HR Assistant</td></tr><tr><td>Imran Ali</td><td>Sales Trainee</td></tr><tr><td>Fatima Khalid</td><td>Content Creator</td></tr></table>"
                    },
                    "metadata": {}
                }
            ],
            "execution_count": 6
        },
        {
            "cell_type": "markdown",
            "source": [
                "### 🔹 Join: Employees with Salaries"
            ],
            "metadata": {
                "azdata_cell_guid": "abd99164-942e-406a-aef2-1e9f538c844a"
            }
        },
        {
            "cell_type": "code",
            "source": [
                "\n",
                "SELECT \n",
                "    E.FirstName + ' ' + E.LastName AS FullName,\n",
                "    S.BasicSalary, S.Allowance, S.Deductions,\n",
                "    (S.BasicSalary + S.Allowance - S.Deductions) AS NetPay\n",
                "FROM Employees E\n",
                "JOIN Salaries S ON E.EmployeeID = S.EmployeeID;\n"
            ],
            "metadata": {
                "azdata_cell_guid": "459c8dda-acb9-4cd0-838c-9d0bb3bf433f",
                "language": "sql"
            },
            "outputs": [
                {
                    "output_type": "display_data",
                    "data": {},
                    "metadata": {}
                },
                {
                    "output_type": "display_data",
                    "data": {
                        "text/html": "Total execution time: 00:00:00.021"
                    },
                    "metadata": {}
                },
                {
                    "output_type": "execute_result",
                    "execution_count": 7,
                    "data": {
                        "application/vnd.dataresource+json": {
                            "schema": {
                                "fields": [
                                    {
                                        "name": "FullName"
                                    },
                                    {
                                        "name": "BasicSalary"
                                    },
                                    {
                                        "name": "Allowance"
                                    },
                                    {
                                        "name": "Deductions"
                                    },
                                    {
                                        "name": "NetPay"
                                    }
                                ]
                            },
                            "data": [
                                {
                                    "FullName": "Ali Khan",
                                    "BasicSalary": "70000.00",
                                    "Allowance": "5000.00",
                                    "Deductions": "2000.00",
                                    "NetPay": "73000.00"
                                },
                                {
                                    "FullName": "Sara Ahmed",
                                    "BasicSalary": "60000.00",
                                    "Allowance": "4000.00",
                                    "Deductions": "1500.00",
                                    "NetPay": "62500.00"
                                },
                                {
                                    "FullName": "Omar Zaid",
                                    "BasicSalary": "55000.00",
                                    "Allowance": "3500.00",
                                    "Deductions": "1200.00",
                                    "NetPay": "57300.00"
                                },
                                {
                                    "FullName": "Nadia Farooq",
                                    "BasicSalary": "50000.00",
                                    "Allowance": "3000.00",
                                    "Deductions": "1000.00",
                                    "NetPay": "52000.00"
                                },
                                {
                                    "FullName": "Hassan Raza",
                                    "BasicSalary": "80000.00",
                                    "Allowance": "6000.00",
                                    "Deductions": "2500.00",
                                    "NetPay": "83500.00"
                                },
                                {
                                    "FullName": "Ayesha Malik",
                                    "BasicSalary": "45000.00",
                                    "Allowance": "2500.00",
                                    "Deductions": "900.00",
                                    "NetPay": "46600.00"
                                },
                                {
                                    "FullName": "Bilal Sheikh",
                                    "BasicSalary": "65000.00",
                                    "Allowance": "4500.00",
                                    "Deductions": "1800.00",
                                    "NetPay": "67700.00"
                                },
                                {
                                    "FullName": "Zara Siddiqui",
                                    "BasicSalary": "40000.00",
                                    "Allowance": "2000.00",
                                    "Deductions": "700.00",
                                    "NetPay": "41300.00"
                                },
                                {
                                    "FullName": "Imran Ali",
                                    "BasicSalary": "35000.00",
                                    "Allowance": "1500.00",
                                    "Deductions": "600.00",
                                    "NetPay": "35900.00"
                                },
                                {
                                    "FullName": "Fatima Khalid",
                                    "BasicSalary": "42000.00",
                                    "Allowance": "2200.00",
                                    "Deductions": "800.00",
                                    "NetPay": "43400.00"
                                }
                            ]
                        },
                        "text/html": "<table><tr><th>FullName</th><th>BasicSalary</th><th>Allowance</th><th>Deductions</th><th>NetPay</th></tr><tr><td>Ali Khan</td><td>70000.00</td><td>5000.00</td><td>2000.00</td><td>73000.00</td></tr><tr><td>Sara Ahmed</td><td>60000.00</td><td>4000.00</td><td>1500.00</td><td>62500.00</td></tr><tr><td>Omar Zaid</td><td>55000.00</td><td>3500.00</td><td>1200.00</td><td>57300.00</td></tr><tr><td>Nadia Farooq</td><td>50000.00</td><td>3000.00</td><td>1000.00</td><td>52000.00</td></tr><tr><td>Hassan Raza</td><td>80000.00</td><td>6000.00</td><td>2500.00</td><td>83500.00</td></tr><tr><td>Ayesha Malik</td><td>45000.00</td><td>2500.00</td><td>900.00</td><td>46600.00</td></tr><tr><td>Bilal Sheikh</td><td>65000.00</td><td>4500.00</td><td>1800.00</td><td>67700.00</td></tr><tr><td>Zara Siddiqui</td><td>40000.00</td><td>2000.00</td><td>700.00</td><td>41300.00</td></tr><tr><td>Imran Ali</td><td>35000.00</td><td>1500.00</td><td>600.00</td><td>35900.00</td></tr><tr><td>Fatima Khalid</td><td>42000.00</td><td>2200.00</td><td>800.00</td><td>43400.00</td></tr></table>"
                    },
                    "metadata": {}
                }
            ],
            "execution_count": 7
        },
        {
            "cell_type": "markdown",
            "source": [
                "### 🔹 Department-wise highest salary"
            ],
            "metadata": {
                "azdata_cell_guid": "032ac85b-0740-49d5-b728-3212805035b5"
            }
        },
        {
            "cell_type": "code",
            "source": [
                "\n",
                "SELECT \n",
                "    D.DepartmentName,\n",
                "    MAX(S.BasicSalary + S.Allowance - S.Deductions) AS HighestNetSalary\n",
                "FROM Employees E\n",
                "JOIN Salaries S ON E.EmployeeID = S.EmployeeID\n",
                "JOIN Departments D ON E.DepartmentID = D.DepartmentID\n",
                "GROUP BY D.DepartmentName;\n"
            ],
            "metadata": {
                "azdata_cell_guid": "ca834722-3efc-4413-889f-3f9d9bb9114c",
                "language": "sql"
            },
            "outputs": [
                {
                    "output_type": "display_data",
                    "data": {},
                    "metadata": {}
                },
                {
                    "output_type": "display_data",
                    "data": {},
                    "metadata": {}
                },
                {
                    "output_type": "execute_result",
                    "execution_count": 8,
                    "data": {
                        "application/vnd.dataresource+json": {
                            "schema": {
                                "fields": [
                                    {
                                        "name": "DepartmentName"
                                    },
                                    {
                                        "name": "HighestNetSalary"
                                    }
                                ]
                            },
                            "data": [
                                {
                                    "DepartmentName": "Finance",
                                    "HighestNetSalary": "67700.00"
                                },
                                {
                                    "DepartmentName": "HR",
                                    "HighestNetSalary": "62500.00"
                                },
                                {
                                    "DepartmentName": "IT",
                                    "HighestNetSalary": "83500.00"
                                },
                                {
                                    "DepartmentName": "Marketing",
                                    "HighestNetSalary": "46600.00"
                                },
                                {
                                    "DepartmentName": "Sales",
                                    "HighestNetSalary": "57300.00"
                                }
                            ]
                        },
                        "text/html": "<table><tr><th>DepartmentName</th><th>HighestNetSalary</th></tr><tr><td>Finance</td><td>67700.00</td></tr><tr><td>HR</td><td>62500.00</td></tr><tr><td>IT</td><td>83500.00</td></tr><tr><td>Marketing</td><td>46600.00</td></tr><tr><td>Sales</td><td>57300.00</td></tr></table>"
                    },
                    "metadata": {}
                }
            ],
            "execution_count": 8
        },
        {
            "cell_type": "markdown",
            "source": [
                "### 🔹 List all employees hired after 2015"
            ],
            "metadata": {
                "azdata_cell_guid": "81c5d54b-db54-432a-a924-355752c50fb1"
            }
        },
        {
            "cell_type": "code",
            "source": [
                "\n",
                "SELECT FirstName, LastName, HireDate\n",
                "FROM Employees\n",
                "WHERE HireDate > '2015-01-01';\n"
            ],
            "metadata": {
                "azdata_cell_guid": "c9a8486a-457f-4751-9a9d-9573a781a3fa",
                "language": "sql"
            },
            "outputs": [
                {
                    "output_type": "display_data",
                    "data": {},
                    "metadata": {}
                },
                {
                    "output_type": "display_data",
                    "data": {},
                    "metadata": {}
                },
                {
                    "output_type": "execute_result",
                    "execution_count": 9,
                    "data": {
                        "application/vnd.dataresource+json": {
                            "schema": {
                                "fields": [
                                    {
                                        "name": "FirstName"
                                    },
                                    {
                                        "name": "LastName"
                                    },
                                    {
                                        "name": "HireDate"
                                    }
                                ]
                            },
                            "data": [
                                {
                                    "FirstName": "Ali",
                                    "LastName": "Khan",
                                    "HireDate": "2015-06-01"
                                },
                                {
                                    "FirstName": "Sara",
                                    "LastName": "Ahmed",
                                    "HireDate": "2016-03-10"
                                },
                                {
                                    "FirstName": "Omar",
                                    "LastName": "Zaid",
                                    "HireDate": "2018-01-25"
                                },
                                {
                                    "FirstName": "Nadia",
                                    "LastName": "Farooq",
                                    "HireDate": "2019-08-15"
                                },
                                {
                                    "FirstName": "Ayesha",
                                    "LastName": "Malik",
                                    "HireDate": "2017-05-20"
                                },
                                {
                                    "FirstName": "Zara",
                                    "LastName": "Siddiqui",
                                    "HireDate": "2020-02-10"
                                },
                                {
                                    "FirstName": "Imran",
                                    "LastName": "Ali",
                                    "HireDate": "2021-03-15"
                                },
                                {
                                    "FirstName": "Fatima",
                                    "LastName": "Khalid",
                                    "HireDate": "2022-06-01"
                                }
                            ]
                        },
                        "text/html": "<table><tr><th>FirstName</th><th>LastName</th><th>HireDate</th></tr><tr><td>Ali</td><td>Khan</td><td>2015-06-01</td></tr><tr><td>Sara</td><td>Ahmed</td><td>2016-03-10</td></tr><tr><td>Omar</td><td>Zaid</td><td>2018-01-25</td></tr><tr><td>Nadia</td><td>Farooq</td><td>2019-08-15</td></tr><tr><td>Ayesha</td><td>Malik</td><td>2017-05-20</td></tr><tr><td>Zara</td><td>Siddiqui</td><td>2020-02-10</td></tr><tr><td>Imran</td><td>Ali</td><td>2021-03-15</td></tr><tr><td>Fatima</td><td>Khalid</td><td>2022-06-01</td></tr></table>"
                    },
                    "metadata": {}
                }
            ],
            "execution_count": 9
        },
        {
            "cell_type": "markdown",
            "source": [
                "### 🔹 Count of employees per department"
            ],
            "metadata": {
                "azdata_cell_guid": "1fb08119-059b-46b1-b8cc-5264cc50b18d"
            }
        },
        {
            "cell_type": "code",
            "source": [
                "\n",
                "SELECT D.DepartmentName, COUNT(*) AS EmployeeCount\n",
                "FROM Employees E\n",
                "JOIN Departments D ON E.DepartmentID = D.DepartmentID\n",
                "GROUP BY D.DepartmentName;\n"
            ],
            "metadata": {
                "azdata_cell_guid": "dbc56b22-e6b2-46c2-8c84-2d832d59b5b7",
                "language": "sql"
            },
            "outputs": [
                {
                    "output_type": "display_data",
                    "data": {},
                    "metadata": {}
                },
                {
                    "output_type": "display_data",
                    "data": {},
                    "metadata": {}
                },
                {
                    "output_type": "execute_result",
                    "execution_count": 10,
                    "data": {
                        "application/vnd.dataresource+json": {
                            "schema": {
                                "fields": [
                                    {
                                        "name": "DepartmentName"
                                    },
                                    {
                                        "name": "EmployeeCount"
                                    }
                                ]
                            },
                            "data": [
                                {
                                    "DepartmentName": "Finance",
                                    "EmployeeCount": "2"
                                },
                                {
                                    "DepartmentName": "HR",
                                    "EmployeeCount": "2"
                                },
                                {
                                    "DepartmentName": "IT",
                                    "EmployeeCount": "2"
                                },
                                {
                                    "DepartmentName": "Marketing",
                                    "EmployeeCount": "2"
                                },
                                {
                                    "DepartmentName": "Sales",
                                    "EmployeeCount": "2"
                                }
                            ]
                        },
                        "text/html": "<table><tr><th>DepartmentName</th><th>EmployeeCount</th></tr><tr><td>Finance</td><td>2</td></tr><tr><td>HR</td><td>2</td></tr><tr><td>IT</td><td>2</td></tr><tr><td>Marketing</td><td>2</td></tr><tr><td>Sales</td><td>2</td></tr></table>"
                    },
                    "metadata": {}
                }
            ],
            "execution_count": 10
        },
        {
            "cell_type": "markdown",
            "source": [
                "### 🔹 Average salary per department"
            ],
            "metadata": {
                "azdata_cell_guid": "8c02d5e5-7c0d-4d34-b841-ee4e21cdf93a"
            }
        },
        {
            "cell_type": "code",
            "source": [
                "\n",
                "SELECT D.DepartmentName, AVG(S.BasicSalary) AS AvgSalary\n",
                "FROM Employees E\n",
                "JOIN Salaries S ON E.EmployeeID = S.EmployeeID\n",
                "JOIN Departments D ON E.DepartmentID = D.DepartmentID\n",
                "GROUP BY D.DepartmentName;\n"
            ],
            "metadata": {
                "azdata_cell_guid": "610241eb-3137-4c9b-91a2-77ad7960e365",
                "language": "sql"
            },
            "outputs": [
                {
                    "output_type": "display_data",
                    "data": {},
                    "metadata": {}
                },
                {
                    "output_type": "display_data",
                    "data": {},
                    "metadata": {}
                },
                {
                    "output_type": "execute_result",
                    "execution_count": 11,
                    "data": {
                        "application/vnd.dataresource+json": {
                            "schema": {
                                "fields": [
                                    {
                                        "name": "DepartmentName"
                                    },
                                    {
                                        "name": "AvgSalary"
                                    }
                                ]
                            },
                            "data": [
                                {
                                    "DepartmentName": "Finance",
                                    "AvgSalary": "57500.000000"
                                },
                                {
                                    "DepartmentName": "HR",
                                    "AvgSalary": "50000.000000"
                                },
                                {
                                    "DepartmentName": "IT",
                                    "AvgSalary": "75000.000000"
                                },
                                {
                                    "DepartmentName": "Marketing",
                                    "AvgSalary": "43500.000000"
                                },
                                {
                                    "DepartmentName": "Sales",
                                    "AvgSalary": "45000.000000"
                                }
                            ]
                        },
                        "text/html": "<table><tr><th>DepartmentName</th><th>AvgSalary</th></tr><tr><td>Finance</td><td>57500.000000</td></tr><tr><td>HR</td><td>50000.000000</td></tr><tr><td>IT</td><td>75000.000000</td></tr><tr><td>Marketing</td><td>43500.000000</td></tr><tr><td>Sales</td><td>45000.000000</td></tr></table>"
                    },
                    "metadata": {}
                }
            ],
            "execution_count": 11
        },
        {
            "cell_type": "markdown",
            "source": [
                "### 🔹 Employees without assigned job titles"
            ],
            "metadata": {
                "azdata_cell_guid": "8985667a-97fa-454b-b342-6cc63ec78dce"
            }
        },
        {
            "cell_type": "code",
            "source": [
                "\n",
                "SELECT E.EmployeeID, E.FirstName, E.LastName\n",
                "FROM Employees E\n",
                "LEFT JOIN JobAssignments A ON E.EmployeeID = A.EmployeeID\n",
                "WHERE A.JobTitleID IS NULL;\n"
            ],
            "metadata": {
                "azdata_cell_guid": "4c8a103f-5be1-4132-aa0b-6ee7b06a9556",
                "language": "sql"
            },
            "outputs": [
                {
                    "output_type": "display_data",
                    "data": {},
                    "metadata": {}
                },
                {
                    "output_type": "display_data",
                    "data": {},
                    "metadata": {}
                },
                {
                    "output_type": "execute_result",
                    "execution_count": 12,
                    "data": {
                        "application/vnd.dataresource+json": {
                            "schema": {
                                "fields": [
                                    {
                                        "name": "EmployeeID"
                                    },
                                    {
                                        "name": "FirstName"
                                    },
                                    {
                                        "name": "LastName"
                                    }
                                ]
                            },
                            "data": []
                        },
                        "text/html": "<table><tr><th>EmployeeID</th><th>FirstName</th><th>LastName</th></tr></table>"
                    },
                    "metadata": {}
                }
            ],
            "execution_count": 12
        },
        {
            "cell_type": "markdown",
            "source": [
                "### 🔹 Employees with multiple job titles"
            ],
            "metadata": {
                "azdata_cell_guid": "2ba56725-2073-4fb0-a25f-493b7323a258"
            }
        },
        {
            "cell_type": "code",
            "source": [
                "\n",
                "SELECT A.EmployeeID, COUNT(*) AS TitleCount\n",
                "FROM JobAssignments A\n",
                "GROUP BY A.EmployeeID\n",
                "HAVING COUNT(*) > 1;\n"
            ],
            "metadata": {
                "azdata_cell_guid": "da13dae0-2639-48e2-9493-7f6ae236bfdc",
                "language": "sql"
            },
            "outputs": [
                {
                    "output_type": "display_data",
                    "data": {
                        "text/html": "(0 rows affected)"
                    },
                    "metadata": {}
                },
                {
                    "output_type": "display_data",
                    "data": {},
                    "metadata": {}
                },
                {
                    "output_type": "execute_result",
                    "execution_count": 13,
                    "data": {
                        "application/vnd.dataresource+json": {
                            "schema": {
                                "fields": [
                                    {
                                        "name": "EmployeeID"
                                    },
                                    {
                                        "name": "TitleCount"
                                    }
                                ]
                            },
                            "data": []
                        },
                        "text/html": "<table><tr><th>EmployeeID</th><th>TitleCount</th></tr></table>"
                    },
                    "metadata": {}
                }
            ],
            "execution_count": 13
        }
    ]
}