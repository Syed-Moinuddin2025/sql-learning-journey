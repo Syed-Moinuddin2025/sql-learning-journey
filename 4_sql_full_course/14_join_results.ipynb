{
    "metadata": {
        "kernelspec": {
            "name": "SQL",
            "display_name": "SQL",
            "language": "sql"
        },
        "language_info": {
            "name": "sql",
            "version": ""
        }
    },
    "nbformat_minor": 2,
    "nbformat": 4,
    "cells": [
        {
            "cell_type": "markdown",
            "source": [
                "### <span style=\"color: #008000;\">-- 1. List all orders with customer names and countries</span>"
            ],
            "metadata": {
                "language": "sql",
                "azdata_cell_guid": "c68c52ef-818f-4cce-a771-4c6f30cd9dac"
            },
            "attachments": {}
        },
        {
            "cell_type": "code",
            "source": [
                "SELECT o.order_id, o.order_date, o.sales,\r\n",
                "       c.first_name, c.country\r\n",
                "FROM orders o\r\n",
                "JOIN customers c ON o.customer_id = c.id\r\n",
                "ORDER BY o.order_date;"
            ],
            "metadata": {
                "azdata_cell_guid": "e2c5cdd8-d147-4a6c-bb24-42e938143a84",
                "language": "sql"
            },
            "outputs": [
                {
                    "output_type": "display_data",
                    "data": {
                        "text/html": "(20 rows affected)"
                    },
                    "metadata": {}
                },
                {
                    "output_type": "display_data",
                    "data": {
                        "text/html": "Total execution time: 00:00:00.006"
                    },
                    "metadata": {}
                },
                {
                    "output_type": "execute_result",
                    "metadata": {},
                    "execution_count": 1,
                    "data": {
                        "application/vnd.dataresource+json": {
                            "schema": {
                                "fields": [
                                    {
                                        "name": "order_id"
                                    },
                                    {
                                        "name": "order_date"
                                    },
                                    {
                                        "name": "sales"
                                    },
                                    {
                                        "name": "first_name"
                                    },
                                    {
                                        "name": "country"
                                    }
                                ]
                            },
                            "data": [
                                {
                                    "order_id": "1006",
                                    "order_date": "2021-01-11",
                                    "sales": "199",
                                    "first_name": "Maria",
                                    "country": "Germany"
                                },
                                {
                                    "order_id": "1001",
                                    "order_date": "2021-01-11",
                                    "sales": "135",
                                    "first_name": "Maria",
                                    "country": "Germany"
                                },
                                {
                                    "order_id": "1002",
                                    "order_date": "2021-04-05",
                                    "sales": "305",
                                    "first_name": "John",
                                    "country": "USA"
                                },
                                {
                                    "order_id": "1007",
                                    "order_date": "2021-04-05",
                                    "sales": "135",
                                    "first_name": "John",
                                    "country": "USA"
                                },
                                {
                                    "order_id": "1008",
                                    "order_date": "2021-06-18",
                                    "sales": "115",
                                    "first_name": "Georg",
                                    "country": "UK"
                                },
                                {
                                    "order_id": "1003",
                                    "order_date": "2021-06-18",
                                    "sales": "175",
                                    "first_name": "Georg",
                                    "country": "UK"
                                },
                                {
                                    "order_id": "1004",
                                    "order_date": "2021-08-31",
                                    "sales": "140",
                                    "first_name": "Alice",
                                    "country": "Canada"
                                },
                                {
                                    "order_id": "1009",
                                    "order_date": "2021-08-31",
                                    "sales": "170",
                                    "first_name": "Alice",
                                    "country": "Canada"
                                },
                                {
                                    "order_id": "1010",
                                    "order_date": "2021-09-15",
                                    "sales": "210",
                                    "first_name": "John",
                                    "country": "USA"
                                },
                                {
                                    "order_id": "1016",
                                    "order_date": "2021-10-03",
                                    "sales": "180",
                                    "first_name": "Maria",
                                    "country": "Germany"
                                },
                                {
                                    "order_id": "1017",
                                    "order_date": "2021-11-21",
                                    "sales": "200",
                                    "first_name": "Peter",
                                    "country": "USA"
                                },
                                {
                                    "order_id": "1018",
                                    "order_date": "2021-12-05",
                                    "sales": "220",
                                    "first_name": "Martin",
                                    "country": "Germany"
                                },
                                {
                                    "order_id": "1019",
                                    "order_date": "2022-01-10",
                                    "sales": "240",
                                    "first_name": "Georg",
                                    "country": "UK"
                                },
                                {
                                    "order_id": "1020",
                                    "order_date": "2022-02-14",
                                    "sales": "260",
                                    "first_name": "Alice",
                                    "country": "Canada"
                                },
                                {
                                    "order_id": "1021",
                                    "order_date": "2022-03-14",
                                    "sales": "280",
                                    "first_name": "John",
                                    "country": "USA"
                                },
                                {
                                    "order_id": "1011",
                                    "order_date": "2022-03-20",
                                    "sales": "225",
                                    "first_name": "Maria",
                                    "country": "Germany"
                                },
                                {
                                    "order_id": "1012",
                                    "order_date": "2022-04-25",
                                    "sales": "350",
                                    "first_name": "John",
                                    "country": "USA"
                                },
                                {
                                    "order_id": "1013",
                                    "order_date": "2022-06-01",
                                    "sales": "305",
                                    "first_name": "Peter",
                                    "country": "USA"
                                },
                                {
                                    "order_id": "1014",
                                    "order_date": "2022-07-09",
                                    "sales": "140",
                                    "first_name": "Martin",
                                    "country": "Germany"
                                },
                                {
                                    "order_id": "1015",
                                    "order_date": "2022-08-17",
                                    "sales": "160",
                                    "first_name": "Georg",
                                    "country": "UK"
                                }
                            ]
                        },
                        "text/html": [
                            "<table>",
                            "<tr><th>order_id</th><th>order_date</th><th>sales</th><th>first_name</th><th>country</th></tr>",
                            "<tr><td>1006</td><td>2021-01-11</td><td>199</td><td>Maria</td><td>Germany</td></tr>",
                            "<tr><td>1001</td><td>2021-01-11</td><td>135</td><td>Maria</td><td>Germany</td></tr>",
                            "<tr><td>1002</td><td>2021-04-05</td><td>305</td><td>John</td><td>USA</td></tr>",
                            "<tr><td>1007</td><td>2021-04-05</td><td>135</td><td>John</td><td>USA</td></tr>",
                            "<tr><td>1008</td><td>2021-06-18</td><td>115</td><td>Georg</td><td>UK</td></tr>",
                            "<tr><td>1003</td><td>2021-06-18</td><td>175</td><td>Georg</td><td>UK</td></tr>",
                            "<tr><td>1004</td><td>2021-08-31</td><td>140</td><td>Alice</td><td>Canada</td></tr>",
                            "<tr><td>1009</td><td>2021-08-31</td><td>170</td><td>Alice</td><td>Canada</td></tr>",
                            "<tr><td>1010</td><td>2021-09-15</td><td>210</td><td>John</td><td>USA</td></tr>",
                            "<tr><td>1016</td><td>2021-10-03</td><td>180</td><td>Maria</td><td>Germany</td></tr>",
                            "<tr><td>1017</td><td>2021-11-21</td><td>200</td><td>Peter</td><td>USA</td></tr>",
                            "<tr><td>1018</td><td>2021-12-05</td><td>220</td><td>Martin</td><td>Germany</td></tr>",
                            "<tr><td>1019</td><td>2022-01-10</td><td>240</td><td>Georg</td><td>UK</td></tr>",
                            "<tr><td>1020</td><td>2022-02-14</td><td>260</td><td>Alice</td><td>Canada</td></tr>",
                            "<tr><td>1021</td><td>2022-03-14</td><td>280</td><td>John</td><td>USA</td></tr>",
                            "<tr><td>1011</td><td>2022-03-20</td><td>225</td><td>Maria</td><td>Germany</td></tr>",
                            "<tr><td>1012</td><td>2022-04-25</td><td>350</td><td>John</td><td>USA</td></tr>",
                            "<tr><td>1013</td><td>2022-06-01</td><td>305</td><td>Peter</td><td>USA</td></tr>",
                            "<tr><td>1014</td><td>2022-07-09</td><td>140</td><td>Martin</td><td>Germany</td></tr>",
                            "<tr><td>1015</td><td>2022-08-17</td><td>160</td><td>Georg</td><td>UK</td></tr>",
                            "</table>"
                        ]
                    }
                }
            ],
            "execution_count": 1
        },
        {
            "cell_type": "markdown",
            "source": [
                "## <span style=\"color: rgb(0, 128, 0); font-size: 14px;\">-- 2. Show total sales per customer (with name), sorted by total sales DESC</span>\n",
                "<span style=\"color: rgb(0, 128, 0);\"><br></span>"
            ],
            "metadata": {
                "language": "sql",
                "azdata_cell_guid": "37cf92cd-9afd-4da3-92b9-dd427b322828"
            },
            "attachments": {}
        },
        {
            "cell_type": "code",
            "source": [
                "SELECT c.first_name, c.country, SUM(o.sales) AS total_sales\r\n",
                "\r\n",
                "FROM customers c\r\n",
                "\r\n",
                "JOIN orders o ON o.customer_id = c.id\r\n",
                "\r\n",
                "GROUP BY c.first_name, c.country\r\n",
                "\r\n",
                "ORDER BY total_sales DESC;"
            ],
            "metadata": {
                "azdata_cell_guid": "6e01baf0-c2ad-4afc-9a37-cc1d844770ea",
                "language": "sql"
            },
            "outputs": [
                {
                    "output_type": "display_data",
                    "data": {
                        "text/html": "(6 rows affected)"
                    },
                    "metadata": {}
                },
                {
                    "output_type": "display_data",
                    "data": {
                        "text/html": "Total execution time: 00:00:00.018"
                    },
                    "metadata": {}
                },
                {
                    "output_type": "execute_result",
                    "metadata": {},
                    "execution_count": 2,
                    "data": {
                        "application/vnd.dataresource+json": {
                            "schema": {
                                "fields": [
                                    {
                                        "name": "first_name"
                                    },
                                    {
                                        "name": "country"
                                    },
                                    {
                                        "name": "total_sales"
                                    }
                                ]
                            },
                            "data": [
                                {
                                    "first_name": "John",
                                    "country": "USA",
                                    "total_sales": "1280"
                                },
                                {
                                    "first_name": "Maria",
                                    "country": "Germany",
                                    "total_sales": "739"
                                },
                                {
                                    "first_name": "Georg",
                                    "country": "UK",
                                    "total_sales": "690"
                                },
                                {
                                    "first_name": "Alice",
                                    "country": "Canada",
                                    "total_sales": "570"
                                },
                                {
                                    "first_name": "Peter",
                                    "country": "USA",
                                    "total_sales": "505"
                                },
                                {
                                    "first_name": "Martin",
                                    "country": "Germany",
                                    "total_sales": "360"
                                }
                            ]
                        },
                        "text/html": [
                            "<table>",
                            "<tr><th>first_name</th><th>country</th><th>total_sales</th></tr>",
                            "<tr><td>John</td><td>USA</td><td>1280</td></tr>",
                            "<tr><td>Maria</td><td>Germany</td><td>739</td></tr>",
                            "<tr><td>Georg</td><td>UK</td><td>690</td></tr>",
                            "<tr><td>Alice</td><td>Canada</td><td>570</td></tr>",
                            "<tr><td>Peter</td><td>USA</td><td>505</td></tr>",
                            "<tr><td>Martin</td><td>Germany</td><td>360</td></tr>",
                            "</table>"
                        ]
                    }
                }
            ],
            "execution_count": 2
        },
        {
            "cell_type": "markdown",
            "source": [
                "### <span style=\"color: #008000;\">-- 3. List all orders placed by customers from 'USA', sorted by sales DESC</span>"
            ],
            "metadata": {
                "language": "",
                "azdata_cell_guid": "8c4d74da-6e4b-4624-a9e7-1059261dcd8e"
            },
            "attachments": {}
        },
        {
            "cell_type": "code",
            "source": [
                "SELECT o.order_id, o.order_date, o.sales, c.first_name\r\n",
                "FROM orders o\r\n",
                "JOIN customers c ON o.customer_id = c.id\r\n",
                "WHERE c.country = 'USA'\r\n",
                "ORDER BY o.sales DESC;"
            ],
            "metadata": {
                "azdata_cell_guid": "2b3efbb4-adf1-4ef2-a45a-9cd888d1410d",
                "language": "sql"
            },
            "outputs": [
                {
                    "output_type": "display_data",
                    "data": {
                        "text/html": "(7 rows affected)"
                    },
                    "metadata": {}
                },
                {
                    "output_type": "display_data",
                    "data": {
                        "text/html": "Total execution time: 00:00:00.017"
                    },
                    "metadata": {}
                },
                {
                    "output_type": "execute_result",
                    "metadata": {},
                    "execution_count": 3,
                    "data": {
                        "application/vnd.dataresource+json": {
                            "schema": {
                                "fields": [
                                    {
                                        "name": "order_id"
                                    },
                                    {
                                        "name": "order_date"
                                    },
                                    {
                                        "name": "sales"
                                    },
                                    {
                                        "name": "first_name"
                                    }
                                ]
                            },
                            "data": [
                                {
                                    "order_id": "1012",
                                    "order_date": "2022-04-25",
                                    "sales": "350",
                                    "first_name": "John"
                                },
                                {
                                    "order_id": "1013",
                                    "order_date": "2022-06-01",
                                    "sales": "305",
                                    "first_name": "Peter"
                                },
                                {
                                    "order_id": "1002",
                                    "order_date": "2021-04-05",
                                    "sales": "305",
                                    "first_name": "John"
                                },
                                {
                                    "order_id": "1021",
                                    "order_date": "2022-03-14",
                                    "sales": "280",
                                    "first_name": "John"
                                },
                                {
                                    "order_id": "1010",
                                    "order_date": "2021-09-15",
                                    "sales": "210",
                                    "first_name": "John"
                                },
                                {
                                    "order_id": "1017",
                                    "order_date": "2021-11-21",
                                    "sales": "200",
                                    "first_name": "Peter"
                                },
                                {
                                    "order_id": "1007",
                                    "order_date": "2021-04-05",
                                    "sales": "135",
                                    "first_name": "John"
                                }
                            ]
                        },
                        "text/html": [
                            "<table>",
                            "<tr><th>order_id</th><th>order_date</th><th>sales</th><th>first_name</th></tr>",
                            "<tr><td>1012</td><td>2022-04-25</td><td>350</td><td>John</td></tr>",
                            "<tr><td>1013</td><td>2022-06-01</td><td>305</td><td>Peter</td></tr>",
                            "<tr><td>1002</td><td>2021-04-05</td><td>305</td><td>John</td></tr>",
                            "<tr><td>1021</td><td>2022-03-14</td><td>280</td><td>John</td></tr>",
                            "<tr><td>1010</td><td>2021-09-15</td><td>210</td><td>John</td></tr>",
                            "<tr><td>1017</td><td>2021-11-21</td><td>200</td><td>Peter</td></tr>",
                            "<tr><td>1007</td><td>2021-04-05</td><td>135</td><td>John</td></tr>",
                            "</table>"
                        ]
                    }
                }
            ],
            "execution_count": 3
        },
        {
            "cell_type": "markdown",
            "source": [
                "### <span style=\"color: #008000;\">-- 4. Get customers who placed orders with sales &gt; 250, sorted by score</span>"
            ],
            "metadata": {
                "language": "sql",
                "azdata_cell_guid": "dcd01006-b8bd-4feb-9dc8-0230297daa74"
            },
            "attachments": {}
        },
        {
            "cell_type": "code",
            "source": [
                "SELECT DISTINCT c.first_name, c.country, c.score\r\n",
                "FROM customers c\r\n",
                "JOIN orders o ON o.customer_id = c.id\r\n",
                "WHERE o.sales > 250\r\n",
                "ORDER BY c.score DESC;"
            ],
            "metadata": {
                "language": "sql",
                "azdata_cell_guid": "c01a9ce6-a9b1-4910-a254-fef19fb2927f"
            },
            "outputs": [
                {
                    "output_type": "display_data",
                    "data": {
                        "text/html": "(3 rows affected)"
                    },
                    "metadata": {}
                },
                {
                    "output_type": "display_data",
                    "data": {
                        "text/html": "Total execution time: 00:00:00.018"
                    },
                    "metadata": {}
                },
                {
                    "output_type": "execute_result",
                    "metadata": {},
                    "execution_count": 4,
                    "data": {
                        "application/vnd.dataresource+json": {
                            "schema": {
                                "fields": [
                                    {
                                        "name": "first_name"
                                    },
                                    {
                                        "name": "country"
                                    },
                                    {
                                        "name": "score"
                                    }
                                ]
                            },
                            "data": [
                                {
                                    "first_name": "John",
                                    "country": "USA",
                                    "score": "900"
                                },
                                {
                                    "first_name": "Alice",
                                    "country": "Canada",
                                    "score": "660"
                                },
                                {
                                    "first_name": "Peter",
                                    "country": "USA",
                                    "score": "0"
                                }
                            ]
                        },
                        "text/html": [
                            "<table>",
                            "<tr><th>first_name</th><th>country</th><th>score</th></tr>",
                            "<tr><td>John</td><td>USA</td><td>900</td></tr>",
                            "<tr><td>Alice</td><td>Canada</td><td>660</td></tr>",
                            "<tr><td>Peter</td><td>USA</td><td>0</td></tr>",
                            "</table>"
                        ]
                    }
                }
            ],
            "execution_count": 4
        },
        {
            "cell_type": "markdown",
            "source": [
                "### <span style=\"color: #008000;\">-- 5. Find all orders along with customer name and score, sorted by customer score then order_date</span>"
            ],
            "metadata": {
                "language": "sql",
                "azdata_cell_guid": "bee639cd-ffea-4a71-96b3-1e1af97d69d8"
            },
            "attachments": {}
        },
        {
            "cell_type": "code",
            "source": [
                "SELECT o.order_id, o.order_date, o.sales,\r\n",
                "       c.first_name, c.score\r\n",
                "FROM orders o\r\n",
                "JOIN customers c ON o.customer_id = c.id\r\n",
                "ORDER BY c.score DESC, o.order_date ASC;"
            ],
            "metadata": {
                "language": "sql",
                "azdata_cell_guid": "ff75f94d-4713-4727-9a37-892e8b471988"
            },
            "outputs": [
{
    "output_type": "display_data",
    "data": {
        "text/html": "(20 rows affected)"
    },
    "metadata": {}
}, {
    "output_type": "display_data",
    "data": {
        "text/html": "Total execution time: 00:00:00.019"
    },
    "metadata": {}
}, {
    "output_type": "execute_result",
    "metadata": {},
    "execution_count": 5,
    "data": {
        "application/vnd.dataresource+json": {
            "schema": {
                "fields": [
                    {
                        "name": "order_id"
                    },
                    {
                        "name": "order_date"
                    },
                    {
                        "name": "sales"
                    },
                    {
                        "name": "first_name"
                    },
                    {
                        "name": "score"
                    }
                ]
            },
            "data": [
                {
                    "order_id": "1002",
                    "order_date": "2021-04-05",
                    "sales": "305",
                    "first_name": "John",
                    "score": "900"
                },
                {
                    "order_id": "1007",
                    "order_date": "2021-04-05",
                    "sales": "135",
                    "first_name": "John",
                    "score": "900"
                },
                {
                    "order_id": "1010",
                    "order_date": "2021-09-15",
                    "sales": "210",
                    "first_name": "John",
                    "score": "900"
                },
                {
                    "order_id": "1021",
                    "order_date": "2022-03-14",
                    "sales": "280",
                    "first_name": "John",
                    "score": "900"
                },
                {
                    "order_id": "1012",
                    "order_date": "2022-04-25",
                    "sales": "350",
                    "first_name": "John",
                    "score": "900"
                },
                {
                    "order_id": "1003",
                    "order_date": "2021-06-18",
                    "sales": "175",
                    "first_name": "Georg",
                    "score": "750"
                },
                {
                    "order_id": "1008",
                    "order_date": "2021-06-18",
                    "sales": "115",
                    "first_name": "Georg",
                    "score": "750"
                },
                {
                    "order_id": "1019",
                    "order_date": "2022-01-10",
                    "sales": "240",
                    "first_name": "Georg",
                    "score": "750"
                },
                {
                    "order_id": "1015",
                    "order_date": "2022-08-17",
                    "sales": "160",
                    "first_name": "Georg",
                    "score": "750"
                },
                {
                    "order_id": "1004",
                    "order_date": "2021-08-31",
                    "sales": "140",
                    "first_name": "Alice",
                    "score": "660"
                },
                {
                    "order_id": "1009",
                    "order_date": "2021-08-31",
                    "sales": "170",
                    "first_name": "Alice",
                    "score": "660"
                },
                {
                    "order_id": "1020",
                    "order_date": "2022-02-14",
                    "sales": "260",
                    "first_name": "Alice",
                    "score": "660"
                },
                {
                    "order_id": "1018",
                    "order_date": "2021-12-05",
                    "sales": "220",
                    "first_name": "Martin",
                    "score": "500"
                },
                {
                    "order_id": "1014",
                    "order_date": "2022-07-09",
                    "sales": "140",
                    "first_name": "Martin",
                    "score": "500"
                },
                {
                    "order_id": "1001",
                    "order_date": "2021-01-11",
                    "sales": "135",
                    "first_name": "Maria",
                    "score": "350"
                },
                {
                    "order_id": "1006",
                    "order_date": "2021-01-11",
                    "sales": "199",
                    "first_name": "Maria",
                    "score": "350"
                },
                {
                    "order_id": "1016",
                    "order_date": "2021-10-03",
                    "sales": "180",
                    "first_name": "Maria",
                    "score": "350"
                },
                {
                    "order_id": "1011",
                    "order_date": "2022-03-20",
                    "sales": "225",
                    "first_name": "Maria",
                    "score": "350"
                },
                {
                    "order_id": "1017",
                    "order_date": "2021-11-21",
                    "sales": "200",
                    "first_name": "Peter",
                    "score": "0"
                },
                {
                    "order_id": "1013",
                    "order_date": "2022-06-01",
                    "sales": "305",
                    "first_name": "Peter",
                    "score": "0"
                }
            ]
        },
        "text/html": [
            "<table>",
            "<tr><th>order_id</th><th>order_date</th><th>sales</th><th>first_name</th><th>score</th></tr>",
            "<tr><td>1002</td><td>2021-04-05</td><td>305</td><td>John</td><td>900</td></tr>",
            "<tr><td>1007</td><td>2021-04-05</td><td>135</td><td>John</td><td>900</td></tr>",
            "<tr><td>1010</td><td>2021-09-15</td><td>210</td><td>John</td><td>900</td></tr>",
            "<tr><td>1021</td><td>2022-03-14</td><td>280</td><td>John</td><td>900</td></tr>",
            "<tr><td>1012</td><td>2022-04-25</td><td>350</td><td>John</td><td>900</td></tr>",
            "<tr><td>1003</td><td>2021-06-18</td><td>175</td><td>Georg</td><td>750</td></tr>",
            "<tr><td>1008</td><td>2021-06-18</td><td>115</td><td>Georg</td><td>750</td></tr>",
            "<tr><td>1019</td><td>2022-01-10</td><td>240</td><td>Georg</td><td>750</td></tr>",
            "<tr><td>1015</td><td>2022-08-17</td><td>160</td><td>Georg</td><td>750</td></tr>",
            "<tr><td>1004</td><td>2021-08-31</td><td>140</td><td>Alice</td><td>660</td></tr>",
            "<tr><td>1009</td><td>2021-08-31</td><td>170</td><td>Alice</td><td>660</td></tr>",
            "<tr><td>1020</td><td>2022-02-14</td><td>260</td><td>Alice</td><td>660</td></tr>",
            "<tr><td>1018</td><td>2021-12-05</td><td>220</td><td>Martin</td><td>500</td></tr>",
            "<tr><td>1014</td><td>2022-07-09</td><td>140</td><td>Martin</td><td>500</td></tr>",
            "<tr><td>1001</td><td>2021-01-11</td><td>135</td><td>Maria</td><td>350</td></tr>",
            "<tr><td>1006</td><td>2021-01-11</td><td>199</td><td>Maria</td><td>350</td></tr>",
            "<tr><td>1016</td><td>2021-10-03</td><td>180</td><td>Maria</td><td>350</td></tr>",
            "<tr><td>1011</td><td>2022-03-20</td><td>225</td><td>Maria</td><td>350</td></tr>",
            "<tr><td>1017</td><td>2021-11-21</td><td>200</td><td>Peter</td><td>0</td></tr>",
            "<tr><td>1013</td><td>2022-06-01</td><td>305</td><td>Peter</td><td>0</td></tr>",
            "</table>"
        ]
    }
}
],
            "execution_count": 5
        }
    ]
}