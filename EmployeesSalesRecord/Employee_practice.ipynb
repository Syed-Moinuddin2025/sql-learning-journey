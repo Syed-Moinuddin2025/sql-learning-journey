{
    "metadata": {
        "kernelspec": {
            "name": "SQL",
            "display_name": "SQL",
            "language": "sql"
        },
        "language_info": {
            "name": "sql",
            "version": ""
        }
    },
    "nbformat_minor": 2,
    "nbformat": 4,
    "cells": [
        {
            "cell_type": "markdown",
            "source": [
                "<span style=\"color: #008000;\"><b>-- 📘 STEP 1: Basic SELECT queries</b></span>"
            ],
            "metadata": {
                "azdata_cell_guid": "a58d659b-c4f6-4e4a-b302-00bb39e2d1d7"
            },
            "attachments": {}
        },
        {
            "cell_type": "code",
            "source": [
                "USE EmployeeSalesDB"
            ],
            "metadata": {
                "azdata_cell_guid": "55c8a04f-4980-4976-b86f-5ccecf4297d0",
                "language": "sql"
            },
            "outputs": [
                {
                    "output_type": "display_data",
                    "data": {
                        "text/html": "Commands completed successfully."
                    },
                    "metadata": {}
                },
                {
                    "output_type": "display_data",
                    "data": {
                        "text/html": "Total execution time: 00:00:00"
                    },
                    "metadata": {}
                }
            ],
            "execution_count": 7
        },
        {
            "cell_type": "code",
            "source": [
                "-- 1. Select all employees\r\n",
                "SELECT * FROM employees;"
            ],
            "metadata": {
                "language": "sql",
                "azdata_cell_guid": "4478ccd2-df67-4676-b1f6-60138c44ac22"
            },
            "outputs": [
                {
                    "output_type": "display_data",
                    "data": {
                        "text/html": "(10 rows affected)"
                    },
                    "metadata": {}
                },
                {
                    "output_type": "display_data",
                    "data": {
                        "text/html": "Total execution time: 00:00:00.012"
                    },
                    "metadata": {}
                },
                {
                    "output_type": "execute_result",
                    "metadata": {},
                    "execution_count": 8,
                    "data": {
                        "application/vnd.dataresource+json": {
                            "schema": {
                                "fields": [
                                    {
                                        "name": "id"
                                    },
                                    {
                                        "name": "first_name"
                                    },
                                    {
                                        "name": "last_name"
                                    },
                                    {
                                        "name": "department"
                                    },
                                    {
                                        "name": "monthly_salary"
                                    },
                                    {
                                        "name": "email"
                                    }
                                ]
                            },
                            "data": [
                                {
                                    "id": "1",
                                    "first_name": "Paul",
                                    "last_name": "Garrix",
                                    "department": "Corporate",
                                    "monthly_salary": "6000.00",
                                    "email": "paul.garrix@company.com"
                                },
                                {
                                    "id": "2",
                                    "first_name": "Astrid",
                                    "last_name": "Fox",
                                    "department": "Support",
                                    "monthly_salary": "2845.56",
                                    "email": "NULL"
                                },
                                {
                                    "id": "3",
                                    "first_name": "Matthias",
                                    "last_name": "Johnson",
                                    "department": "Private Individuals",
                                    "monthly_salary": "3009.41",
                                    "email": "NULL"
                                },
                                {
                                    "id": "4",
                                    "first_name": "Lucy",
                                    "last_name": "Patterson",
                                    "department": "Private Individuals",
                                    "monthly_salary": "3547.25",
                                    "email": "NULL"
                                },
                                {
                                    "id": "5",
                                    "first_name": "Tom",
                                    "last_name": "Page",
                                    "department": "Corporate",
                                    "monthly_salary": "5974.41",
                                    "email": "NULL"
                                },
                                {
                                    "id": "6",
                                    "first_name": "Claudia",
                                    "last_name": "Conte",
                                    "department": "Corporate",
                                    "monthly_salary": "4714.12",
                                    "email": "NULL"
                                },
                                {
                                    "id": "7",
                                    "first_name": "Walter",
                                    "last_name": "Deer",
                                    "department": "Private Individuals",
                                    "monthly_salary": "3547.25",
                                    "email": "NULL"
                                },
                                {
                                    "id": "8",
                                    "first_name": "Stephanie",
                                    "last_name": "Marx",
                                    "department": "Support",
                                    "monthly_salary": "2894.51",
                                    "email": "NULL"
                                },
                                {
                                    "id": "9",
                                    "first_name": "Luca",
                                    "last_name": "Pavarotti",
                                    "department": "Private Individuals",
                                    "monthly_salary": "4123.45",
                                    "email": "NULL"
                                },
                                {
                                    "id": "10",
                                    "first_name": "Victoria",
                                    "last_name": "Pollock",
                                    "department": "Corporate",
                                    "monthly_salary": "4789.53",
                                    "email": "NULL"
                                }
                            ]
                        },
                        "text/html": [
                            "<table>",
                            "<tr><th>id</th><th>first_name</th><th>last_name</th><th>department</th><th>monthly_salary</th><th>email</th></tr>",
                            "<tr><td>1</td><td>Paul</td><td>Garrix</td><td>Corporate</td><td>6000.00</td><td>paul.garrix@company.com</td></tr>",
                            "<tr><td>2</td><td>Astrid</td><td>Fox</td><td>Support</td><td>2845.56</td><td>NULL</td></tr>",
                            "<tr><td>3</td><td>Matthias</td><td>Johnson</td><td>Private Individuals</td><td>3009.41</td><td>NULL</td></tr>",
                            "<tr><td>4</td><td>Lucy</td><td>Patterson</td><td>Private Individuals</td><td>3547.25</td><td>NULL</td></tr>",
                            "<tr><td>5</td><td>Tom</td><td>Page</td><td>Corporate</td><td>5974.41</td><td>NULL</td></tr>",
                            "<tr><td>6</td><td>Claudia</td><td>Conte</td><td>Corporate</td><td>4714.12</td><td>NULL</td></tr>",
                            "<tr><td>7</td><td>Walter</td><td>Deer</td><td>Private Individuals</td><td>3547.25</td><td>NULL</td></tr>",
                            "<tr><td>8</td><td>Stephanie</td><td>Marx</td><td>Support</td><td>2894.51</td><td>NULL</td></tr>",
                            "<tr><td>9</td><td>Luca</td><td>Pavarotti</td><td>Private Individuals</td><td>4123.45</td><td>NULL</td></tr>",
                            "<tr><td>10</td><td>Victoria</td><td>Pollock</td><td>Corporate</td><td>4789.53</td><td>NULL</td></tr>",
                            "</table>"
                        ]
                    }
                }
            ],
            "execution_count": 8
        },
        {
            "cell_type": "code",
            "source": [
                "-- 2. Select employee names and salary\r\n",
                "SELECT first_name, last_name, monthly_salary FROM employees;"
            ],
            "metadata": {
                "language": "sql",
                "azdata_cell_guid": "369224c0-04c6-4a9a-ba3b-bdf976efb645"
            },
            "outputs": [
                {
                    "output_type": "display_data",
                    "data": {
                        "text/html": "(10 rows affected)"
                    },
                    "metadata": {}
                },
                {
                    "output_type": "display_data",
                    "data": {
                        "text/html": "Total execution time: 00:00:00.005"
                    },
                    "metadata": {}
                },
                {
                    "output_type": "execute_result",
                    "metadata": {},
                    "execution_count": 10,
                    "data": {
                        "application/vnd.dataresource+json": {
                            "schema": {
                                "fields": [
                                    {
                                        "name": "first_name"
                                    },
                                    {
                                        "name": "last_name"
                                    },
                                    {
                                        "name": "monthly_salary"
                                    }
                                ]
                            },
                            "data": [
                                {
                                    "first_name": "Paul",
                                    "last_name": "Garrix",
                                    "monthly_salary": "6000.00"
                                },
                                {
                                    "first_name": "Astrid",
                                    "last_name": "Fox",
                                    "monthly_salary": "2845.56"
                                },
                                {
                                    "first_name": "Matthias",
                                    "last_name": "Johnson",
                                    "monthly_salary": "3009.41"
                                },
                                {
                                    "first_name": "Lucy",
                                    "last_name": "Patterson",
                                    "monthly_salary": "3547.25"
                                },
                                {
                                    "first_name": "Tom",
                                    "last_name": "Page",
                                    "monthly_salary": "5974.41"
                                },
                                {
                                    "first_name": "Claudia",
                                    "last_name": "Conte",
                                    "monthly_salary": "4714.12"
                                },
                                {
                                    "first_name": "Walter",
                                    "last_name": "Deer",
                                    "monthly_salary": "3547.25"
                                },
                                {
                                    "first_name": "Stephanie",
                                    "last_name": "Marx",
                                    "monthly_salary": "2894.51"
                                },
                                {
                                    "first_name": "Luca",
                                    "last_name": "Pavarotti",
                                    "monthly_salary": "4123.45"
                                },
                                {
                                    "first_name": "Victoria",
                                    "last_name": "Pollock",
                                    "monthly_salary": "4789.53"
                                }
                            ]
                        },
                        "text/html": [
                            "<table>",
                            "<tr><th>first_name</th><th>last_name</th><th>monthly_salary</th></tr>",
                            "<tr><td>Paul</td><td>Garrix</td><td>6000.00</td></tr>",
                            "<tr><td>Astrid</td><td>Fox</td><td>2845.56</td></tr>",
                            "<tr><td>Matthias</td><td>Johnson</td><td>3009.41</td></tr>",
                            "<tr><td>Lucy</td><td>Patterson</td><td>3547.25</td></tr>",
                            "<tr><td>Tom</td><td>Page</td><td>5974.41</td></tr>",
                            "<tr><td>Claudia</td><td>Conte</td><td>4714.12</td></tr>",
                            "<tr><td>Walter</td><td>Deer</td><td>3547.25</td></tr>",
                            "<tr><td>Stephanie</td><td>Marx</td><td>2894.51</td></tr>",
                            "<tr><td>Luca</td><td>Pavarotti</td><td>4123.45</td></tr>",
                            "<tr><td>Victoria</td><td>Pollock</td><td>4789.53</td></tr>",
                            "</table>"
                        ]
                    }
                }
            ],
            "execution_count": 10
        },
        {
            "cell_type": "code",
            "source": [
                "\r\n",
                "-- 3. Select employees with salary above 4000\r\n",
                "SELECT * FROM employees WHERE salary > 4000;"
            ],
            "metadata": {
                "language": "sql",
                "azdata_cell_guid": "876bfdb1-1f1f-4a20-8ed7-55a255f40078"
            },
            "outputs": [
                {
                    "output_type": "display_data",
                    "data": {
                        "text/html": "(4 rows affected)"
                    },
                    "metadata": {}
                },
                {
                    "output_type": "display_data",
                    "data": {
                        "text/html": "Total execution time: 00:00:00.004"
                    },
                    "metadata": {}
                },
                {
                    "output_type": "execute_result",
                    "execution_count": 6,
                    "data": {
                        "application/vnd.dataresource+json": {
                            "schema": {
                                "fields": [
                                    {
                                        "name": "id"
                                    },
                                    {
                                        "name": "first_name"
                                    },
                                    {
                                        "name": "last_name"
                                    },
                                    {
                                        "name": "department"
                                    },
                                    {
                                        "name": "salary"
                                    }
                                ]
                            },
                            "data": [
                                {
                                    "id": "5",
                                    "first_name": "Tom",
                                    "last_name": "Page",
                                    "department": "Corporate",
                                    "salary": "5974.41"
                                },
                                {
                                    "id": "6",
                                    "first_name": "Claudia",
                                    "last_name": "Conte",
                                    "department": "Corporate",
                                    "salary": "4714.12"
                                },
                                {
                                    "id": "9",
                                    "first_name": "Luca",
                                    "last_name": "Pavarotti",
                                    "department": "Private Individuals",
                                    "salary": "4123.45"
                                },
                                {
                                    "id": "10",
                                    "first_name": "Victoria",
                                    "last_name": "Pollock",
                                    "department": "Corporate",
                                    "salary": "4789.53"
                                }
                            ]
                        },
                        "text/html": "<table><tr><th>id</th><th>first_name</th><th>last_name</th><th>department</th><th>salary</th></tr><tr><td>5</td><td>Tom</td><td>Page</td><td>Corporate</td><td>5974.41</td></tr><tr><td>6</td><td>Claudia</td><td>Conte</td><td>Corporate</td><td>4714.12</td></tr><tr><td>9</td><td>Luca</td><td>Pavarotti</td><td>Private Individuals</td><td>4123.45</td></tr><tr><td>10</td><td>Victoria</td><td>Pollock</td><td>Corporate</td><td>4789.53</td></tr></table>"
                    },
                    "metadata": {}
                }
            ],
            "execution_count": 6
        },
        {
            "cell_type": "code",
            "source": [
                "\r\n",
                "-- 4. Select employees from Corporate department\r\n",
                "SELECT * FROM employees WHERE department = 'Corporate';"
            ],
            "metadata": {
                "language": "sql",
                "azdata_cell_guid": "32bc251c-4d47-4010-a6e3-0b6dd781dede"
            },
            "outputs": [
                {
                    "output_type": "display_data",
                    "data": {
                        "text/html": "(5 rows affected)"
                    },
                    "metadata": {}
                },
                {
                    "output_type": "display_data",
                    "data": {
                        "text/html": "Total execution time: 00:00:00.004"
                    },
                    "metadata": {}
                },
                {
                    "output_type": "execute_result",
                    "execution_count": 7,
                    "data": {
                        "application/vnd.dataresource+json": {
                            "schema": {
                                "fields": [
                                    {
                                        "name": "id"
                                    },
                                    {
                                        "name": "first_name"
                                    },
                                    {
                                        "name": "last_name"
                                    },
                                    {
                                        "name": "department"
                                    },
                                    {
                                        "name": "salary"
                                    }
                                ]
                            },
                            "data": [
                                {
                                    "id": "1",
                                    "first_name": "Paul",
                                    "last_name": "Garrix",
                                    "department": "Corporate",
                                    "salary": "3547.25"
                                },
                                {
                                    "id": "5",
                                    "first_name": "Tom",
                                    "last_name": "Page",
                                    "department": "Corporate",
                                    "salary": "5974.41"
                                },
                                {
                                    "id": "6",
                                    "first_name": "Claudia",
                                    "last_name": "Conte",
                                    "department": "Corporate",
                                    "salary": "4714.12"
                                },
                                {
                                    "id": "8",
                                    "first_name": "Stephanie",
                                    "last_name": "Marx",
                                    "department": "Corporate",
                                    "salary": "2894.51"
                                },
                                {
                                    "id": "10",
                                    "first_name": "Victoria",
                                    "last_name": "Pollock",
                                    "department": "Corporate",
                                    "salary": "4789.53"
                                }
                            ]
                        },
                        "text/html": "<table><tr><th>id</th><th>first_name</th><th>last_name</th><th>department</th><th>salary</th></tr><tr><td>1</td><td>Paul</td><td>Garrix</td><td>Corporate</td><td>3547.25</td></tr><tr><td>5</td><td>Tom</td><td>Page</td><td>Corporate</td><td>5974.41</td></tr><tr><td>6</td><td>Claudia</td><td>Conte</td><td>Corporate</td><td>4714.12</td></tr><tr><td>8</td><td>Stephanie</td><td>Marx</td><td>Corporate</td><td>2894.51</td></tr><tr><td>10</td><td>Victoria</td><td>Pollock</td><td>Corporate</td><td>4789.53</td></tr></table>"
                    },
                    "metadata": {}
                }
            ],
            "execution_count": 7
        },
        {
            "cell_type": "code",
            "source": [
                "\r\n",
                "-- 5. Order employees by salary descending\r\n",
                "SELECT * FROM employees ORDER BY salary DESC;"
            ],
            "metadata": {
                "language": "sql",
                "azdata_cell_guid": "88c4e2e6-6f25-4c92-b7c5-cc7cfb9be9d7"
            },
            "outputs": [
                {
                    "output_type": "display_data",
                    "data": {
                        "text/html": "(10 rows affected)"
                    },
                    "metadata": {}
                },
                {
                    "output_type": "display_data",
                    "data": {
                        "text/html": "Total execution time: 00:00:00.009"
                    },
                    "metadata": {}
                },
                {
                    "output_type": "execute_result",
                    "execution_count": 8,
                    "data": {
                        "application/vnd.dataresource+json": {
                            "schema": {
                                "fields": [
                                    {
                                        "name": "id"
                                    },
                                    {
                                        "name": "first_name"
                                    },
                                    {
                                        "name": "last_name"
                                    },
                                    {
                                        "name": "department"
                                    },
                                    {
                                        "name": "salary"
                                    }
                                ]
                            },
                            "data": [
                                {
                                    "id": "5",
                                    "first_name": "Tom",
                                    "last_name": "Page",
                                    "department": "Corporate",
                                    "salary": "5974.41"
                                },
                                {
                                    "id": "10",
                                    "first_name": "Victoria",
                                    "last_name": "Pollock",
                                    "department": "Corporate",
                                    "salary": "4789.53"
                                },
                                {
                                    "id": "6",
                                    "first_name": "Claudia",
                                    "last_name": "Conte",
                                    "department": "Corporate",
                                    "salary": "4714.12"
                                },
                                {
                                    "id": "9",
                                    "first_name": "Luca",
                                    "last_name": "Pavarotti",
                                    "department": "Private Individuals",
                                    "salary": "4123.45"
                                },
                                {
                                    "id": "7",
                                    "first_name": "Walter",
                                    "last_name": "Deer",
                                    "department": "Private Individuals",
                                    "salary": "3547.25"
                                },
                                {
                                    "id": "1",
                                    "first_name": "Paul",
                                    "last_name": "Garrix",
                                    "department": "Corporate",
                                    "salary": "3547.25"
                                },
                                {
                                    "id": "4",
                                    "first_name": "Lucy",
                                    "last_name": "Patterson",
                                    "department": "Private Individuals",
                                    "salary": "3547.25"
                                },
                                {
                                    "id": "3",
                                    "first_name": "Matthias",
                                    "last_name": "Johnson",
                                    "department": "Private Individuals",
                                    "salary": "3009.41"
                                },
                                {
                                    "id": "8",
                                    "first_name": "Stephanie",
                                    "last_name": "Marx",
                                    "department": "Corporate",
                                    "salary": "2894.51"
                                },
                                {
                                    "id": "2",
                                    "first_name": "Astrid",
                                    "last_name": "Fox",
                                    "department": "Private Individuals",
                                    "salary": "2845.56"
                                }
                            ]
                        },
                        "text/html": "<table><tr><th>id</th><th>first_name</th><th>last_name</th><th>department</th><th>salary</th></tr><tr><td>5</td><td>Tom</td><td>Page</td><td>Corporate</td><td>5974.41</td></tr><tr><td>10</td><td>Victoria</td><td>Pollock</td><td>Corporate</td><td>4789.53</td></tr><tr><td>6</td><td>Claudia</td><td>Conte</td><td>Corporate</td><td>4714.12</td></tr><tr><td>9</td><td>Luca</td><td>Pavarotti</td><td>Private Individuals</td><td>4123.45</td></tr><tr><td>7</td><td>Walter</td><td>Deer</td><td>Private Individuals</td><td>3547.25</td></tr><tr><td>1</td><td>Paul</td><td>Garrix</td><td>Corporate</td><td>3547.25</td></tr><tr><td>4</td><td>Lucy</td><td>Patterson</td><td>Private Individuals</td><td>3547.25</td></tr><tr><td>3</td><td>Matthias</td><td>Johnson</td><td>Private Individuals</td><td>3009.41</td></tr><tr><td>8</td><td>Stephanie</td><td>Marx</td><td>Corporate</td><td>2894.51</td></tr><tr><td>2</td><td>Astrid</td><td>Fox</td><td>Private Individuals</td><td>2845.56</td></tr></table>"
                    },
                    "metadata": {}
                }
            ],
            "execution_count": 8
        },
        {
            "cell_type": "code",
            "source": [
                "\r\n",
                "-- 6. Get unique departments\r\n",
                "SELECT DISTINCT department FROM employees;"
            ],
            "metadata": {
                "language": "sql",
                "azdata_cell_guid": "7fe89b6a-922a-41bf-bef2-df2621d14991"
            },
            "outputs": [
                {
                    "output_type": "display_data",
                    "data": {
                        "text/html": "(2 rows affected)"
                    },
                    "metadata": {}
                },
                {
                    "output_type": "display_data",
                    "data": {
                        "text/html": "Total execution time: 00:00:00.004"
                    },
                    "metadata": {}
                },
                {
                    "output_type": "execute_result",
                    "execution_count": 9,
                    "data": {
                        "application/vnd.dataresource+json": {
                            "schema": {
                                "fields": [
                                    {
                                        "name": "department"
                                    }
                                ]
                            },
                            "data": [
                                {
                                    "department": "Corporate"
                                },
                                {
                                    "department": "Private Individuals"
                                }
                            ]
                        },
                        "text/html": "<table><tr><th>department</th></tr><tr><td>Corporate</td></tr><tr><td>Private Individuals</td></tr></table>"
                    },
                    "metadata": {}
                }
            ],
            "execution_count": 9
        },
        {
            "cell_type": "code",
            "source": [
                "-- 7. Count total number of employees\r\n",
                "SELECT COUNT(*) AS total_employees FROM employees;"
            ],
            "metadata": {
                "language": "sql",
                "azdata_cell_guid": "774ee62f-6624-4d4d-86a5-80b7a67665a8"
            },
            "outputs": [
                {
                    "output_type": "display_data",
                    "data": {
                        "text/html": "(1 row affected)"
                    },
                    "metadata": {}
                },
                {
                    "output_type": "display_data",
                    "data": {
                        "text/html": "Total execution time: 00:00:00.003"
                    },
                    "metadata": {}
                },
                {
                    "output_type": "execute_result",
                    "execution_count": 10,
                    "data": {
                        "application/vnd.dataresource+json": {
                            "schema": {
                                "fields": [
                                    {
                                        "name": "total_employees"
                                    }
                                ]
                            },
                            "data": [
                                {
                                    "total_employees": "10"
                                }
                            ]
                        },
                        "text/html": "<table><tr><th>total_employees</th></tr><tr><td>10</td></tr></table>"
                    },
                    "metadata": {}
                }
            ],
            "execution_count": 10
        },
        {
            "cell_type": "code",
            "source": [
                "\r\n",
                "-- 8. Get average salary of all employees\r\n",
                "SELECT AVG(salary) AS avg_salary FROM employees;\r\n",
                ""
            ],
            "metadata": {
                "language": "sql",
                "azdata_cell_guid": "1a4d39ab-c16d-4d10-90da-ccc7bc5d0514"
            },
            "outputs": [
                {
                    "output_type": "display_data",
                    "data": {
                        "text/html": "(1 row affected)"
                    },
                    "metadata": {}
                },
                {
                    "output_type": "display_data",
                    "data": {
                        "text/html": "Total execution time: 00:00:00.009"
                    },
                    "metadata": {}
                },
                {
                    "output_type": "execute_result",
                    "execution_count": 11,
                    "data": {
                        "application/vnd.dataresource+json": {
                            "schema": {
                                "fields": [
                                    {
                                        "name": "avg_salary"
                                    }
                                ]
                            },
                            "data": [
                                {
                                    "avg_salary": "3899.274000"
                                }
                            ]
                        },
                        "text/html": "<table><tr><th>avg_salary</th></tr><tr><td>3899.274000</td></tr></table>"
                    },
                    "metadata": {}
                }
            ],
            "execution_count": 11
        },
        {
            "cell_type": "code",
            "source": [
                "-- 9. Get total salary paid\r\n",
                "SELECT SUM(salary) AS total_salary FROM employees;"
            ],
            "metadata": {
                "language": "sql",
                "azdata_cell_guid": "dc11e55b-8e77-4cbc-8bcb-74cae29d837d"
            },
            "outputs": [
                {
                    "output_type": "display_data",
                    "data": {
                        "text/html": "(1 row affected)"
                    },
                    "metadata": {}
                },
                {
                    "output_type": "display_data",
                    "data": {
                        "text/html": "Total execution time: 00:00:00.008"
                    },
                    "metadata": {}
                },
                {
                    "output_type": "execute_result",
                    "execution_count": 12,
                    "data": {
                        "application/vnd.dataresource+json": {
                            "schema": {
                                "fields": [
                                    {
                                        "name": "total_salary"
                                    }
                                ]
                            },
                            "data": [
                                {
                                    "total_salary": "38992.74"
                                }
                            ]
                        },
                        "text/html": "<table><tr><th>total_salary</th></tr><tr><td>38992.74</td></tr></table>"
                    },
                    "metadata": {}
                }
            ],
            "execution_count": 12
        },
        {
            "cell_type": "code",
            "source": [
                "\r\n",
                "-- 10. Get employees with name starting with 'P'\r\n",
                "SELECT * FROM employees WHERE first_name LIKE 'P%';"
            ],
            "metadata": {
                "language": "sql",
                "azdata_cell_guid": "ae5bf5cc-2d93-4f18-970a-b1d610c31db0"
            },
            "outputs": [
                {
                    "output_type": "display_data",
                    "data": {
                        "text/html": "(1 row affected)"
                    },
                    "metadata": {}
                },
                {
                    "output_type": "display_data",
                    "data": {
                        "text/html": "Total execution time: 00:00:00.019"
                    },
                    "metadata": {}
                },
                {
                    "output_type": "execute_result",
                    "execution_count": 13,
                    "data": {
                        "application/vnd.dataresource+json": {
                            "schema": {
                                "fields": [
                                    {
                                        "name": "id"
                                    },
                                    {
                                        "name": "first_name"
                                    },
                                    {
                                        "name": "last_name"
                                    },
                                    {
                                        "name": "department"
                                    },
                                    {
                                        "name": "salary"
                                    }
                                ]
                            },
                            "data": [
                                {
                                    "id": "1",
                                    "first_name": "Paul",
                                    "last_name": "Garrix",
                                    "department": "Corporate",
                                    "salary": "3547.25"
                                }
                            ]
                        },
                        "text/html": "<table><tr><th>id</th><th>first_name</th><th>last_name</th><th>department</th><th>salary</th></tr><tr><td>1</td><td>Paul</td><td>Garrix</td><td>Corporate</td><td>3547.25</td></tr></table>"
                    },
                    "metadata": {}
                }
            ],
            "execution_count": 13
        },
        {
            "cell_type": "markdown",
            "source": [
                "**\\-- 📗 STEP 2: Join Queries**"
            ],
            "metadata": {
                "language": "",
                "azdata_cell_guid": "7128501e-e105-4271-bafc-bc9c3a01609b"
            },
            "attachments": {}
        },
        {
            "cell_type": "code",
            "source": [
                "-- 11. List employee names and their Q1 sales\r\n",
                "SELECT e.first_name, e.last_name, qs.q1_2022\r\n",
                "FROM employees e\r\n",
                "JOIN quarterly_sales qs ON e.id = qs.employee_id;"
            ],
            "metadata": {
                "azdata_cell_guid": "2263aacb-d5d1-4f82-ba64-9d35867495c4",
                "language": "sql"
            },
            "outputs": [
                {
                    "output_type": "display_data",
                    "data": {
                        "text/html": "(10 rows affected)"
                    },
                    "metadata": {}
                },
                {
                    "output_type": "display_data",
                    "data": {
                        "text/html": "Total execution time: 00:00:00.012"
                    },
                    "metadata": {}
                },
                {
                    "output_type": "execute_result",
                    "execution_count": 14,
                    "data": {
                        "application/vnd.dataresource+json": {
                            "schema": {
                                "fields": [
                                    {
                                        "name": "first_name"
                                    },
                                    {
                                        "name": "last_name"
                                    },
                                    {
                                        "name": "q1_2022"
                                    }
                                ]
                            },
                            "data": [
                                {
                                    "first_name": "Paul",
                                    "last_name": "Garrix",
                                    "q1_2022": "8715.55"
                                },
                                {
                                    "first_name": "Astrid",
                                    "last_name": "Fox",
                                    "q1_2022": "4989.23"
                                },
                                {
                                    "first_name": "Matthias",
                                    "last_name": "Johnson",
                                    "q1_2022": "12774.51"
                                },
                                {
                                    "first_name": "Lucy",
                                    "last_name": "Patterson",
                                    "q1_2022": "5417.81"
                                },
                                {
                                    "first_name": "Tom",
                                    "last_name": "Page",
                                    "q1_2022": "6349.74"
                                },
                                {
                                    "first_name": "Claudia",
                                    "last_name": "Conte",
                                    "q1_2022": "2498.63"
                                },
                                {
                                    "first_name": "Walter",
                                    "last_name": "Deer",
                                    "q1_2022": "18415.66"
                                },
                                {
                                    "first_name": "Stephanie",
                                    "last_name": "Marx",
                                    "q1_2022": "3471.41"
                                },
                                {
                                    "first_name": "Luca",
                                    "last_name": "Pavarotti",
                                    "q1_2022": "4485.36"
                                },
                                {
                                    "first_name": "Victoria",
                                    "last_name": "Pollock",
                                    "q1_2022": "1547.52"
                                }
                            ]
                        },
                        "text/html": "<table><tr><th>first_name</th><th>last_name</th><th>q1_2022</th></tr><tr><td>Paul</td><td>Garrix</td><td>8715.55</td></tr><tr><td>Astrid</td><td>Fox</td><td>4989.23</td></tr><tr><td>Matthias</td><td>Johnson</td><td>12774.51</td></tr><tr><td>Lucy</td><td>Patterson</td><td>5417.81</td></tr><tr><td>Tom</td><td>Page</td><td>6349.74</td></tr><tr><td>Claudia</td><td>Conte</td><td>2498.63</td></tr><tr><td>Walter</td><td>Deer</td><td>18415.66</td></tr><tr><td>Stephanie</td><td>Marx</td><td>3471.41</td></tr><tr><td>Luca</td><td>Pavarotti</td><td>4485.36</td></tr><tr><td>Victoria</td><td>Pollock</td><td>1547.52</td></tr></table>"
                    },
                    "metadata": {}
                }
            ],
            "execution_count": 14
        },
        {
            "cell_type": "code",
            "source": [
                "-- 12. Total annual sales for each employee\r\n",
                "SELECT e.first_name, e.last_name,\r\n",
                "       (qs.q1_2022 + qs.q2_2022 + qs.q3_2022 + qs.q4_2022) AS total_sales\r\n",
                "FROM employees e\r\n",
                "JOIN quarterly_sales qs ON e.id = qs.employee_id;"
            ],
            "metadata": {
                "language": "sql",
                "azdata_cell_guid": "cd5c5c66-0be3-4052-8374-d3a74df4ee94"
            },
            "outputs": [
                {
                    "output_type": "display_data",
                    "data": {
                        "text/html": "(10 rows affected)"
                    },
                    "metadata": {}
                },
                {
                    "output_type": "display_data",
                    "data": {
                        "text/html": "Total execution time: 00:00:00.011"
                    },
                    "metadata": {}
                },
                {
                    "output_type": "execute_result",
                    "execution_count": 15,
                    "data": {
                        "application/vnd.dataresource+json": {
                            "schema": {
                                "fields": [
                                    {
                                        "name": "first_name"
                                    },
                                    {
                                        "name": "last_name"
                                    },
                                    {
                                        "name": "total_sales"
                                    }
                                ]
                            },
                            "data": [
                                {
                                    "first_name": "Paul",
                                    "last_name": "Garrix",
                                    "total_sales": "45443.38"
                                },
                                {
                                    "first_name": "Astrid",
                                    "last_name": "Fox",
                                    "total_sales": "20312.48"
                                },
                                {
                                    "first_name": "Matthias",
                                    "last_name": "Johnson",
                                    "total_sales": "58233.67"
                                },
                                {
                                    "first_name": "Lucy",
                                    "last_name": "Patterson",
                                    "total_sales": "30595.57"
                                },
                                {
                                    "first_name": "Tom",
                                    "last_name": "Page",
                                    "total_sales": "28637.65"
                                },
                                {
                                    "first_name": "Claudia",
                                    "last_name": "Conte",
                                    "total_sales": "17734.94"
                                },
                                {
                                    "first_name": "Walter",
                                    "last_name": "Deer",
                                    "total_sales": "62774.59"
                                },
                                {
                                    "first_name": "Stephanie",
                                    "last_name": "Marx",
                                    "total_sales": "22993.23"
                                },
                                {
                                    "first_name": "Luca",
                                    "last_name": "Pavarotti",
                                    "total_sales": "25023.21"
                                },
                                {
                                    "first_name": "Victoria",
                                    "last_name": "Pollock",
                                    "total_sales": "6770.16"
                                }
                            ]
                        },
                        "text/html": "<table><tr><th>first_name</th><th>last_name</th><th>total_sales</th></tr><tr><td>Paul</td><td>Garrix</td><td>45443.38</td></tr><tr><td>Astrid</td><td>Fox</td><td>20312.48</td></tr><tr><td>Matthias</td><td>Johnson</td><td>58233.67</td></tr><tr><td>Lucy</td><td>Patterson</td><td>30595.57</td></tr><tr><td>Tom</td><td>Page</td><td>28637.65</td></tr><tr><td>Claudia</td><td>Conte</td><td>17734.94</td></tr><tr><td>Walter</td><td>Deer</td><td>62774.59</td></tr><tr><td>Stephanie</td><td>Marx</td><td>22993.23</td></tr><tr><td>Luca</td><td>Pavarotti</td><td>25023.21</td></tr><tr><td>Victoria</td><td>Pollock</td><td>6770.16</td></tr></table>"
                    },
                    "metadata": {}
                }
            ],
            "execution_count": 15
        },
        {
            "cell_type": "code",
            "source": [
                "\r\n",
                "-- 13. Top 3 employees by total sales\r\n",
                "SELECT TOP 3 e.first_name, e.last_name,\r\n",
                "       (qs.q1_2022 + qs.q2_2022 + qs.q3_2022 + qs.q4_2022) AS total_sales\r\n",
                "FROM employees e\r\n",
                "JOIN quarterly_sales qs ON e.id = qs.employee_id\r\n",
                "ORDER BY total_sales DESC;"
            ],
            "metadata": {
                "language": "sql",
                "azdata_cell_guid": "b7e3e34a-327d-47fc-91d0-ebf8bc7d327d"
            },
            "outputs": [
                {
                    "output_type": "display_data",
                    "data": {
                        "text/html": "(3 rows affected)"
                    },
                    "metadata": {}
                },
                {
                    "output_type": "display_data",
                    "data": {
                        "text/html": "Total execution time: 00:00:00.174"
                    },
                    "metadata": {}
                },
                {
                    "output_type": "execute_result",
                    "execution_count": 16,
                    "data": {
                        "application/vnd.dataresource+json": {
                            "schema": {
                                "fields": [
                                    {
                                        "name": "first_name"
                                    },
                                    {
                                        "name": "last_name"
                                    },
                                    {
                                        "name": "total_sales"
                                    }
                                ]
                            },
                            "data": [
                                {
                                    "first_name": "Walter",
                                    "last_name": "Deer",
                                    "total_sales": "62774.59"
                                },
                                {
                                    "first_name": "Matthias",
                                    "last_name": "Johnson",
                                    "total_sales": "58233.67"
                                },
                                {
                                    "first_name": "Paul",
                                    "last_name": "Garrix",
                                    "total_sales": "45443.38"
                                }
                            ]
                        },
                        "text/html": "<table><tr><th>first_name</th><th>last_name</th><th>total_sales</th></tr><tr><td>Walter</td><td>Deer</td><td>62774.59</td></tr><tr><td>Matthias</td><td>Johnson</td><td>58233.67</td></tr><tr><td>Paul</td><td>Garrix</td><td>45443.38</td></tr></table>"
                    },
                    "metadata": {}
                }
            ],
            "execution_count": 16
        },
        {
            "cell_type": "code",
            "source": [
                "\r\n",
                "-- 14. Department-wise average salary\r\n",
                "SELECT department, AVG(salary) AS avg_salary\r\n",
                "FROM employees\r\n",
                "GROUP BY department;"
            ],
            "metadata": {
                "language": "sql",
                "azdata_cell_guid": "53885f2f-db89-423c-934c-417916166b0f"
            },
            "outputs": [
                {
                    "output_type": "display_data",
                    "data": {
                        "text/html": "(2 rows affected)"
                    },
                    "metadata": {}
                },
                {
                    "output_type": "display_data",
                    "data": {
                        "text/html": "Total execution time: 00:00:00.015"
                    },
                    "metadata": {}
                },
                {
                    "output_type": "execute_result",
                    "execution_count": 17,
                    "data": {
                        "application/vnd.dataresource+json": {
                            "schema": {
                                "fields": [
                                    {
                                        "name": "department"
                                    },
                                    {
                                        "name": "avg_salary"
                                    }
                                ]
                            },
                            "data": [
                                {
                                    "department": "Corporate",
                                    "avg_salary": "4383.964000"
                                },
                                {
                                    "department": "Private Individuals",
                                    "avg_salary": "3414.584000"
                                }
                            ]
                        },
                        "text/html": "<table><tr><th>department</th><th>avg_salary</th></tr><tr><td>Corporate</td><td>4383.964000</td></tr><tr><td>Private Individuals</td><td>3414.584000</td></tr></table>"
                    },
                    "metadata": {}
                }
            ],
            "execution_count": 17
        },
        {
            "cell_type": "code",
            "source": [
                "\r\n",
                "-- 15. Total Q2 sales across all employees\r\n",
                "SELECT SUM(q2_2022) AS total_q2_sales FROM quarterly_sales;"
            ],
            "metadata": {
                "language": "sql",
                "azdata_cell_guid": "a1062d29-5459-4a04-aceb-346e16034ecc"
            },
            "outputs": [
                {
                    "output_type": "display_data",
                    "data": {
                        "text/html": "(1 row affected)"
                    },
                    "metadata": {}
                },
                {
                    "output_type": "display_data",
                    "data": {
                        "text/html": "Total execution time: 00:00:00.010"
                    },
                    "metadata": {}
                },
                {
                    "output_type": "execute_result",
                    "execution_count": 18,
                    "data": {
                        "application/vnd.dataresource+json": {
                            "schema": {
                                "fields": [
                                    {
                                        "name": "total_q2_sales"
                                    }
                                ]
                            },
                            "data": [
                                {
                                    "total_q2_sales": "102936.19"
                                }
                            ]
                        },
                        "text/html": "<table><tr><th>total_q2_sales</th></tr><tr><td>102936.19</td></tr></table>"
                    },
                    "metadata": {}
                }
            ],
            "execution_count": 18
        },
        {
            "cell_type": "markdown",
            "source": [
                "**\\-- 📙 STEP 3: UPDATE and DELETE**"
            ],
            "metadata": {
                "language": "",
                "azdata_cell_guid": "0d393cb0-58c0-43c5-84ed-a44635886638"
            },
            "attachments": {}
        },
        {
            "cell_type": "code",
            "source": [
                "-- 16. Update salary of an employee\r\n",
                "UPDATE employees SET salary = 6000 WHERE id = 1;"
            ],
            "metadata": {
                "language": "sql",
                "azdata_cell_guid": "0c27b4c6-aa2f-42ae-8ca2-f73c2df441c1"
            },
            "outputs": [
                {
                    "output_type": "display_data",
                    "data": {
                        "text/html": "(1 row affected)"
                    },
                    "metadata": {}
                },
                {
                    "output_type": "display_data",
                    "data": {
                        "text/html": "Total execution time: 00:00:00.007"
                    },
                    "metadata": {}
                }
            ],
            "execution_count": 19
        },
        {
            "cell_type": "code",
            "source": [
                "\r\n",
                "-- 17. Update department of all employees with salary < 3000\r\n",
                "UPDATE employees SET department = 'Support' WHERE salary < 3000;\r\n",
                "\r\n",
                "-- 18. Delete an employee record\r\n",
                "-- DELETE FROM employees WHERE id = 10; -- Uncomment to run"
            ],
            "metadata": {
                "language": "sql",
                "azdata_cell_guid": "ae31ee7c-2cc7-412d-a531-104f3b0ef075"
            },
            "outputs": [
                {
                    "output_type": "display_data",
                    "data": {
                        "text/html": "(2 rows affected)"
                    },
                    "metadata": {}
                },
                {
                    "output_type": "display_data",
                    "data": {
                        "text/html": "Total execution time: 00:00:00.007"
                    },
                    "metadata": {}
                }
            ],
            "execution_count": 20
        },
        {
            "cell_type": "markdown",
            "source": [
                "**\\-- 📒 STEP 4: ALTER TABLE operations**"
            ],
            "metadata": {
                "language": "",
                "azdata_cell_guid": "5587eca4-6103-4116-ac2f-489d9af10059"
            },
            "attachments": {}
        },
        {
            "cell_type": "code",
            "source": [
                "-- 19. Add a new column 'email' to employees table\r\n",
                "ALTER TABLE employees ADD email VARCHAR(100);"
            ],
            "metadata": {
                "language": "sql",
                "azdata_cell_guid": "718e3327-41d3-4af9-bad8-33ef6587e2c7"
            },
            "outputs": [
                {
                    "output_type": "display_data",
                    "data": {
                        "text/html": "Commands completed successfully."
                    },
                    "metadata": {}
                },
                {
                    "output_type": "display_data",
                    "data": {
                        "text/html": "Total execution time: 00:00:00.010"
                    },
                    "metadata": {}
                }
            ],
            "execution_count": 21
        },
        {
            "cell_type": "code",
            "source": [
                "-- 20. Update email for one employee\r\n",
                "UPDATE employees SET email = 'paul.garrix@company.com' WHERE id = 1;"
            ],
            "metadata": {
                "language": "sql",
                "azdata_cell_guid": "048e2b30-85c7-41f0-a3bf-6ce38e737903"
            },
            "outputs": [
                {
                    "output_type": "display_data",
                    "data": {
                        "text/html": "(1 row affected)"
                    },
                    "metadata": {}
                },
                {
                    "output_type": "display_data",
                    "data": {
                        "text/html": "Total execution time: 00:00:00.002"
                    },
                    "metadata": {}
                }
            ],
            "execution_count": 22
        },
        {
            "cell_type": "code",
            "source": [
                "-- 21. Rename column 'salary' to 'monthly_salary'\r\n",
                "EXEC sp_rename 'employees.salary', 'monthly_salary', 'COLUMN';"
            ],
            "metadata": {
                "language": "sql",
                "azdata_cell_guid": "b025f8bc-4845-43a2-974d-e0652a4eed73"
            },
            "outputs": [
                {
                    "output_type": "display_data",
                    "data": {
                        "text/html": "Caution: Changing any part of an object name could break scripts and stored procedures."
                    },
                    "metadata": {}
                },
                {
                    "output_type": "display_data",
                    "data": {
                        "text/html": "Total execution time: 00:00:00.272"
                    },
                    "metadata": {}
                }
            ],
            "execution_count": 23
        },
        {
            "cell_type": "markdown",
            "source": [
                "**\\-- 📕 STEP 5: Aggregation + Filtering**"
            ],
            "metadata": {
                "language": "",
                "azdata_cell_guid": "d65faed7-06fb-4915-aa4a-b7795e7e558e"
            },
            "attachments": {}
        },
        {
            "cell_type": "code",
            "source": [
                "\r\n",
                "-- 22. Get employees with total annual sales > 25000\r\n",
                "SELECT \r\n",
                "  e.first_name, \r\n",
                "  e.last_name,\r\n",
                "  (qs.q1_2022 + qs.q2_2022 + qs.q3_2022 + qs.q4_2022) AS total_sales\r\n",
                "FROM employees e\r\n",
                "JOIN quarterly_sales qs ON e.id = qs.employee_id\r\n",
                "WHERE (qs.q1_2022 + qs.q2_2022 + qs.q3_2022 + qs.q4_2022) > 25000;"
            ],
            "metadata": {
                "language": "sql",
                "azdata_cell_guid": "fa08ab01-797e-46b2-b398-f805118b8f85"
            },
            "outputs": [
                {
                    "output_type": "display_data",
                    "data": {
                        "text/html": "(6 rows affected)"
                    },
                    "metadata": {}
                },
                {
                    "output_type": "display_data",
                    "data": {
                        "text/html": "Total execution time: 00:00:01.004"
                    },
                    "metadata": {}
                },
                {
                    "output_type": "execute_result",
                    "execution_count": 34,
                    "data": {
                        "application/vnd.dataresource+json": {
                            "schema": {
                                "fields": [
                                    {
                                        "name": "first_name"
                                    },
                                    {
                                        "name": "last_name"
                                    },
                                    {
                                        "name": "total_sales"
                                    }
                                ]
                            },
                            "data": [
                                {
                                    "first_name": "Paul",
                                    "last_name": "Garrix",
                                    "total_sales": "45443.38"
                                },
                                {
                                    "first_name": "Matthias",
                                    "last_name": "Johnson",
                                    "total_sales": "58233.67"
                                },
                                {
                                    "first_name": "Lucy",
                                    "last_name": "Patterson",
                                    "total_sales": "30595.57"
                                },
                                {
                                    "first_name": "Tom",
                                    "last_name": "Page",
                                    "total_sales": "28637.65"
                                },
                                {
                                    "first_name": "Walter",
                                    "last_name": "Deer",
                                    "total_sales": "62774.59"
                                },
                                {
                                    "first_name": "Luca",
                                    "last_name": "Pavarotti",
                                    "total_sales": "25023.21"
                                }
                            ]
                        },
                        "text/html": "<table><tr><th>first_name</th><th>last_name</th><th>total_sales</th></tr><tr><td>Paul</td><td>Garrix</td><td>45443.38</td></tr><tr><td>Matthias</td><td>Johnson</td><td>58233.67</td></tr><tr><td>Lucy</td><td>Patterson</td><td>30595.57</td></tr><tr><td>Tom</td><td>Page</td><td>28637.65</td></tr><tr><td>Walter</td><td>Deer</td><td>62774.59</td></tr><tr><td>Luca</td><td>Pavarotti</td><td>25023.21</td></tr></table>"
                    },
                    "metadata": {}
                }
            ],
            "execution_count": 34
        },
        {
            "cell_type": "code",
            "source": [
                "-- 23. Group employees by department and count them\r\n",
                "SELECT department, COUNT(*) AS employee_count\r\n",
                "FROM employees\r\n",
                "GROUP BY department;"
            ],
            "metadata": {
                "language": "sql",
                "azdata_cell_guid": "47544ce4-9e61-46d8-8396-2011cff1a4ec"
            },
            "outputs": [
                {
                    "output_type": "display_data",
                    "data": {
                        "text/html": "(3 rows affected)"
                    },
                    "metadata": {}
                },
                {
                    "output_type": "display_data",
                    "data": {
                        "text/html": "Total execution time: 00:00:02.009"
                    },
                    "metadata": {}
                },
                {
                    "output_type": "execute_result",
                    "execution_count": 26,
                    "data": {
                        "application/vnd.dataresource+json": {
                            "schema": {
                                "fields": [
                                    {
                                        "name": "department"
                                    },
                                    {
                                        "name": "employee_count"
                                    }
                                ]
                            },
                            "data": [
                                {
                                    "department": "Corporate",
                                    "employee_count": "4"
                                },
                                {
                                    "department": "Private Individuals",
                                    "employee_count": "4"
                                },
                                {
                                    "department": "Support",
                                    "employee_count": "2"
                                }
                            ]
                        },
                        "text/html": "<table><tr><th>department</th><th>employee_count</th></tr><tr><td>Corporate</td><td>4</td></tr><tr><td>Private Individuals</td><td>4</td></tr><tr><td>Support</td><td>2</td></tr></table>"
                    },
                    "metadata": {}
                }
            ],
            "execution_count": 26
        },
        {
            "cell_type": "code",
            "source": [
                "\r\n",
                "-- 24. Maximum salary in each department\r\n",
                "SELECT department, MAX(monthly_salary) AS max_salary\r\n",
                "FROM employees\r\n",
                "GROUP BY department;"
            ],
            "metadata": {
                "language": "sql",
                "azdata_cell_guid": "5346c9d2-1329-430f-a5f6-09cff862930f"
            },
            "outputs": [
                {
                    "output_type": "display_data",
                    "data": {
                        "text/html": "(3 rows affected)"
                    },
                    "metadata": {}
                },
                {
                    "output_type": "display_data",
                    "data": {
                        "text/html": "Total execution time: 00:00:02.688"
                    },
                    "metadata": {}
                },
                {
                    "output_type": "execute_result",
                    "execution_count": 27,
                    "data": {
                        "application/vnd.dataresource+json": {
                            "schema": {
                                "fields": [
                                    {
                                        "name": "department"
                                    },
                                    {
                                        "name": "max_salary"
                                    }
                                ]
                            },
                            "data": [
                                {
                                    "department": "Corporate",
                                    "max_salary": "6000.00"
                                },
                                {
                                    "department": "Private Individuals",
                                    "max_salary": "4123.45"
                                },
                                {
                                    "department": "Support",
                                    "max_salary": "2894.51"
                                }
                            ]
                        },
                        "text/html": "<table><tr><th>department</th><th>max_salary</th></tr><tr><td>Corporate</td><td>6000.00</td></tr><tr><td>Private Individuals</td><td>4123.45</td></tr><tr><td>Support</td><td>2894.51</td></tr></table>"
                    },
                    "metadata": {}
                }
            ],
            "execution_count": 27
        },
        {
            "cell_type": "markdown",
            "source": [
                "**\\-- 📔 STEP 6: Subqueries**"
            ],
            "metadata": {
                "language": "",
                "azdata_cell_guid": "2f5d8eec-5aaf-4979-a357-94db440ac1e4"
            },
            "attachments": {}
        },
        {
            "cell_type": "code",
            "source": [
                "-- 25. Get employees earning more than average salary\r\n",
                "SELECT * FROM employees\r\n",
                "WHERE monthly_salary > (SELECT AVG(monthly_salary) FROM employees);"
            ],
            "metadata": {
                "language": "sql",
                "azdata_cell_guid": "29ae1522-3d07-4e46-9697-8507097e8a74"
            },
            "outputs": [
                {
                    "output_type": "display_data",
                    "data": {
                        "text/html": "(4 rows affected)"
                    },
                    "metadata": {}
                },
                {
                    "output_type": "display_data",
                    "data": {
                        "text/html": "Total execution time: 00:00:02.001"
                    },
                    "metadata": {}
                },
                {
                    "output_type": "execute_result",
                    "execution_count": 28,
                    "data": {
                        "application/vnd.dataresource+json": {
                            "schema": {
                                "fields": [
                                    {
                                        "name": "id"
                                    },
                                    {
                                        "name": "first_name"
                                    },
                                    {
                                        "name": "last_name"
                                    },
                                    {
                                        "name": "department"
                                    },
                                    {
                                        "name": "monthly_salary"
                                    },
                                    {
                                        "name": "email"
                                    }
                                ]
                            },
                            "data": [
                                {
                                    "id": "1",
                                    "first_name": "Paul",
                                    "last_name": "Garrix",
                                    "department": "Corporate",
                                    "monthly_salary": "6000.00",
                                    "email": "paul.garrix@company.com"
                                },
                                {
                                    "id": "5",
                                    "first_name": "Tom",
                                    "last_name": "Page",
                                    "department": "Corporate",
                                    "monthly_salary": "5974.41",
                                    "email": "NULL"
                                },
                                {
                                    "id": "6",
                                    "first_name": "Claudia",
                                    "last_name": "Conte",
                                    "department": "Corporate",
                                    "monthly_salary": "4714.12",
                                    "email": "NULL"
                                },
                                {
                                    "id": "10",
                                    "first_name": "Victoria",
                                    "last_name": "Pollock",
                                    "department": "Corporate",
                                    "monthly_salary": "4789.53",
                                    "email": "NULL"
                                }
                            ]
                        },
                        "text/html": "<table><tr><th>id</th><th>first_name</th><th>last_name</th><th>department</th><th>monthly_salary</th><th>email</th></tr><tr><td>1</td><td>Paul</td><td>Garrix</td><td>Corporate</td><td>6000.00</td><td>paul.garrix@company.com</td></tr><tr><td>5</td><td>Tom</td><td>Page</td><td>Corporate</td><td>5974.41</td><td>NULL</td></tr><tr><td>6</td><td>Claudia</td><td>Conte</td><td>Corporate</td><td>4714.12</td><td>NULL</td></tr><tr><td>10</td><td>Victoria</td><td>Pollock</td><td>Corporate</td><td>4789.53</td><td>NULL</td></tr></table>"
                    },
                    "metadata": {}
                }
            ],
            "execution_count": 28
        },
        {
            "cell_type": "code",
            "source": [
                "\r\n",
                "-- 26. Employees whose total sales are above average\r\n",
                "SELECT e.first_name, e.last_name\r\n",
                "FROM employees e\r\n",
                "JOIN quarterly_sales qs ON e.id = qs.employee_id\r\n",
                "WHERE (qs.q1_2022 + qs.q2_2022 + qs.q3_2022 + qs.q4_2022) >\r\n",
                "      (SELECT AVG(q1_2022 + q2_2022 + q3_2022 + q4_2022) FROM quarterly_sales);"
            ],
            "metadata": {
                "language": "sql",
                "azdata_cell_guid": "afc0dfbf-94d2-4daa-a34f-2cd054900945"
            },
            "outputs": [
                {
                    "output_type": "display_data",
                    "data": {
                        "text/html": "(3 rows affected)"
                    },
                    "metadata": {}
                },
                {
                    "output_type": "display_data",
                    "data": {
                        "text/html": "Total execution time: 00:00:00.022"
                    },
                    "metadata": {}
                },
                {
                    "output_type": "execute_result",
                    "execution_count": 29,
                    "data": {
                        "application/vnd.dataresource+json": {
                            "schema": {
                                "fields": [
                                    {
                                        "name": "first_name"
                                    },
                                    {
                                        "name": "last_name"
                                    }
                                ]
                            },
                            "data": [
                                {
                                    "first_name": "Paul",
                                    "last_name": "Garrix"
                                },
                                {
                                    "first_name": "Matthias",
                                    "last_name": "Johnson"
                                },
                                {
                                    "first_name": "Walter",
                                    "last_name": "Deer"
                                }
                            ]
                        },
                        "text/html": "<table><tr><th>first_name</th><th>last_name</th></tr><tr><td>Paul</td><td>Garrix</td></tr><tr><td>Matthias</td><td>Johnson</td></tr><tr><td>Walter</td><td>Deer</td></tr></table>"
                    },
                    "metadata": {}
                }
            ],
            "execution_count": 29
        },
        {
            "cell_type": "markdown",
            "source": [
                "**\\-- 📙 STEP 7: Advanced Ordering**"
            ],
            "metadata": {
                "language": "",
                "azdata_cell_guid": "bc28f5e2-c9a8-4774-9f92-b906a3e933c5"
            },
            "attachments": {}
        },
        {
            "cell_type": "code",
            "source": [
                "-- 27. Bottom 3 earners\r\n",
                "SELECT TOP 3 * FROM employees ORDER BY monthly_salary ASC;"
            ],
            "metadata": {
                "language": "sql",
                "azdata_cell_guid": "40081f97-af2d-4789-b52e-59f7943adbd3"
            },
            "outputs": [
                {
                    "output_type": "display_data",
                    "data": {
                        "text/html": "(3 rows affected)"
                    },
                    "metadata": {}
                },
                {
                    "output_type": "display_data",
                    "data": {
                        "text/html": "Total execution time: 00:00:00.011"
                    },
                    "metadata": {}
                },
                {
                    "output_type": "execute_result",
                    "execution_count": 30,
                    "data": {
                        "application/vnd.dataresource+json": {
                            "schema": {
                                "fields": [
                                    {
                                        "name": "id"
                                    },
                                    {
                                        "name": "first_name"
                                    },
                                    {
                                        "name": "last_name"
                                    },
                                    {
                                        "name": "department"
                                    },
                                    {
                                        "name": "monthly_salary"
                                    },
                                    {
                                        "name": "email"
                                    }
                                ]
                            },
                            "data": [
                                {
                                    "id": "2",
                                    "first_name": "Astrid",
                                    "last_name": "Fox",
                                    "department": "Support",
                                    "monthly_salary": "2845.56",
                                    "email": "NULL"
                                },
                                {
                                    "id": "8",
                                    "first_name": "Stephanie",
                                    "last_name": "Marx",
                                    "department": "Support",
                                    "monthly_salary": "2894.51",
                                    "email": "NULL"
                                },
                                {
                                    "id": "3",
                                    "first_name": "Matthias",
                                    "last_name": "Johnson",
                                    "department": "Private Individuals",
                                    "monthly_salary": "3009.41",
                                    "email": "NULL"
                                }
                            ]
                        },
                        "text/html": "<table><tr><th>id</th><th>first_name</th><th>last_name</th><th>department</th><th>monthly_salary</th><th>email</th></tr><tr><td>2</td><td>Astrid</td><td>Fox</td><td>Support</td><td>2845.56</td><td>NULL</td></tr><tr><td>8</td><td>Stephanie</td><td>Marx</td><td>Support</td><td>2894.51</td><td>NULL</td></tr><tr><td>3</td><td>Matthias</td><td>Johnson</td><td>Private Individuals</td><td>3009.41</td><td>NULL</td></tr></table>"
                    },
                    "metadata": {}
                }
            ],
            "execution_count": 30
        },
        {
            "cell_type": "code",
            "source": [
                "-- 28. Highest Q3 seller\r\n",
                "SELECT TOP 1 e.first_name, e.last_name, qs.q3_2022\r\n",
                "FROM employees e\r\n",
                "JOIN quarterly_sales qs ON e.id = qs.employee_id\r\n",
                "ORDER BY qs.q3_2022 DESC;"
            ],
            "metadata": {
                "language": "sql",
                "azdata_cell_guid": "cfb4fd78-264d-49ce-b1aa-3e04fe1f06f0"
            },
            "outputs": [
                {
                    "output_type": "display_data",
                    "data": {
                        "text/html": "(1 row affected)"
                    },
                    "metadata": {}
                },
                {
                    "output_type": "display_data",
                    "data": {
                        "text/html": "Total execution time: 00:00:00.226"
                    },
                    "metadata": {}
                },
                {
                    "output_type": "execute_result",
                    "execution_count": 31,
                    "data": {
                        "application/vnd.dataresource+json": {
                            "schema": {
                                "fields": [
                                    {
                                        "name": "first_name"
                                    },
                                    {
                                        "name": "last_name"
                                    },
                                    {
                                        "name": "q3_2022"
                                    }
                                ]
                            },
                            "data": [
                                {
                                    "first_name": "Paul",
                                    "last_name": "Garrix",
                                    "q3_2022": "24747.82"
                                }
                            ]
                        },
                        "text/html": "<table><tr><th>first_name</th><th>last_name</th><th>q3_2022</th></tr><tr><td>Paul</td><td>Garrix</td><td>24747.82</td></tr></table>"
                    },
                    "metadata": {}
                }
            ],
            "execution_count": 31
        },
        {
            "cell_type": "code",
            "source": [
                "-- 29. Employees who sold more than 10000 in Q1 or Q2\r\n",
                "SELECT e.first_name, e.last_name, qs.q1_2022, qs.q2_2022\r\n",
                "FROM employees e\r\n",
                "JOIN quarterly_sales qs ON e.id = qs.employee_id\r\n",
                "WHERE qs.q1_2022 > 10000 OR qs.q2_2022 > 10000;"
            ],
            "metadata": {
                "language": "sql",
                "azdata_cell_guid": "b104b517-80bb-4f6f-8e93-4025c9ce3827"
            },
            "outputs": [
                {
                    "output_type": "display_data",
                    "data": {
                        "text/html": "(4 rows affected)"
                    },
                    "metadata": {}
                },
                {
                    "output_type": "display_data",
                    "data": {
                        "text/html": "Total execution time: 00:00:00.218"
                    },
                    "metadata": {}
                },
                {
                    "output_type": "execute_result",
                    "execution_count": 32,
                    "data": {
                        "application/vnd.dataresource+json": {
                            "schema": {
                                "fields": [
                                    {
                                        "name": "first_name"
                                    },
                                    {
                                        "name": "last_name"
                                    },
                                    {
                                        "name": "q1_2022"
                                    },
                                    {
                                        "name": "q2_2022"
                                    }
                                ]
                            },
                            "data": [
                                {
                                    "first_name": "Matthias",
                                    "last_name": "Johnson",
                                    "q1_2022": "12774.51",
                                    "q2_2022": "24784.31"
                                },
                                {
                                    "first_name": "Lucy",
                                    "last_name": "Patterson",
                                    "q1_2022": "5417.81",
                                    "q2_2022": "12846.23"
                                },
                                {
                                    "first_name": "Walter",
                                    "last_name": "Deer",
                                    "q1_2022": "18415.66",
                                    "q2_2022": "15279.37"
                                },
                                {
                                    "first_name": "Stephanie",
                                    "last_name": "Marx",
                                    "q1_2022": "3471.41",
                                    "q2_2022": "14789.25"
                                }
                            ]
                        },
                        "text/html": "<table><tr><th>first_name</th><th>last_name</th><th>q1_2022</th><th>q2_2022</th></tr><tr><td>Matthias</td><td>Johnson</td><td>12774.51</td><td>24784.31</td></tr><tr><td>Lucy</td><td>Patterson</td><td>5417.81</td><td>12846.23</td></tr><tr><td>Walter</td><td>Deer</td><td>18415.66</td><td>15279.37</td></tr><tr><td>Stephanie</td><td>Marx</td><td>3471.41</td><td>14789.25</td></tr></table>"
                    },
                    "metadata": {}
                }
            ],
            "execution_count": 32
        },
        {
            "cell_type": "code",
            "source": [
                "-- 30. Total sales for each quarter\r\n",
                "SELECT\r\n",
                "  SUM(q1_2022) AS total_q1,\r\n",
                "  SUM(q2_2022) AS total_q2,\r\n",
                "  SUM(q3_2022) AS total_q3,\r\n",
                "  SUM(q4_2022) AS total_q4\r\n",
                "FROM quarterly_sales;\r\n",
                ""
            ],
            "metadata": {
                "language": "sql",
                "azdata_cell_guid": "fa98e7da-6e92-45cf-ac1e-8ba704a88c59"
            },
            "outputs": [
                {
                    "output_type": "display_data",
                    "data": {
                        "text/html": "(1 row affected)"
                    },
                    "metadata": {}
                },
                {
                    "output_type": "display_data",
                    "data": {
                        "text/html": "Total execution time: 00:00:00.221"
                    },
                    "metadata": {}
                },
                {
                    "output_type": "execute_result",
                    "execution_count": 33,
                    "data": {
                        "application/vnd.dataresource+json": {
                            "schema": {
                                "fields": [
                                    {
                                        "name": "total_q1"
                                    },
                                    {
                                        "name": "total_q2"
                                    },
                                    {
                                        "name": "total_q3"
                                    },
                                    {
                                        "name": "total_q4"
                                    }
                                ]
                            },
                            "data": [
                                {
                                    "total_q1": "68665.42",
                                    "total_q2": "102936.19",
                                    "total_q3": "89931.56",
                                    "total_q4": "56985.71"
                                }
                            ]
                        },
                        "text/html": "<table><tr><th>total_q1</th><th>total_q2</th><th>total_q3</th><th>total_q4</th></tr><tr><td>68665.42</td><td>102936.19</td><td>89931.56</td><td>56985.71</td></tr></table>"
                    },
                    "metadata": {}
                }
            ],
            "execution_count": 33
        }
    ]
}