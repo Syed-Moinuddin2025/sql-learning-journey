{
 "cells": [
  {
   "cell_type": "code",
   "execution_count": 1,
   "metadata": {
    "vscode": {
     "languageId": "sql"
    }
   },
   "outputs": [
    {
     "name": "stdout",
     "output_type": "stream",
     "text": [
      "Requirement already satisfied: pyodbc in c:\\users\\syed\\anaconda3\\lib\\site-packages (5.1.0)\n"
     ]
    }
   ],
   "source": [
    "!pip install pyodbc"
   ]
  },
  {
   "cell_type": "code",
   "execution_count": 1,
   "metadata": {
    "vscode": {
     "languageId": "sql"
    }
   },
   "outputs": [
    {
     "name": "stdout",
     "output_type": "stream",
     "text": [
      "✅ Connected to SQL Server: EmployeeSalesDB\n"
     ]
    }
   ],
   "source": [
    "import pyodbc\n",
    "\n",
    "conn = pyodbc.connect(\n",
    "    \"Driver={SQL Server};\"\n",
    "    \"Server=DESKTOP-VUVFCR5;\"  # ✅ Your correct server name\n",
    "    \"Database=EmployeeSalesDB;\"\n",
    "    \"Trusted_Connection=yes;\"\n",
    ")\n",
    "\n",
    "cursor = conn.cursor()\n",
    "print(\"✅ Connected to SQL Server: EmployeeSalesDB\")\n",
    "\n"
   ]
  },
  {
   "cell_type": "code",
   "execution_count": null,
   "metadata": {
    "vscode": {
     "languageId": "sql"
    }
   },
   "outputs": [],
   "source": [
    " "
   ]
  },
  {
   "attachments": {},
   "cell_type": "markdown",
   "metadata": {
    "azdata_cell_guid": "a58d659b-c4f6-4e4a-b302-00bb39e2d1d7"
   },
   "source": [
    "<span style=\"color: #008000;\"><b>-- 📘 STEP 1: Basic SELECT queries</b></span>"
   ]
  },
  {
   "cell_type": "markdown",
   "metadata": {
    "azdata_cell_guid": "4478ccd2-df67-4676-b1f6-60138c44ac22",
    "language": "sql",
    "vscode": {
     "languageId": "sql"
    }
   },
   "source": [
    "\n",
    "\n",
    "-- 1. Select all employees\n"
   ]
  },
  {
   "cell_type": "code",
   "execution_count": 2,
   "metadata": {
    "vscode": {
     "languageId": "sql"
    }
   },
   "outputs": [
    {
     "name": "stdout",
     "output_type": "stream",
     "text": [
      "(1, 'Paul', 'Garrix', 'Corporate', Decimal('6000.00'), 'paul.garrix@company.com')\n",
      "(2, 'Astrid', 'Fox', 'Support', Decimal('2845.56'), None)\n",
      "(3, 'Matthias', 'Johnson', 'Private Individuals', Decimal('3009.41'), None)\n",
      "(4, 'Lucy', 'Patterson', 'Private Individuals', Decimal('3547.25'), None)\n",
      "(5, 'Tom', 'Page', 'Corporate', Decimal('5974.41'), None)\n",
      "(6, 'Claudia', 'Conte', 'Corporate', Decimal('4714.12'), None)\n",
      "(7, 'Walter', 'Deer', 'Private Individuals', Decimal('3547.25'), None)\n",
      "(8, 'Stephanie', 'Marx', 'Support', Decimal('2894.51'), None)\n",
      "(9, 'Luca', 'Pavarotti', 'Private Individuals', Decimal('4123.45'), None)\n",
      "(10, 'Victoria', 'Pollock', 'Corporate', Decimal('4789.53'), None)\n"
     ]
    }
   ],
   "source": [
    "cursor.execute(\"SELECT * FROM employees;\")\n",
    "rows = cursor.fetchall()\n",
    "for row in rows:\n",
    "\tprint(row)"
   ]
  },
  {
   "cell_type": "code",
   "execution_count": 4,
   "metadata": {
    "azdata_cell_guid": "369224c0-04c6-4a9a-ba3b-bdf976efb645",
    "language": "sql",
    "vscode": {
     "languageId": "sql"
    }
   },
   "outputs": [
    {
     "name": "stdout",
     "output_type": "stream",
     "text": [
      "('Paul', 'Garrix', Decimal('6000.00'))\n",
      "('Astrid', 'Fox', Decimal('2845.56'))\n",
      "('Matthias', 'Johnson', Decimal('3009.41'))\n",
      "('Lucy', 'Patterson', Decimal('3547.25'))\n",
      "('Tom', 'Page', Decimal('5974.41'))\n",
      "('Claudia', 'Conte', Decimal('4714.12'))\n",
      "('Walter', 'Deer', Decimal('3547.25'))\n",
      "('Stephanie', 'Marx', Decimal('2894.51'))\n",
      "('Luca', 'Pavarotti', Decimal('4123.45'))\n",
      "('Victoria', 'Pollock', Decimal('4789.53'))\n"
     ]
    }
   ],
   "source": [
    "\n",
    "# 2. Select employee names and salary\n",
    "cursor.execute(\"SELECT first_name, last_name, monthly_salary FROM employees;\")\n",
    "rows = cursor.fetchall()\n",
    "for row in rows:\n",
    "\tprint(row)"
   ]
  },
  {
   "cell_type": "code",
   "execution_count": 5,
   "metadata": {
    "azdata_cell_guid": "876bfdb1-1f1f-4a20-8ed7-55a255f40078",
    "language": "sql",
    "vscode": {
     "languageId": "sql"
    }
   },
   "outputs": [
    {
     "name": "stdout",
     "output_type": "stream",
     "text": [
      "(1, 'Paul', 'Garrix', 'Corporate', Decimal('6000.00'), 'paul.garrix@company.com')\n",
      "(5, 'Tom', 'Page', 'Corporate', Decimal('5974.41'), None)\n",
      "(6, 'Claudia', 'Conte', 'Corporate', Decimal('4714.12'), None)\n",
      "(9, 'Luca', 'Pavarotti', 'Private Individuals', Decimal('4123.45'), None)\n",
      "(10, 'Victoria', 'Pollock', 'Corporate', Decimal('4789.53'), None)\n"
     ]
    }
   ],
   "source": [
    "\n",
    "# 3. Select employees with salary above 4000\n",
    "cursor.execute(\"SELECT * FROM employees WHERE monthly_salary > 4000;\")\n",
    "rows = cursor.fetchall()\n",
    "for row in rows:\n",
    "\tprint(row)"
   ]
  },
  {
   "cell_type": "code",
   "execution_count": 7,
   "metadata": {
    "azdata_cell_guid": "32bc251c-4d47-4010-a6e3-0b6dd781dede",
    "language": "sql",
    "vscode": {
     "languageId": "sql"
    }
   },
   "outputs": [
    {
     "name": "stdout",
     "output_type": "stream",
     "text": [
      "(1, 'Paul', 'Garrix', 'Corporate', Decimal('6000.00'), 'paul.garrix@company.com')\n",
      "(5, 'Tom', 'Page', 'Corporate', Decimal('5974.41'), None)\n",
      "(6, 'Claudia', 'Conte', 'Corporate', Decimal('4714.12'), None)\n",
      "(10, 'Victoria', 'Pollock', 'Corporate', Decimal('4789.53'), None)\n"
     ]
    }
   ],
   "source": [
    "\n",
    "# 4. Select employees from Corporate department\n",
    "cursor.execute(\"SELECT * FROM employees WHERE department = 'Corporate';\")\n",
    "\n",
    "for row in cursor.fetchall():\n",
    "    print(row)"
   ]
  },
  {
   "cell_type": "code",
   "execution_count": 9,
   "metadata": {
    "azdata_cell_guid": "88c4e2e6-6f25-4c92-b7c5-cc7cfb9be9d7",
    "language": "sql",
    "vscode": {
     "languageId": "sql"
    }
   },
   "outputs": [
    {
     "name": "stdout",
     "output_type": "stream",
     "text": [
      "(1, 'Paul', 'Garrix', 'Corporate', Decimal('6000.00'), 'paul.garrix@company.com')\n",
      "(5, 'Tom', 'Page', 'Corporate', Decimal('5974.41'), None)\n",
      "(10, 'Victoria', 'Pollock', 'Corporate', Decimal('4789.53'), None)\n",
      "(6, 'Claudia', 'Conte', 'Corporate', Decimal('4714.12'), None)\n",
      "(9, 'Luca', 'Pavarotti', 'Private Individuals', Decimal('4123.45'), None)\n",
      "(7, 'Walter', 'Deer', 'Private Individuals', Decimal('3547.25'), None)\n",
      "(4, 'Lucy', 'Patterson', 'Private Individuals', Decimal('3547.25'), None)\n",
      "(3, 'Matthias', 'Johnson', 'Private Individuals', Decimal('3009.41'), None)\n",
      "(8, 'Stephanie', 'Marx', 'Support', Decimal('2894.51'), None)\n",
      "(2, 'Astrid', 'Fox', 'Support', Decimal('2845.56'), None)\n"
     ]
    }
   ],
   "source": [
    "\n",
    "# 5. Order employees by salary descending\n",
    "cursor.execute(\"SELECT * FROM employees ORDER BY monthly_salary DESC;\")\n",
    "rows = cursor.fetchall()\n",
    "for row in rows:\n",
    "\tprint(row)"
   ]
  },
  {
   "cell_type": "code",
   "execution_count": 11,
   "metadata": {
    "azdata_cell_guid": "7fe89b6a-922a-41bf-bef2-df2621d14991",
    "language": "sql",
    "vscode": {
     "languageId": "sql"
    }
   },
   "outputs": [
    {
     "name": "stdout",
     "output_type": "stream",
     "text": [
      "('Corporate',)\n",
      "('Private Individuals',)\n",
      "('Support',)\n"
     ]
    }
   ],
   "source": [
    "\n",
    "# 6. Get unique departments\n",
    "cursor.execute(\"SELECT DISTINCT department FROM employees;\")\n",
    "departments = cursor.fetchall()\n",
    "for dept in departments:\n",
    "\tprint(dept)"
   ]
  },
  {
   "cell_type": "code",
   "execution_count": null,
   "metadata": {
    "azdata_cell_guid": "774ee62f-6624-4d4d-86a5-80b7a67665a8",
    "language": "sql",
    "vscode": {
     "languageId": "sql"
    }
   },
   "outputs": [],
   "source": [
    "-- 7. Count total number of employees\n",
    "SELECT COUNT(*) AS total_employees FROM employees;"
   ]
  },
  {
   "cell_type": "code",
   "execution_count": null,
   "metadata": {
    "azdata_cell_guid": "1a4d39ab-c16d-4d10-90da-ccc7bc5d0514",
    "language": "sql",
    "vscode": {
     "languageId": "sql"
    }
   },
   "outputs": [
    {
     "name": "stdout",
     "output_type": "stream",
     "text": [
      "Average salary of all employees: 4144.549000\n"
     ]
    }
   ],
   "source": [
    "# 8. Get average salary of all employees\n",
    "cursor.execute(\"SELECT AVG(monthly_salary) AS avg_salary FROM employees;\")\n",
    "avg_salary = cursor.fetchone()[0]\n",
    "print(\"Average salary of all employees:\", avg_salary)\n"
   ]
  },
  {
   "cell_type": "code",
   "execution_count": 15,
   "metadata": {
    "azdata_cell_guid": "dc11e55b-8e77-4cbc-8bcb-74cae29d837d",
    "language": "sql",
    "vscode": {
     "languageId": "sql"
    }
   },
   "outputs": [
    {
     "name": "stdout",
     "output_type": "stream",
     "text": [
      "Total salary paid: 41445.49\n"
     ]
    }
   ],
   "source": [
    "# 9. Get total salary paid\n",
    "cursor.execute(\"SELECT SUM(monthly_salary) AS total_salary FROM employees;\")\n",
    "total_salary = cursor.fetchone()[0]\n",
    "print(\"Total salary paid:\", total_salary)"
   ]
  },
  {
   "cell_type": "code",
   "execution_count": null,
   "metadata": {
    "azdata_cell_guid": "ae5bf5cc-2d93-4f18-970a-b1d610c31db0",
    "language": "sql",
    "vscode": {
     "languageId": "sql"
    }
   },
   "outputs": [
    {
     "name": "stdout",
     "output_type": "stream",
     "text": [
      "(1, 'Paul', 'Garrix', 'Corporate', Decimal('6000.00'), 'paul.garrix@company.com')\n"
     ]
    }
   ],
   "source": [
    "# 10. Get employees with name starting with 'P'\n",
    "cursor.execute(\"SELECT * FROM employees WHERE first_name LIKE 'P%';\")\n",
    "rows = cursor.fetchall()\n",
    "for row in rows:\n",
    "\tprint(row)"
   ]
  },
  {
   "attachments": {},
   "cell_type": "markdown",
   "metadata": {
    "azdata_cell_guid": "7128501e-e105-4271-bafc-bc9c3a01609b",
    "language": ""
   },
   "source": [
    "**\\-- 📗 STEP 2: Join Queries**"
   ]
  },
  {
   "cell_type": "code",
   "execution_count": 19,
   "metadata": {
    "azdata_cell_guid": "2263aacb-d5d1-4f82-ba64-9d35867495c4",
    "language": "sql",
    "vscode": {
     "languageId": "sql"
    }
   },
   "outputs": [
    {
     "name": "stdout",
     "output_type": "stream",
     "text": [
      "('Paul', 'Garrix', Decimal('8715.55'))\n",
      "('Astrid', 'Fox', Decimal('4989.23'))\n",
      "('Matthias', 'Johnson', Decimal('12774.51'))\n",
      "('Lucy', 'Patterson', Decimal('5417.81'))\n",
      "('Tom', 'Page', Decimal('6349.74'))\n",
      "('Claudia', 'Conte', Decimal('2498.63'))\n",
      "('Walter', 'Deer', Decimal('18415.66'))\n",
      "('Stephanie', 'Marx', Decimal('3471.41'))\n",
      "('Luca', 'Pavarotti', Decimal('4485.36'))\n",
      "('Victoria', 'Pollock', Decimal('1547.52'))\n"
     ]
    }
   ],
   "source": [
    "# 11. List employee names and their Q1 sales\n",
    "cursor.execute(\"\"\"\n",
    "\tSELECT e.first_name, e.last_name, qs.q1_2022\n",
    "\tFROM employees e\n",
    "\tJOIN quarterly_sales qs ON e.id = qs.employee_id;\n",
    "\"\"\")\n",
    "rows = cursor.fetchall()\n",
    "for row in rows:\n",
    "\tprint(row)"
   ]
  },
  {
   "cell_type": "code",
   "execution_count": 21,
   "metadata": {
    "azdata_cell_guid": "cd5c5c66-0be3-4052-8374-d3a74df4ee94",
    "language": "sql",
    "vscode": {
     "languageId": "sql"
    }
   },
   "outputs": [
    {
     "name": "stdout",
     "output_type": "stream",
     "text": [
      "('Paul', 'Garrix', Decimal('45443.38'))\n",
      "('Astrid', 'Fox', Decimal('20312.48'))\n",
      "('Matthias', 'Johnson', Decimal('58233.67'))\n",
      "('Lucy', 'Patterson', Decimal('30595.57'))\n",
      "('Tom', 'Page', Decimal('28637.65'))\n",
      "('Claudia', 'Conte', Decimal('17734.94'))\n",
      "('Walter', 'Deer', Decimal('62774.59'))\n",
      "('Stephanie', 'Marx', Decimal('22993.23'))\n",
      "('Luca', 'Pavarotti', Decimal('25023.21'))\n",
      "('Victoria', 'Pollock', Decimal('6770.16'))\n"
     ]
    }
   ],
   "source": [
    "# 12. Total annual sales for each employee\n",
    "cursor.execute(\"\"\"\n",
    "    SELECT e.first_name, e.last_name,\n",
    "           (qs.q1_2022 + qs.q2_2022 + qs.q3_2022 + qs.q4_2022) AS total_sales\n",
    "    FROM employees e\n",
    "    JOIN quarterly_sales qs ON e.id = qs.employee_id;\n",
    "\"\"\")\n",
    "rows = cursor.fetchall()\n",
    "for row in rows:\n",
    "    print(row)"
   ]
  },
  {
   "cell_type": "code",
   "execution_count": 23,
   "metadata": {
    "azdata_cell_guid": "b7e3e34a-327d-47fc-91d0-ebf8bc7d327d",
    "language": "sql",
    "vscode": {
     "languageId": "sql"
    }
   },
   "outputs": [
    {
     "name": "stdout",
     "output_type": "stream",
     "text": [
      "('Walter', 'Deer', Decimal('62774.59'))\n",
      "('Matthias', 'Johnson', Decimal('58233.67'))\n",
      "('Paul', 'Garrix', Decimal('45443.38'))\n"
     ]
    }
   ],
   "source": [
    "\n",
    "# 13. Top 3 employees by total sales\n",
    "cursor.execute(\"\"\"\n",
    "    SELECT TOP 3 e.first_name, e.last_name,\n",
    "           (qs.q1_2022 + qs.q2_2022 + qs.q3_2022 + qs.q4_2022) AS total_sales\n",
    "    FROM employees e\n",
    "    JOIN quarterly_sales qs ON e.id = qs.employee_id\n",
    "    ORDER BY total_sales DESC;\n",
    "\"\"\")\n",
    "rows = cursor.fetchall()\n",
    "for row in rows:\n",
    "    print(row)"
   ]
  },
  {
   "cell_type": "code",
   "execution_count": null,
   "metadata": {
    "azdata_cell_guid": "53885f2f-db89-423c-934c-417916166b0f",
    "language": "sql",
    "vscode": {
     "languageId": "sql"
    }
   },
   "outputs": [
    {
     "name": "stdout",
     "output_type": "stream",
     "text": [
      "('Corporate', Decimal('5369.515000'))\n",
      "('Private Individuals', Decimal('3556.840000'))\n",
      "('Support', Decimal('2870.035000'))\n"
     ]
    }
   ],
   "source": [
    "# 14. Department-wise average salary\n",
    "cursor.execute(\"\"\"\n",
    "\tSELECT department, AVG(monthly_salary) AS avg_salary\n",
    "\tFROM employees\n",
    "\tGROUP BY department;\n",
    "\"\"\")\n",
    "rows = cursor.fetchall()\n",
    "for row in rows:\n",
    "\tprint(row)"
   ]
  },
  {
   "cell_type": "code",
   "execution_count": null,
   "metadata": {
    "azdata_cell_guid": "a1062d29-5459-4a04-aceb-346e16034ecc",
    "language": "sql",
    "vscode": {
     "languageId": "sql"
    }
   },
   "outputs": [],
   "source": [
    "\n",
    "-- 15. Total Q2 sales across all employees\n",
    "SELECT SUM(q2_2022) AS total_q2_sales FROM quarterly_sales;"
   ]
  },
  {
   "attachments": {},
   "cell_type": "markdown",
   "metadata": {
    "azdata_cell_guid": "0d393cb0-58c0-43c5-84ed-a44635886638",
    "language": ""
   },
   "source": [
    "**\\-- 📙 STEP 3: UPDATE and DELETE**"
   ]
  },
  {
   "cell_type": "code",
   "execution_count": 50,
   "metadata": {
    "azdata_cell_guid": "0c27b4c6-aa2f-42ae-8ca2-f73c2df441c1",
    "language": "sql",
    "vscode": {
     "languageId": "sql"
    }
   },
   "outputs": [
    {
     "name": "stdout",
     "output_type": "stream",
     "text": [
      "Salary updated for employee with id = 1\n"
     ]
    }
   ],
   "source": [
    "# 16. Update salary of an employee\n",
    "cursor.execute(\"UPDATE employees SET monthly_salary = 6000 WHERE id = 1;\")\n",
    "conn.commit()\n",
    "print(\"Salary updated for employee with id = 1\")"
   ]
  },
  {
   "cell_type": "code",
   "execution_count": 47,
   "metadata": {
    "azdata_cell_guid": "ae31ee7c-2cc7-412d-a531-104f3b0ef075",
    "language": "sql",
    "vscode": {
     "languageId": "sql"
    }
   },
   "outputs": [
    {
     "name": "stdout",
     "output_type": "stream",
     "text": [
      "Department updated for employees with monthly_salary < 3000\n"
     ]
    }
   ],
   "source": [
    "\n",
    "# 17. Update department of all employees with monthly_salary < 3000\n",
    "cursor.execute(\"UPDATE employees SET department = 'Support' WHERE monthly_salary < 3000;\")\n",
    "conn.commit()\n",
    "print(\"Department updated for employees with monthly_salary < 3000\")\n",
    "\n",
    "# 18. Delete an employee record (Uncomment to run)\n",
    "# cursor.execute(\"DELETE FROM employees WHERE id = 10;\")\n",
    "# conn.commit()\n",
    "# print(\"Employee with id = 10 deleted\")"
   ]
  },
  {
   "attachments": {},
   "cell_type": "markdown",
   "metadata": {
    "azdata_cell_guid": "5587eca4-6103-4116-ac2f-489d9af10059",
    "language": ""
   },
   "source": [
    "**\\-- 📒 STEP 4: ALTER TABLE operations**"
   ]
  },
  {
   "cell_type": "code",
   "execution_count": null,
   "metadata": {
    "azdata_cell_guid": "718e3327-41d3-4af9-bad8-33ef6587e2c7",
    "language": "sql",
    "vscode": {
     "languageId": "sql"
    }
   },
   "outputs": [],
   "source": [
    "-- 19. Add a new column 'email' to employees table\n",
    "ALTER TABLE employees ADD email VARCHAR(100);"
   ]
  },
  {
   "cell_type": "code",
   "execution_count": 45,
   "metadata": {
    "azdata_cell_guid": "048e2b30-85c7-41f0-a3bf-6ce38e737903",
    "language": "sql",
    "vscode": {
     "languageId": "sql"
    }
   },
   "outputs": [
    {
     "name": "stdout",
     "output_type": "stream",
     "text": [
      "Email updated for employee with id = 1\n"
     ]
    }
   ],
   "source": [
    "# 20. Update email for one employee\n",
    "cursor.execute(\"UPDATE employees SET email = 'paul.garrix@company.com' WHERE id = 1;\")\n",
    "conn.commit()\n",
    "print(\"Email updated for employee with id = 1\")"
   ]
  },
  {
   "cell_type": "code",
   "execution_count": null,
   "metadata": {
    "azdata_cell_guid": "b025f8bc-4845-43a2-974d-e0652a4eed73",
    "language": "sql",
    "vscode": {
     "languageId": "sql"
    }
   },
   "outputs": [],
   "source": [
    "-- 21. Rename column 'salary' to 'monthly_salary'\n",
    "EXEC sp_rename 'employees.salary', 'monthly_salary', 'COLUMN';"
   ]
  },
  {
   "attachments": {},
   "cell_type": "markdown",
   "metadata": {
    "azdata_cell_guid": "d65faed7-06fb-4915-aa4a-b7795e7e558e",
    "language": ""
   },
   "source": [
    "**\\-- 📕 STEP 5: Aggregation + Filtering**"
   ]
  },
  {
   "cell_type": "code",
   "execution_count": 43,
   "metadata": {
    "azdata_cell_guid": "fa08ab01-797e-46b2-b398-f805118b8f85",
    "language": "sql",
    "vscode": {
     "languageId": "sql"
    }
   },
   "outputs": [
    {
     "name": "stdout",
     "output_type": "stream",
     "text": [
      "('Paul', 'Garrix', Decimal('45443.38'))\n",
      "('Matthias', 'Johnson', Decimal('58233.67'))\n",
      "('Lucy', 'Patterson', Decimal('30595.57'))\n",
      "('Tom', 'Page', Decimal('28637.65'))\n",
      "('Walter', 'Deer', Decimal('62774.59'))\n",
      "('Luca', 'Pavarotti', Decimal('25023.21'))\n"
     ]
    }
   ],
   "source": [
    "\n",
    "# 22. Get employees with total annual sales > 25000\n",
    "cursor.execute(\"\"\"\n",
    "    SELECT \n",
    "      e.first_name, \n",
    "      e.last_name,\n",
    "      (qs.q1_2022 + qs.q2_2022 + qs.q3_2022 + qs.q4_2022) AS total_sales\n",
    "    FROM employees e\n",
    "    JOIN quarterly_sales qs ON e.id = qs.employee_id\n",
    "    WHERE (qs.q1_2022 + qs.q2_2022 + qs.q3_2022 + qs.q4_2022) > 25000;\n",
    "\"\"\")\n",
    "rows = cursor.fetchall()\n",
    "for row in rows:\n",
    "    print(row)"
   ]
  },
  {
   "cell_type": "code",
   "execution_count": 41,
   "metadata": {
    "azdata_cell_guid": "47544ce4-9e61-46d8-8396-2011cff1a4ec",
    "language": "sql",
    "vscode": {
     "languageId": "sql"
    }
   },
   "outputs": [
    {
     "name": "stdout",
     "output_type": "stream",
     "text": [
      "('Corporate', 4)\n",
      "('Private Individuals', 4)\n",
      "('Support', 2)\n"
     ]
    }
   ],
   "source": [
    "# 23. Group employees by department and count them\n",
    "cursor.execute(\"\"\"\n",
    "\tSELECT department, COUNT(*) AS employee_count\n",
    "\tFROM employees\n",
    "\tGROUP BY department;\n",
    "\"\"\")\n",
    "rows = cursor.fetchall()\n",
    "for row in rows:\n",
    "\tprint(row)"
   ]
  },
  {
   "cell_type": "code",
   "execution_count": 27,
   "metadata": {
    "azdata_cell_guid": "5346c9d2-1329-430f-a5f6-09cff862930f",
    "language": "sql",
    "vscode": {
     "languageId": "sql"
    }
   },
   "outputs": [
    {
     "name": "stdout",
     "output_type": "stream",
     "text": [
      "('Corporate', Decimal('6000.00'))\n",
      "('Private Individuals', Decimal('4123.45'))\n",
      "('Support', Decimal('2894.51'))\n"
     ]
    }
   ],
   "source": [
    "\n",
    "# 24. Maximum salary in each department\n",
    "cursor.execute(\"\"\"\n",
    "\tSELECT department, MAX(monthly_salary) AS max_salary\n",
    "\tFROM employees\n",
    "\tGROUP BY department;\n",
    "\"\"\")\n",
    "rows = cursor.fetchall()\n",
    "for row in rows:\n",
    "\tprint(row)"
   ]
  },
  {
   "attachments": {},
   "cell_type": "markdown",
   "metadata": {
    "azdata_cell_guid": "2f5d8eec-5aaf-4979-a357-94db440ac1e4",
    "language": ""
   },
   "source": [
    "**\\-- 📔 STEP 6: Subqueries**"
   ]
  },
  {
   "cell_type": "code",
   "execution_count": 29,
   "metadata": {
    "azdata_cell_guid": "29ae1522-3d07-4e46-9697-8507097e8a74",
    "language": "sql",
    "vscode": {
     "languageId": "sql"
    }
   },
   "outputs": [
    {
     "name": "stdout",
     "output_type": "stream",
     "text": [
      "(1, 'Paul', 'Garrix', 'Corporate', Decimal('6000.00'), 'paul.garrix@company.com')\n",
      "(5, 'Tom', 'Page', 'Corporate', Decimal('5974.41'), None)\n",
      "(6, 'Claudia', 'Conte', 'Corporate', Decimal('4714.12'), None)\n",
      "(10, 'Victoria', 'Pollock', 'Corporate', Decimal('4789.53'), None)\n"
     ]
    }
   ],
   "source": [
    "# 25. Get employees earning more than average salary\n",
    "cursor.execute(\"\"\"\n",
    "\tSELECT * FROM employees\n",
    "\tWHERE monthly_salary > (SELECT AVG(monthly_salary) FROM employees);\n",
    "\"\"\")\n",
    "rows = cursor.fetchall()\n",
    "for row in rows:\n",
    "\tprint(row)"
   ]
  },
  {
   "cell_type": "code",
   "execution_count": 31,
   "metadata": {
    "azdata_cell_guid": "afc0dfbf-94d2-4daa-a34f-2cd054900945",
    "language": "sql",
    "vscode": {
     "languageId": "sql"
    }
   },
   "outputs": [
    {
     "name": "stdout",
     "output_type": "stream",
     "text": [
      "('Paul', 'Garrix')\n",
      "('Matthias', 'Johnson')\n",
      "('Walter', 'Deer')\n"
     ]
    }
   ],
   "source": [
    "\n",
    "# 26. Employees whose total sales are above average\n",
    "cursor.execute(\"\"\"\n",
    "    SELECT e.first_name, e.last_name\n",
    "    FROM employees e\n",
    "    JOIN quarterly_sales qs ON e.id = qs.employee_id\n",
    "    WHERE (qs.q1_2022 + qs.q2_2022 + qs.q3_2022 + qs.q4_2022) >\n",
    "          (SELECT AVG(q1_2022 + q2_2022 + q3_2022 + q4_2022) FROM quarterly_sales);\n",
    "\"\"\")\n",
    "rows = cursor.fetchall()\n",
    "for row in rows:\n",
    "    print(row)"
   ]
  },
  {
   "attachments": {},
   "cell_type": "markdown",
   "metadata": {
    "azdata_cell_guid": "bc28f5e2-c9a8-4774-9f92-b906a3e933c5",
    "language": ""
   },
   "source": [
    "**\\-- 📙 STEP 7: Advanced Ordering**"
   ]
  },
  {
   "cell_type": "code",
   "execution_count": 33,
   "metadata": {
    "azdata_cell_guid": "40081f97-af2d-4789-b52e-59f7943adbd3",
    "language": "sql",
    "vscode": {
     "languageId": "sql"
    }
   },
   "outputs": [
    {
     "name": "stdout",
     "output_type": "stream",
     "text": [
      "(2, 'Astrid', 'Fox', 'Support', Decimal('2845.56'), None)\n",
      "(8, 'Stephanie', 'Marx', 'Support', Decimal('2894.51'), None)\n",
      "(3, 'Matthias', 'Johnson', 'Private Individuals', Decimal('3009.41'), None)\n"
     ]
    }
   ],
   "source": [
    "# 27. Bottom 3 earners\n",
    "cursor.execute(\"SELECT TOP 3 * FROM employees ORDER BY monthly_salary ASC;\")\n",
    "rows = cursor.fetchall()\n",
    "for row in rows:\n",
    "\tprint(row)"
   ]
  },
  {
   "cell_type": "code",
   "execution_count": 35,
   "metadata": {
    "azdata_cell_guid": "cfb4fd78-264d-49ce-b1aa-3e04fe1f06f0",
    "language": "sql",
    "vscode": {
     "languageId": "sql"
    }
   },
   "outputs": [
    {
     "name": "stdout",
     "output_type": "stream",
     "text": [
      "('Paul', 'Garrix', Decimal('24747.82'))\n"
     ]
    }
   ],
   "source": [
    "# 28. Highest Q3 seller\n",
    "cursor.execute(\"\"\"\n",
    "\tSELECT TOP 1 e.first_name, e.last_name, qs.q3_2022\n",
    "\tFROM employees e\n",
    "\tJOIN quarterly_sales qs ON e.id = qs.employee_id\n",
    "\tORDER BY qs.q3_2022 DESC;\n",
    "\"\"\")\n",
    "row = cursor.fetchone()\n",
    "print(row)"
   ]
  },
  {
   "cell_type": "code",
   "execution_count": 37,
   "metadata": {
    "azdata_cell_guid": "b104b517-80bb-4f6f-8e93-4025c9ce3827",
    "language": "sql",
    "vscode": {
     "languageId": "sql"
    }
   },
   "outputs": [
    {
     "name": "stdout",
     "output_type": "stream",
     "text": [
      "('Matthias', 'Johnson', Decimal('12774.51'), Decimal('24784.31'))\n",
      "('Lucy', 'Patterson', Decimal('5417.81'), Decimal('12846.23'))\n",
      "('Walter', 'Deer', Decimal('18415.66'), Decimal('15279.37'))\n",
      "('Stephanie', 'Marx', Decimal('3471.41'), Decimal('14789.25'))\n"
     ]
    }
   ],
   "source": [
    "# 29. Employees who sold more than 10000 in Q1 or Q2\n",
    "cursor.execute(\"\"\"\n",
    "\tSELECT e.first_name, e.last_name, qs.q1_2022, qs.q2_2022\n",
    "\tFROM employees e\n",
    "\tJOIN quarterly_sales qs ON e.id = qs.employee_id\n",
    "\tWHERE qs.q1_2022 > 10000 OR qs.q2_2022 > 10000;\n",
    "\"\"\")\n",
    "rows = cursor.fetchall()\n",
    "for row in rows:\n",
    "\tprint(row)"
   ]
  },
  {
   "cell_type": "code",
   "execution_count": 39,
   "metadata": {
    "azdata_cell_guid": "fa98e7da-6e92-45cf-ac1e-8ba704a88c59",
    "language": "sql",
    "vscode": {
     "languageId": "sql"
    }
   },
   "outputs": [
    {
     "name": "stdout",
     "output_type": "stream",
     "text": [
      "Total sales for each quarter: (Decimal('68665.42'), Decimal('102936.19'), Decimal('89931.56'), Decimal('56985.71'))\n"
     ]
    }
   ],
   "source": [
    "# 30. Total sales for each quarter\n",
    "cursor.execute(\"\"\"\n",
    "    SELECT\n",
    "      SUM(q1_2022) AS total_q1,\n",
    "      SUM(q2_2022) AS total_q2,\n",
    "      SUM(q3_2022) AS total_q3,\n",
    "      SUM(q4_2022) AS total_q4\n",
    "    FROM quarterly_sales;\n",
    "\"\"\")\n",
    "totals = cursor.fetchone()\n",
    "print(\"Total sales for each quarter:\", totals)\n"
   ]
  }
 ],
 "metadata": {
  "kernelspec": {
   "display_name": "base",
   "language": "python",
   "name": "python3"
  },
  "language_info": {
   "codemirror_mode": {
    "name": "ipython",
    "version": 3
   },
   "file_extension": ".py",
   "mimetype": "text/x-python",
   "name": "python",
   "nbconvert_exporter": "python",
   "pygments_lexer": "ipython3",
   "version": "3.12.7"
  }
 },
 "nbformat": 4,
 "nbformat_minor": 4
}
