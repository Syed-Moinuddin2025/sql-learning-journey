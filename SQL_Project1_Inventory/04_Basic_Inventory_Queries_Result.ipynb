{
    "cells": [
        {
            "cell_type": "markdown",
            "metadata": {
                "azdata_cell_guid": "ecb41bd6-b1bc-4102-9d3a-4c53158bc6c1"
            },
            "source": [
                "# 🛒 Mini Store Inventory - Basic SQL Queries\n",
                "\n",
                "This notebook contains basic SQL queries to explore the `Products` and `Categories` tables in the `Project1_Inventory` database.\n",
                "\n",
                "✅ **Topics covered:**\n",
                "- SELECT basics\n",
                "- JOIN queries\n",
                "- Filtering with WHERE\n",
                "- Aggregates (SUM, COUNT, AVG)\n",
                "- Sorting and limits\n",
                "\n",
                "---\n",
                "📌 Perfect for beginners learning SQL through real-world inventory data!\n"
            ]
        },
        {
            "cell_type": "markdown",
            "metadata": {
                "azdata_cell_guid": "bdfc2944-fd6b-4f18-9931-1a4d6e691295"
            },
            "source": [
                "## 🔍 Query 1: View all categories"
            ]
        },
        {
            "cell_type": "code",
            "execution_count": null,
            "metadata": {
                "azdata_cell_guid": "9d5fdd70-7f8a-4b09-b505-d6f03b07e790",
                "language": "sql"
            },
            "outputs": [],
            "source": [
                "USE InventoryDB"
            ]
        },
        {
            "cell_type": "code",
            "execution_count": null,
            "metadata": {
                "azdata_cell_guid": "3b46cdf8-c73f-4ea4-839d-32a07fe26e93",
                "language": "sql"
            },
            "outputs": [
                {
                    "ename": "",
                    "evalue": "",
                    "output_type": "error",
                    "traceback": [
                        "\u001b[1;31mRunning cells with '.conda (Python 3.11.13)' requires the ipykernel package.\n",
                        "\u001b[1;31mInstall 'ipykernel' into the Python environment. \n",
                        "\u001b[1;31mCommand: 'conda install -n .conda ipykernel --update-deps --force-reinstall'"
                    ]
                }
            ],
            "source": [
                "SELECT * FROM Categories;"
            ]
        },
        {
            "cell_type": "markdown",
            "metadata": {
                "azdata_cell_guid": "b29eccb6-47dc-46c8-80d2-a907f9ee46da"
            },
            "source": [
                "## 🔍 Query 2: View all products"
            ]
        },
        {
            "cell_type": "code",
            "execution_count": null,
            "metadata": {
                "azdata_cell_guid": "5cb3aa6b-d387-4a9a-9a0c-d085929dc0b1",
                "language": "sql"
            },
            "outputs": [
                {
                    "ename": "",
                    "evalue": "",
                    "output_type": "error",
                    "traceback": [
                        "\u001b[1;31mThe kernel failed to start due to the missing module 'powershell_kernel'. Consider installing this module.\n",
                        "\u001b[1;31mClick <a href='https://aka.ms/kernelFailuresMissingModule'>here</a> for more info."
                    ]
                }
            ],
            "source": [
                "SELECT * FROM Products;"
            ]
        },
        {
            "cell_type": "markdown",
            "metadata": {
                "azdata_cell_guid": "dd191388-13dd-4e6d-b1f8-2edf320689c2"
            },
            "source": [
                "## 🔍 Query 3: List all products with category names"
            ]
        },
        {
            "cell_type": "code",
            "execution_count": null,
            "metadata": {
                "azdata_cell_guid": "24501b6f-5645-4142-b6cc-f188256a9564",
                "language": "sql"
            },
            "outputs": [],
            "source": [
                "SELECT \n",
                "    P.ProductID,\n",
                "    P.ProductName,\n",
                "    P.Price,\n",
                "    P.Quantity,\n",
                "    C.CategoryName\n",
                "FROM Products P\n",
                "JOIN Categories C ON P.CategoryID = C.CategoryID;"
            ]
        },
        {
            "attachments": {},
            "cell_type": "markdown",
            "metadata": {
                "azdata_cell_guid": "67be5785-2cc5-4770-bad3-0c6b90e04f25",
                "language": "sql"
            },
            "source": [
                "## 🔍 Query 4. List all products in the 'Electronics' category"
            ]
        },
        {
            "cell_type": "code",
            "execution_count": null,
            "metadata": {
                "azdata_cell_guid": "45081dc1-43b5-4da4-b884-74843d123a1f",
                "language": "sql"
            },
            "outputs": [],
            "source": [
                "SELECT \n",
                "    ProductName, Price, Quantity\n",
                "FROM Products\n",
                "WHERE CategoryID = 1;"
            ]
        },
        {
            "attachments": {},
            "cell_type": "markdown",
            "metadata": {
                "azdata_cell_guid": "d6a199bd-0f1d-4cdc-9a51-cf605d7eecf1",
                "language": "sql"
            },
            "source": [
                "## 🔍 Query 5. Show products with quantity less than 20 (Low stock)"
            ]
        },
        {
            "cell_type": "code",
            "execution_count": null,
            "metadata": {
                "azdata_cell_guid": "731eca7c-8c9e-4886-8774-d405e1d5387e",
                "language": "sql",
                "tags": []
            },
            "outputs": [],
            "source": [
                "SELECT \n",
                "    ProductName, Quantity\n",
                "FROM  Products\n",
                "WHERE Quantity <20 "
            ]
        },
        {
            "attachments": {},
            "cell_type": "markdown",
            "metadata": {
                "azdata_cell_guid": "2a68a9a7-08eb-42df-8b5d-196f3b60b8ed",
                "language": "sql"
            },
            "source": [
                "## 🔍 Query 6 Calculate total number of products in inventory"
            ]
        },
        {
            "cell_type": "code",
            "execution_count": null,
            "metadata": {
                "azdata_cell_guid": "85b4ecda-595e-4ddc-8274-0803bd4a86d9",
                "language": "sql"
            },
            "outputs": [],
            "source": [
                "SELECT COUNT(*) AS TotalProducts FROM dbo.Products;\n"
            ]
        },
        {
            "attachments": {},
            "cell_type": "markdown",
            "metadata": {
                "azdata_cell_guid": "82b042a3-1e89-4efb-90eb-b07202e895e9",
                "language": "sql"
            },
            "source": [
                "## 🔍 Query 7. Calculate total inventory stock (sum of quantities)"
            ]
        },
        {
            "cell_type": "code",
            "execution_count": null,
            "metadata": {
                "azdata_cell_guid": "20dfc84b-cf70-4c22-be73-08aa264d8bc5",
                "language": "sql"
            },
            "outputs": [],
            "source": [
                "SELECT SUM(Quantity) AS TotalUnitsInStock FROM Products;"
            ]
        },
        {
            "attachments": {},
            "cell_type": "markdown",
            "metadata": {
                "azdata_cell_guid": "8449619e-037c-48b8-b849-2d33dd2f6904",
                "language": "sql"
            },
            "source": [
                "## 🔍 Query 8. Calculate total inventory value (Price × Quantity)"
            ]
        },
        {
            "cell_type": "code",
            "execution_count": null,
            "metadata": {
                "azdata_cell_guid": "896d045d-ce68-4239-8ae9-8e4f752c0aa5",
                "language": "sql"
            },
            "outputs": [],
            "source": [
                "SELECT \n",
                "    SUM(Price * Quantity) AS TotalInventoryValue\n",
                "FROM Products;"
            ]
        },
        {
            "attachments": {},
            "cell_type": "markdown",
            "metadata": {
                "azdata_cell_guid": "65974511-9252-49e7-af41-31e076f58bfa",
                "language": ""
            },
            "source": [
                "## 🔍 Qurey  9. Show average price of all products"
            ]
        },
        {
            "cell_type": "code",
            "execution_count": null,
            "metadata": {
                "azdata_cell_guid": "e75b3bf2-2f3b-4d0c-aaa0-65e0266d9d46",
                "language": "sql"
            },
            "outputs": [],
            "source": [
                "SELECT AVG(Price) AS AverageProductPrice FROM Products;"
            ]
        },
        {
            "attachments": {},
            "cell_type": "markdown",
            "metadata": {
                "azdata_cell_guid": "5531569c-531f-4036-a5f9-aad2f886fe8a",
                "language": "sql"
            },
            "source": [
                "## 🔍 Query 10. Show the most expensive product"
            ]
        },
        {
            "cell_type": "code",
            "execution_count": null,
            "metadata": {
                "azdata_cell_guid": "33f03cb2-b5a6-44de-b610-711f7278d950",
                "language": "sql"
            },
            "outputs": [],
            "source": [
                "SELECT TOP 1 *\n",
                "FROM Products\n",
                "ORDER BY Price DESC;"
            ]
        },
        {
            "attachments": {},
            "cell_type": "markdown",
            "metadata": {
                "azdata_cell_guid": "ecdc3747-d52e-41c8-adfb-32f4b9b8e6d0",
                "language": "sql"
            },
            "source": [
                "## 🔍 Qurey 11. Show products grouped by category with total quantity per category"
            ]
        },
        {
            "cell_type": "code",
            "execution_count": null,
            "metadata": {
                "azdata_cell_guid": "2e1f338f-62c8-40af-99cc-e8b2b1c551a2",
                "language": "sql"
            },
            "outputs": [],
            "source": [
                "SELECT \n",
                "    C.CategoryName,\n",
                "    SUM(P.Quantity) AS TotalUnits\n",
                "FROM Products P\n",
                "JOIN Categories C ON P.CategoryID = C.CategoryID\n",
                "GROUP BY C.CategoryName;"
            ]
        },
        {
            "attachments": {},
            "cell_type": "markdown",
            "metadata": {
                "azdata_cell_guid": "abf49d97-5649-4fd7-9ac5-a8afa0193ed2",
                "language": "sql"
            },
            "source": [
                "## 🔍 12. Show how many products are in each category"
            ]
        },
        {
            "cell_type": "code",
            "execution_count": null,
            "metadata": {
                "azdata_cell_guid": "d83b455d-4f63-4cb5-bdb9-21e99e6f6a93",
                "language": "sql"
            },
            "outputs": [],
            "source": [
                "SELECT \n",
                "    C.CategoryName,\n",
                "    COUNT(P.ProductID) AS NumberOfProducts\n",
                "FROM Products P\n",
                "JOIN Categories C ON P.CategoryID = C.CategoryID\n",
                "GROUP BY C.CategoryName;"
            ]
        },
        {
            "attachments": {},
            "cell_type": "markdown",
            "metadata": {
                "azdata_cell_guid": "0c3006e5-04ca-4b6c-a120-53800563255a",
                "language": "sql"
            },
            "source": [
                "## 🔍 13. Show the cheapest product in each category"
            ]
        },
        {
            "cell_type": "code",
            "execution_count": null,
            "metadata": {
                "azdata_cell_guid": "e3270ee2-334e-4ae5-8683-f8d7934f2e15",
                "language": "sql"
            },
            "outputs": [],
            "source": [
                "SELECT \n",
                "    C.CategoryName,\n",
                "    MIN(P.Price) AS CheapestPrice\n",
                "FROM Products P\n",
                "JOIN Categories C ON P.CategoryID = C.CategoryID\n",
                "GROUP BY C.CategoryName;"
            ]
        },
        {
            "attachments": {},
            "cell_type": "markdown",
            "metadata": {
                "azdata_cell_guid": "f4ec9614-95bb-494d-81f8-076539076bf2",
                "language": "sql"
            },
            "source": [
                "🔍 14. Show only the products that are out of stock (quantity = 0)"
            ]
        },
        {
            "cell_type": "code",
            "execution_count": null,
            "metadata": {
                "azdata_cell_guid": "5323b8ac-52e1-414d-b204-77093fd29af0",
                "language": "sql"
            },
            "outputs": [],
            "source": [
                "SELECT \n",
                "    ProductName\n",
                "FROM Products\n",
                "WHERE Quantity = 0;"
            ]
        },
        {
            "attachments": {},
            "cell_type": "markdown",
            "metadata": {
                "azdata_cell_guid": "8dfecd9f-054b-4a34-9803-054cdb33b3e4",
                "language": "sql"
            },
            "source": [
                "## 🔍 15. Show top 3 most expensive products"
            ]
        },
        {
            "cell_type": "code",
            "execution_count": null,
            "metadata": {
                "azdata_cell_guid": "7a594369-10bd-4057-a17c-e27380b68bfd",
                "language": "sql"
            },
            "outputs": [],
            "source": [
                "SELECT TOP 3 \n",
                "    ProductName, Price\n",
                "FROM Products\n",
                "ORDER BY Price DESC;"
            ]
        },
        {
            "attachments": {},
            "cell_type": "markdown",
            "metadata": {
                "azdata_cell_guid": "fe311ee6-5681-4ae9-bee8-56e791e9d0cb",
                "language": "sql"
            },
            "source": [
                "## 🔍 16. Show all products with total value (Price × Quantity) per product"
            ]
        },
        {
            "cell_type": "code",
            "execution_count": null,
            "metadata": {
                "azdata_cell_guid": "f5d43d78-8a9e-4b06-9794-1bfe36478668",
                "language": "sql"
            },
            "outputs": [],
            "source": [
                "SELECT \n",
                "    ProductID,\n",
                "    ProductName,\n",
                "    Price,\n",
                "    Quantity,\n",
                "    (Price * Quantity) AS TotalValue\n",
                "FROM Products;\n"
            ]
        },
        {
            "attachments": {},
            "cell_type": "markdown",
            "metadata": {
                "azdata_cell_guid": "6b0fbdd7-4e87-4689-b7f2-82bf9a2df10b",
                "language": "sql"
            },
            "source": [
                "## 🔍 17. List categories that have more than 2 products"
            ]
        },
        {
            "cell_type": "code",
            "execution_count": null,
            "metadata": {
                "azdata_cell_guid": "9a636361-fe24-4ac0-a070-d96e1b272389",
                "language": "sql"
            },
            "outputs": [],
            "source": [
                "SELECT \n",
                "    C.CategoryName,\n",
                "    COUNT(P.ProductID) AS ProductCount\n",
                "FROM Products P\n",
                "JOIN Categories C ON P.CategoryID = C.CategoryID\n",
                "GROUP BY C.CategoryName\n",
                "HAVING COUNT(P.ProductID) > 2;"
            ]
        },
        {
            "attachments": {},
            "cell_type": "markdown",
            "metadata": {
                "azdata_cell_guid": "8ae6d39f-0409-494f-981d-36e92f76c03f",
                "language": "sql"
            },
            "source": [
                "## 🔍 18. Find the category with the highest total inventory value"
            ]
        },
        {
            "cell_type": "code",
            "execution_count": null,
            "metadata": {
                "azdata_cell_guid": "0e5af092-2904-474f-8418-3ab11f693d5d",
                "language": "sql"
            },
            "outputs": [],
            "source": [
                "SELECT TOP 1 \n",
                "    C.CategoryName,\n",
                "    SUM(P.Price * P.Quantity) AS InventoryValue\n",
                "FROM Products P\n",
                "JOIN Categories C ON P.CategoryID = C.CategoryID\n",
                "GROUP BY C.CategoryName\n",
                "ORDER BY InventoryValue DESC;"
            ]
        },
        {
            "attachments": {},
            "cell_type": "markdown",
            "metadata": {
                "azdata_cell_guid": "5ad5467e-4777-4b09-bbea-d89f48916c9e",
                "language": "sql"
            },
            "source": [
                "## 🔍 19. Show all products sorted alphabetically (A–Z)"
            ]
        },
        {
            "cell_type": "code",
            "execution_count": null,
            "metadata": {
                "azdata_cell_guid": "618c2b9e-e327-4bd9-a7bc-06fdcecbd79b",
                "language": "sql"
            },
            "outputs": [],
            "source": [
                "SELECT \n",
                "    ProductName,\n",
                "    Price,\n",
                "    Quantity\n",
                "FROM Products\n",
                "ORDER BY ProductName ASC;"
            ]
        },
        {
            "attachments": {},
            "cell_type": "markdown",
            "metadata": {
                "azdata_cell_guid": "a8ec40aa-fcfb-40cf-9134-aa86a448fd03",
                "language": "sql"
            },
            "source": [
                "## 🔍 20. Show products that cost more than the average price"
            ]
        },
        {
            "cell_type": "code",
            "execution_count": null,
            "metadata": {
                "azdata_cell_guid": "b8891a2f-79fe-434f-a550-3765083d1b6a",
                "language": "sql"
            },
            "outputs": [],
            "source": [
                "SELECT \n",
                "    ProductName,\n",
                "    Price\n",
                "FROM Products\n",
                "WHERE Price > (SELECT AVG(Price) FROM Products);"
            ]
        }
    ],
    "metadata": {
        "kernelspec": {
            "display_name": "PowerShell",
            "language": "powershell",
            "name": "powershell"
        },
        "language_info": {
            "name": "powershell",
            "version": "3.11.13"
        }
    },
    "nbformat": 4,
    "nbformat_minor": 2
}
