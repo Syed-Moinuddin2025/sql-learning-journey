{
    "metadata": {
        "kernelspec": {
            "name": "SQL",
            "display_name": "SQL",
            "language": "sql"
        },
        "language_info": {
            "name": "sql",
            "version": ""
        }
    },
    "nbformat_minor": 2,
    "nbformat": 4,
    "cells": [
        {
            "cell_type": "code",
            "source": [
                "USE MyDatabase\n",
                "\n"
            ],
            "metadata": {
                "azdata_cell_guid": "4bc9381f-7f62-49ce-ad41-e195ae6a77c6",
                "language": "sql"
            },
            "outputs": [
                {
                    "output_type": "display_data",
                    "data": {
                        "text/html": "Commands completed successfully."
                    },
                    "metadata": {}
                },
                {
                    "output_type": "display_data",
                    "data": {
                        "text/html": "Total execution time: 00:00:00"
                    },
                    "metadata": {}
                }
            ],
            "execution_count": 2
        },
        {
            "cell_type": "code",
            "source": [
                "SELECT * FROM customers"
            ],
            "metadata": {
                "azdata_cell_guid": "54c169fa-62e8-4f7e-a5bc-7f2fe702f1cf",
                "language": "sql"
            },
            "outputs": [
                {
                    "output_type": "display_data",
                    "data": {
                        "text/html": "(20 rows affected)"
                    },
                    "metadata": {}
                },
                {
                    "output_type": "display_data",
                    "data": {
                        "text/html": "Total execution time: 00:00:00.011"
                    },
                    "metadata": {}
                },
                {
                    "output_type": "execute_result",
                    "execution_count": 8,
                    "data": {
                        "application/vnd.dataresource+json": {
                            "schema": {
                                "fields": [
                                    {
                                        "name": "id"
                                    },
                                    {
                                        "name": "first_name"
                                    },
                                    {
                                        "name": "country"
                                    },
                                    {
                                        "name": "score"
                                    }
                                ]
                            },
                            "data": [
                                {
                                    "id": "1",
                                    "first_name": "Maria",
                                    "country": "Germany",
                                    "score": "350"
                                },
                                {
                                    "id": "2",
                                    "first_name": " John",
                                    "country": "USA",
                                    "score": "900"
                                },
                                {
                                    "id": "3",
                                    "first_name": "Georg",
                                    "country": "UK",
                                    "score": "750"
                                },
                                {
                                    "id": "4",
                                    "first_name": "Martin",
                                    "country": "Germany",
                                    "score": "500"
                                },
                                {
                                    "id": "5",
                                    "first_name": "Peter",
                                    "country": "USA",
                                    "score": "0"
                                },
                                {
                                    "id": "6",
                                    "first_name": "Alice",
                                    "country": "Canada",
                                    "score": "660"
                                },
                                {
                                    "id": "7",
                                    "first_name": "Zara",
                                    "country": "India",
                                    "score": "480"
                                },
                                {
                                    "id": "8",
                                    "first_name": "Ali",
                                    "country": "UAE",
                                    "score": "720"
                                },
                                {
                                    "id": "9",
                                    "first_name": "Nina",
                                    "country": "Germany",
                                    "score": "510"
                                },
                                {
                                    "id": "10",
                                    "first_name": "Ahmed",
                                    "country": "USA",
                                    "score": "300"
                                },
                                {
                                    "id": "11",
                                    "first_name": "Sameer",
                                    "country": "UK",
                                    "score": "820"
                                },
                                {
                                    "id": "12",
                                    "first_name": "Lina",
                                    "country": "India",
                                    "score": "430"
                                },
                                {
                                    "id": "13",
                                    "first_name": "Omar",
                                    "country": "UAE",
                                    "score": "600"
                                },
                                {
                                    "id": "14",
                                    "first_name": "Salma",
                                    "country": "Canada",
                                    "score": "550"
                                },
                                {
                                    "id": "15",
                                    "first_name": "Tom",
                                    "country": "USA",
                                    "score": "100"
                                },
                                {
                                    "id": "16",
                                    "first_name": "Samd",
                                    "country": "India",
                                    "score": "110"
                                },
                                {
                                    "id": "17",
                                    "first_name": "Rauf",
                                    "country": "Iran",
                                    "score": "107"
                                },
                                {
                                    "id": "18",
                                    "first_name": "Ilyas",
                                    "country": "Canad",
                                    "score": "90"
                                },
                                {
                                    "id": "19",
                                    "first_name": "Tariq",
                                    "country": "UAE",
                                    "score": "999"
                                },
                                {
                                    "id": "20",
                                    "first_name": "Tariq",
                                    "country": "Germany",
                                    "score": "110"
                                }
                            ]
                        },
                        "text/html": "<table><tr><th>id</th><th>first_name</th><th>country</th><th>score</th></tr><tr><td>1</td><td>Maria</td><td>Germany</td><td>350</td></tr><tr><td>2</td><td> John</td><td>USA</td><td>900</td></tr><tr><td>3</td><td>Georg</td><td>UK</td><td>750</td></tr><tr><td>4</td><td>Martin</td><td>Germany</td><td>500</td></tr><tr><td>5</td><td>Peter</td><td>USA</td><td>0</td></tr><tr><td>6</td><td>Alice</td><td>Canada</td><td>660</td></tr><tr><td>7</td><td>Zara</td><td>India</td><td>480</td></tr><tr><td>8</td><td>Ali</td><td>UAE</td><td>720</td></tr><tr><td>9</td><td>Nina</td><td>Germany</td><td>510</td></tr><tr><td>10</td><td>Ahmed</td><td>USA</td><td>300</td></tr><tr><td>11</td><td>Sameer</td><td>UK</td><td>820</td></tr><tr><td>12</td><td>Lina</td><td>India</td><td>430</td></tr><tr><td>13</td><td>Omar</td><td>UAE</td><td>600</td></tr><tr><td>14</td><td>Salma</td><td>Canada</td><td>550</td></tr><tr><td>15</td><td>Tom</td><td>USA</td><td>100</td></tr><tr><td>16</td><td>Samd</td><td>India</td><td>110</td></tr><tr><td>17</td><td>Rauf</td><td>Iran</td><td>107</td></tr><tr><td>18</td><td>Ilyas</td><td>Canad</td><td>90</td></tr><tr><td>19</td><td>Tariq</td><td>UAE</td><td>999</td></tr><tr><td>20</td><td>Tariq</td><td>Germany</td><td>110</td></tr></table>"
                    },
                    "metadata": {}
                }
            ],
            "execution_count": 8
        },
        {
            "cell_type": "code",
            "source": [
                "---- Retrieve customers from Germany\n",
                "SELECT *\n",
                "FROM customers\n",
                "WHERE country = 'Germany'\n"
            ],
            "metadata": {
                "azdata_cell_guid": "2d9ed3d6-5280-46a8-babe-0f5632d44eca",
                "language": "sql"
            },
            "outputs": [
                {
                    "output_type": "display_data",
                    "data": {
                        "text/html": "(4 rows affected)"
                    },
                    "metadata": {}
                },
                {
                    "output_type": "display_data",
                    "data": {
                        "text/html": "Total execution time: 00:00:00.006"
                    },
                    "metadata": {}
                },
                {
                    "output_type": "execute_result",
                    "execution_count": 9,
                    "data": {
                        "application/vnd.dataresource+json": {
                            "schema": {
                                "fields": [
                                    {
                                        "name": "id"
                                    },
                                    {
                                        "name": "first_name"
                                    },
                                    {
                                        "name": "country"
                                    },
                                    {
                                        "name": "score"
                                    }
                                ]
                            },
                            "data": [
                                {
                                    "id": "1",
                                    "first_name": "Maria",
                                    "country": "Germany",
                                    "score": "350"
                                },
                                {
                                    "id": "4",
                                    "first_name": "Martin",
                                    "country": "Germany",
                                    "score": "500"
                                },
                                {
                                    "id": "9",
                                    "first_name": "Nina",
                                    "country": "Germany",
                                    "score": "510"
                                },
                                {
                                    "id": "20",
                                    "first_name": "Tariq",
                                    "country": "Germany",
                                    "score": "110"
                                }
                            ]
                        },
                        "text/html": "<table><tr><th>id</th><th>first_name</th><th>country</th><th>score</th></tr><tr><td>1</td><td>Maria</td><td>Germany</td><td>350</td></tr><tr><td>4</td><td>Martin</td><td>Germany</td><td>500</td></tr><tr><td>9</td><td>Nina</td><td>Germany</td><td>510</td></tr><tr><td>20</td><td>Tariq</td><td>Germany</td><td>110</td></tr></table>"
                    },
                    "metadata": {}
                }
            ],
            "execution_count": 9
        },
        {
            "cell_type": "code",
            "source": [
                "---- Retrieve customers from India\n",
                "SELECT * \n",
                "FROM customers\n",
                "WHERE country = 'India'"
            ],
            "metadata": {
                "azdata_cell_guid": "1cd0387e-43b5-4fea-a23f-1747d4e9e498",
                "language": "sql"
            },
            "outputs": [
                {
                    "output_type": "display_data",
                    "data": {
                        "text/html": "(3 rows affected)"
                    },
                    "metadata": {}
                },
                {
                    "output_type": "display_data",
                    "data": {
                        "text/html": "Total execution time: 00:00:00.012"
                    },
                    "metadata": {}
                },
                {
                    "output_type": "execute_result",
                    "execution_count": 10,
                    "data": {
                        "application/vnd.dataresource+json": {
                            "schema": {
                                "fields": [
                                    {
                                        "name": "id"
                                    },
                                    {
                                        "name": "first_name"
                                    },
                                    {
                                        "name": "country"
                                    },
                                    {
                                        "name": "score"
                                    }
                                ]
                            },
                            "data": [
                                {
                                    "id": "7",
                                    "first_name": "Zara",
                                    "country": "India",
                                    "score": "480"
                                },
                                {
                                    "id": "12",
                                    "first_name": "Lina",
                                    "country": "India",
                                    "score": "430"
                                },
                                {
                                    "id": "16",
                                    "first_name": "Samd",
                                    "country": "India",
                                    "score": "110"
                                }
                            ]
                        },
                        "text/html": "<table><tr><th>id</th><th>first_name</th><th>country</th><th>score</th></tr><tr><td>7</td><td>Zara</td><td>India</td><td>480</td></tr><tr><td>12</td><td>Lina</td><td>India</td><td>430</td></tr><tr><td>16</td><td>Samd</td><td>India</td><td>110</td></tr></table>"
                    },
                    "metadata": {}
                }
            ],
            "execution_count": 10
        },
        {
            "cell_type": "code",
            "source": [
                "---- Retrieve customers from UAE\n",
                "SELECT * \n",
                "FROM customers \n",
                "WHERE country = 'UAE'"
            ],
            "metadata": {
                "azdata_cell_guid": "e8fc33d4-956e-41b0-804f-bf95f5fb79cc",
                "language": "sql"
            },
            "outputs": [
                {
                    "output_type": "display_data",
                    "data": {
                        "text/html": "(3 rows affected)"
                    },
                    "metadata": {}
                },
                {
                    "output_type": "display_data",
                    "data": {
                        "text/html": "Total execution time: 00:00:00.010"
                    },
                    "metadata": {}
                },
                {
                    "output_type": "execute_result",
                    "execution_count": 11,
                    "data": {
                        "application/vnd.dataresource+json": {
                            "schema": {
                                "fields": [
                                    {
                                        "name": "id"
                                    },
                                    {
                                        "name": "first_name"
                                    },
                                    {
                                        "name": "country"
                                    },
                                    {
                                        "name": "score"
                                    }
                                ]
                            },
                            "data": [
                                {
                                    "id": "8",
                                    "first_name": "Ali",
                                    "country": "UAE",
                                    "score": "720"
                                },
                                {
                                    "id": "13",
                                    "first_name": "Omar",
                                    "country": "UAE",
                                    "score": "600"
                                },
                                {
                                    "id": "19",
                                    "first_name": "Tariq",
                                    "country": "UAE",
                                    "score": "999"
                                }
                            ]
                        },
                        "text/html": "<table><tr><th>id</th><th>first_name</th><th>country</th><th>score</th></tr><tr><td>8</td><td>Ali</td><td>UAE</td><td>720</td></tr><tr><td>13</td><td>Omar</td><td>UAE</td><td>600</td></tr><tr><td>19</td><td>Tariq</td><td>UAE</td><td>999</td></tr></table>"
                    },
                    "metadata": {}
                }
            ],
            "execution_count": 11
        },
        {
            "cell_type": "code",
            "source": [
                "---- Retrieve customers from USA\n",
                "SELECT first_name , country \n",
                "FROM customers\n",
                "WHERE country = 'USA'"
            ],
            "metadata": {
                "azdata_cell_guid": "bc87fdb8-8f19-4174-bdb5-ef0ee4e57e83",
                "language": "sql"
            },
            "outputs": [
                {
                    "output_type": "display_data",
                    "data": {
                        "text/html": "(4 rows affected)"
                    },
                    "metadata": {}
                },
                {
                    "output_type": "display_data",
                    "data": {
                        "text/html": "Total execution time: 00:00:00.011"
                    },
                    "metadata": {}
                },
                {
                    "output_type": "execute_result",
                    "execution_count": 12,
                    "data": {
                        "application/vnd.dataresource+json": {
                            "schema": {
                                "fields": [
                                    {
                                        "name": "first_name"
                                    },
                                    {
                                        "name": "country"
                                    }
                                ]
                            },
                            "data": [
                                {
                                    "first_name": " John",
                                    "country": "USA"
                                },
                                {
                                    "first_name": "Peter",
                                    "country": "USA"
                                },
                                {
                                    "first_name": "Ahmed",
                                    "country": "USA"
                                },
                                {
                                    "first_name": "Tom",
                                    "country": "USA"
                                }
                            ]
                        },
                        "text/html": "<table><tr><th>first_name</th><th>country</th></tr><tr><td> John</td><td>USA</td></tr><tr><td>Peter</td><td>USA</td></tr><tr><td>Ahmed</td><td>USA</td></tr><tr><td>Tom</td><td>USA</td></tr></table>"
                    },
                    "metadata": {}
                }
            ],
            "execution_count": 12
        },
        {
            "cell_type": "code",
            "source": [
                "-- Retrieve each customer's name, country, and score.\r\n",
                "SELECT \r\n",
                "    first_name,\r\n",
                "    country,\r\n",
                "    score\r\n",
                "FROM customers"
            ],
            "metadata": {
                "azdata_cell_guid": "86e684c4-f1b5-4292-8abc-da3eb859a89c",
                "language": "sql"
            },
            "outputs": [
                {
                    "output_type": "display_data",
                    "data": {
                        "text/html": "(20 rows affected)"
                    },
                    "metadata": {}
                },
                {
                    "output_type": "display_data",
                    "data": {
                        "text/html": "Total execution time: 00:00:00.015"
                    },
                    "metadata": {}
                },
                {
                    "output_type": "execute_result",
                    "execution_count": 15,
                    "data": {
                        "application/vnd.dataresource+json": {
                            "schema": {
                                "fields": [
                                    {
                                        "name": "first_name"
                                    },
                                    {
                                        "name": "country"
                                    },
                                    {
                                        "name": "score"
                                    }
                                ]
                            },
                            "data": [
                                {
                                    "first_name": "Maria",
                                    "country": "Germany",
                                    "score": "350"
                                },
                                {
                                    "first_name": " John",
                                    "country": "USA",
                                    "score": "900"
                                },
                                {
                                    "first_name": "Georg",
                                    "country": "UK",
                                    "score": "750"
                                },
                                {
                                    "first_name": "Martin",
                                    "country": "Germany",
                                    "score": "500"
                                },
                                {
                                    "first_name": "Peter",
                                    "country": "USA",
                                    "score": "0"
                                },
                                {
                                    "first_name": "Alice",
                                    "country": "Canada",
                                    "score": "660"
                                },
                                {
                                    "first_name": "Zara",
                                    "country": "India",
                                    "score": "480"
                                },
                                {
                                    "first_name": "Ali",
                                    "country": "UAE",
                                    "score": "720"
                                },
                                {
                                    "first_name": "Nina",
                                    "country": "Germany",
                                    "score": "510"
                                },
                                {
                                    "first_name": "Ahmed",
                                    "country": "USA",
                                    "score": "300"
                                },
                                {
                                    "first_name": "Sameer",
                                    "country": "UK",
                                    "score": "820"
                                },
                                {
                                    "first_name": "Lina",
                                    "country": "India",
                                    "score": "430"
                                },
                                {
                                    "first_name": "Omar",
                                    "country": "UAE",
                                    "score": "600"
                                },
                                {
                                    "first_name": "Salma",
                                    "country": "Canada",
                                    "score": "550"
                                },
                                {
                                    "first_name": "Tom",
                                    "country": "USA",
                                    "score": "100"
                                },
                                {
                                    "first_name": "Samd",
                                    "country": "India",
                                    "score": "110"
                                },
                                {
                                    "first_name": "Rauf",
                                    "country": "Iran",
                                    "score": "107"
                                },
                                {
                                    "first_name": "Ilyas",
                                    "country": "Canad",
                                    "score": "90"
                                },
                                {
                                    "first_name": "Tariq",
                                    "country": "UAE",
                                    "score": "999"
                                },
                                {
                                    "first_name": "Tariq",
                                    "country": "Germany",
                                    "score": "110"
                                }
                            ]
                        },
                        "text/html": "<table><tr><th>first_name</th><th>country</th><th>score</th></tr><tr><td>Maria</td><td>Germany</td><td>350</td></tr><tr><td> John</td><td>USA</td><td>900</td></tr><tr><td>Georg</td><td>UK</td><td>750</td></tr><tr><td>Martin</td><td>Germany</td><td>500</td></tr><tr><td>Peter</td><td>USA</td><td>0</td></tr><tr><td>Alice</td><td>Canada</td><td>660</td></tr><tr><td>Zara</td><td>India</td><td>480</td></tr><tr><td>Ali</td><td>UAE</td><td>720</td></tr><tr><td>Nina</td><td>Germany</td><td>510</td></tr><tr><td>Ahmed</td><td>USA</td><td>300</td></tr><tr><td>Sameer</td><td>UK</td><td>820</td></tr><tr><td>Lina</td><td>India</td><td>430</td></tr><tr><td>Omar</td><td>UAE</td><td>600</td></tr><tr><td>Salma</td><td>Canada</td><td>550</td></tr><tr><td>Tom</td><td>USA</td><td>100</td></tr><tr><td>Samd</td><td>India</td><td>110</td></tr><tr><td>Rauf</td><td>Iran</td><td>107</td></tr><tr><td>Ilyas</td><td>Canad</td><td>90</td></tr><tr><td>Tariq</td><td>UAE</td><td>999</td></tr><tr><td>Tariq</td><td>Germany</td><td>110</td></tr></table>"
                    },
                    "metadata": {}
                }
            ],
            "execution_count": 15
        }
    ]
}