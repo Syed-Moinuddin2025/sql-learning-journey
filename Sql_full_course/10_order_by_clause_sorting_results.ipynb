{
    "metadata": {
        "kernelspec": {
            "name": "SQL",
            "display_name": "SQL",
            "language": "sql"
        },
        "language_info": {
            "name": "sql",
            "version": ""
        }
    },
    "nbformat_minor": 2,
    "nbformat": 4,
    "cells": [
        {
            "cell_type": "markdown",
            "source": [
                "# 📘 SQL ORDER BY Practice\n",
                "\n",
                "**Using Customers and Orders Table**\n",
                "\n",
                "This notebook demonstrates the use of `ORDER BY` clause in SQL with the `customers` and `orders` tables."
            ],
            "metadata": {
                "azdata_cell_guid": "4c3a317c-5b84-4dd0-b842-3b9be6b17cc1"
            }
        },
        {
            "cell_type": "code",
            "source": [
                "-- ============================================================================\n",
                "-- ORDER BY with CUSTOMERS table and ORDERS table\n",
                "-- ============================================================================\n",
                "\n",
                ""
            ],
            "metadata": {
                "azdata_cell_guid": "604ea88c-e2ed-4e8c-9bee-94baf42c8e5f",
                "language": "sql"
            },
            "outputs": [],
            "execution_count": null
        },
        {
            "cell_type": "markdown",
            "source": [
                "### \\-- 01. Retrieve all customers and sort the results by the highest score first."
            ],
            "metadata": {
                "azdata_cell_guid": "9bf2a6bb-3875-4003-a8ac-0537e1b4a814",
                "language": "",
                "tags": []
            },
            "attachments": {}
        },
        {
            "cell_type": "code",
            "source": [
                "SELECT * FROM customers\n",
                "ORDER BY score DESC;\n"
            ],
            "metadata": {
                "language": "sql",
                "azdata_cell_guid": "ab7d4569-54c0-4dce-b6b1-7ac1de6b10a1"
            },
            "outputs": [
                {
                    "output_type": "display_data",
                    "data": {
                        "text/html": "(20 rows affected)"
                    },
                    "metadata": {}
                },
                {
                    "output_type": "display_data",
                    "data": {
                        "text/html": "Total execution time: 00:00:00.005"
                    },
                    "metadata": {}
                },
                {
                    "output_type": "execute_result",
                    "execution_count": 2,
                    "data": {
                        "application/vnd.dataresource+json": {
                            "schema": {
                                "fields": [
                                    {
                                        "name": "id"
                                    },
                                    {
                                        "name": "first_name"
                                    },
                                    {
                                        "name": "country"
                                    },
                                    {
                                        "name": "score"
                                    }
                                ]
                            },
                            "data": [
                                {
                                    "id": "19",
                                    "first_name": "Tariq",
                                    "country": "UAE",
                                    "score": "999"
                                },
                                {
                                    "id": "2",
                                    "first_name": "John",
                                    "country": "USA",
                                    "score": "900"
                                },
                                {
                                    "id": "11",
                                    "first_name": "Sameer",
                                    "country": "UK",
                                    "score": "820"
                                },
                                {
                                    "id": "3",
                                    "first_name": "Georg",
                                    "country": "UK",
                                    "score": "750"
                                },
                                {
                                    "id": "8",
                                    "first_name": "Ali",
                                    "country": "UAE",
                                    "score": "720"
                                },
                                {
                                    "id": "6",
                                    "first_name": "Alice",
                                    "country": "Canada",
                                    "score": "660"
                                },
                                {
                                    "id": "13",
                                    "first_name": "Omar",
                                    "country": "UAE",
                                    "score": "600"
                                },
                                {
                                    "id": "14",
                                    "first_name": "Salma",
                                    "country": "Canada",
                                    "score": "550"
                                },
                                {
                                    "id": "9",
                                    "first_name": "Nina",
                                    "country": "Germany",
                                    "score": "510"
                                },
                                {
                                    "id": "4",
                                    "first_name": "Martin",
                                    "country": "Germany",
                                    "score": "500"
                                },
                                {
                                    "id": "7",
                                    "first_name": "Zara",
                                    "country": "India",
                                    "score": "480"
                                },
                                {
                                    "id": "12",
                                    "first_name": "Lina",
                                    "country": "India",
                                    "score": "430"
                                },
                                {
                                    "id": "1",
                                    "first_name": "Maria",
                                    "country": "Germany",
                                    "score": "350"
                                },
                                {
                                    "id": "10",
                                    "first_name": "Ahmed",
                                    "country": "USA",
                                    "score": "300"
                                },
                                {
                                    "id": "20",
                                    "first_name": "Tariq",
                                    "country": "Germany",
                                    "score": "110"
                                },
                                {
                                    "id": "16",
                                    "first_name": "Samd",
                                    "country": "India",
                                    "score": "110"
                                },
                                {
                                    "id": "17",
                                    "first_name": "Rauf",
                                    "country": "Iran",
                                    "score": "107"
                                },
                                {
                                    "id": "15",
                                    "first_name": "Tom",
                                    "country": "USA",
                                    "score": "100"
                                },
                                {
                                    "id": "18",
                                    "first_name": "Ilyas",
                                    "country": "Canad",
                                    "score": "90"
                                },
                                {
                                    "id": "5",
                                    "first_name": "Peter",
                                    "country": "USA",
                                    "score": "0"
                                }
                            ]
                        },
                        "text/html": "<table><tr><th>id</th><th>first_name</th><th>country</th><th>score</th></tr><tr><td>19</td><td>Tariq</td><td>UAE</td><td>999</td></tr><tr><td>2</td><td>John</td><td>USA</td><td>900</td></tr><tr><td>11</td><td>Sameer</td><td>UK</td><td>820</td></tr><tr><td>3</td><td>Georg</td><td>UK</td><td>750</td></tr><tr><td>8</td><td>Ali</td><td>UAE</td><td>720</td></tr><tr><td>6</td><td>Alice</td><td>Canada</td><td>660</td></tr><tr><td>13</td><td>Omar</td><td>UAE</td><td>600</td></tr><tr><td>14</td><td>Salma</td><td>Canada</td><td>550</td></tr><tr><td>9</td><td>Nina</td><td>Germany</td><td>510</td></tr><tr><td>4</td><td>Martin</td><td>Germany</td><td>500</td></tr><tr><td>7</td><td>Zara</td><td>India</td><td>480</td></tr><tr><td>12</td><td>Lina</td><td>India</td><td>430</td></tr><tr><td>1</td><td>Maria</td><td>Germany</td><td>350</td></tr><tr><td>10</td><td>Ahmed</td><td>USA</td><td>300</td></tr><tr><td>20</td><td>Tariq</td><td>Germany</td><td>110</td></tr><tr><td>16</td><td>Samd</td><td>India</td><td>110</td></tr><tr><td>17</td><td>Rauf</td><td>Iran</td><td>107</td></tr><tr><td>15</td><td>Tom</td><td>USA</td><td>100</td></tr><tr><td>18</td><td>Ilyas</td><td>Canad</td><td>90</td></tr><tr><td>5</td><td>Peter</td><td>USA</td><td>0</td></tr></table>"
                    },
                    "metadata": {}
                }
            ],
            "execution_count": 2
        },
        {
            "cell_type": "markdown",
            "source": [
                "\n",
                "-- 02. Retrieve all customers and sort the results by the lowest score first"
            ],
            "metadata": {
                "azdata_cell_guid": "0f893aaf-0c5a-4dc8-9519-4b7a7d0bb32d",
                "language": ""
            },
            "attachments": {}
        },
        {
            "cell_type": "code",
            "source": [
                "SELECT * FROM customers\n",
                "ORDER BY score ASC;\n",
                ""
            ],
            "metadata": {
                "language": "sql",
                "azdata_cell_guid": "becd9c10-e83a-46d3-862c-6b5f45d30f2e"
            },
            "outputs": [
                {
                    "output_type": "display_data",
                    "data": {
                        "text/html": "(20 rows affected)"
                    },
                    "metadata": {}
                },
                {
                    "output_type": "display_data",
                    "data": {
                        "text/html": "Total execution time: 00:00:00.011"
                    },
                    "metadata": {}
                },
                {
                    "output_type": "execute_result",
                    "execution_count": 3,
                    "data": {
                        "application/vnd.dataresource+json": {
                            "schema": {
                                "fields": [
                                    {
                                        "name": "id"
                                    },
                                    {
                                        "name": "first_name"
                                    },
                                    {
                                        "name": "country"
                                    },
                                    {
                                        "name": "score"
                                    }
                                ]
                            },
                            "data": [
                                {
                                    "id": "5",
                                    "first_name": "Peter",
                                    "country": "USA",
                                    "score": "0"
                                },
                                {
                                    "id": "18",
                                    "first_name": "Ilyas",
                                    "country": "Canad",
                                    "score": "90"
                                },
                                {
                                    "id": "15",
                                    "first_name": "Tom",
                                    "country": "USA",
                                    "score": "100"
                                },
                                {
                                    "id": "17",
                                    "first_name": "Rauf",
                                    "country": "Iran",
                                    "score": "107"
                                },
                                {
                                    "id": "20",
                                    "first_name": "Tariq",
                                    "country": "Germany",
                                    "score": "110"
                                },
                                {
                                    "id": "16",
                                    "first_name": "Samd",
                                    "country": "India",
                                    "score": "110"
                                },
                                {
                                    "id": "10",
                                    "first_name": "Ahmed",
                                    "country": "USA",
                                    "score": "300"
                                },
                                {
                                    "id": "1",
                                    "first_name": "Maria",
                                    "country": "Germany",
                                    "score": "350"
                                },
                                {
                                    "id": "12",
                                    "first_name": "Lina",
                                    "country": "India",
                                    "score": "430"
                                },
                                {
                                    "id": "7",
                                    "first_name": "Zara",
                                    "country": "India",
                                    "score": "480"
                                },
                                {
                                    "id": "4",
                                    "first_name": "Martin",
                                    "country": "Germany",
                                    "score": "500"
                                },
                                {
                                    "id": "9",
                                    "first_name": "Nina",
                                    "country": "Germany",
                                    "score": "510"
                                },
                                {
                                    "id": "14",
                                    "first_name": "Salma",
                                    "country": "Canada",
                                    "score": "550"
                                },
                                {
                                    "id": "13",
                                    "first_name": "Omar",
                                    "country": "UAE",
                                    "score": "600"
                                },
                                {
                                    "id": "6",
                                    "first_name": "Alice",
                                    "country": "Canada",
                                    "score": "660"
                                },
                                {
                                    "id": "8",
                                    "first_name": "Ali",
                                    "country": "UAE",
                                    "score": "720"
                                },
                                {
                                    "id": "3",
                                    "first_name": "Georg",
                                    "country": "UK",
                                    "score": "750"
                                },
                                {
                                    "id": "11",
                                    "first_name": "Sameer",
                                    "country": "UK",
                                    "score": "820"
                                },
                                {
                                    "id": "2",
                                    "first_name": "John",
                                    "country": "USA",
                                    "score": "900"
                                },
                                {
                                    "id": "19",
                                    "first_name": "Tariq",
                                    "country": "UAE",
                                    "score": "999"
                                }
                            ]
                        },
                        "text/html": "<table><tr><th>id</th><th>first_name</th><th>country</th><th>score</th></tr><tr><td>5</td><td>Peter</td><td>USA</td><td>0</td></tr><tr><td>18</td><td>Ilyas</td><td>Canad</td><td>90</td></tr><tr><td>15</td><td>Tom</td><td>USA</td><td>100</td></tr><tr><td>17</td><td>Rauf</td><td>Iran</td><td>107</td></tr><tr><td>20</td><td>Tariq</td><td>Germany</td><td>110</td></tr><tr><td>16</td><td>Samd</td><td>India</td><td>110</td></tr><tr><td>10</td><td>Ahmed</td><td>USA</td><td>300</td></tr><tr><td>1</td><td>Maria</td><td>Germany</td><td>350</td></tr><tr><td>12</td><td>Lina</td><td>India</td><td>430</td></tr><tr><td>7</td><td>Zara</td><td>India</td><td>480</td></tr><tr><td>4</td><td>Martin</td><td>Germany</td><td>500</td></tr><tr><td>9</td><td>Nina</td><td>Germany</td><td>510</td></tr><tr><td>14</td><td>Salma</td><td>Canada</td><td>550</td></tr><tr><td>13</td><td>Omar</td><td>UAE</td><td>600</td></tr><tr><td>6</td><td>Alice</td><td>Canada</td><td>660</td></tr><tr><td>8</td><td>Ali</td><td>UAE</td><td>720</td></tr><tr><td>3</td><td>Georg</td><td>UK</td><td>750</td></tr><tr><td>11</td><td>Sameer</td><td>UK</td><td>820</td></tr><tr><td>2</td><td>John</td><td>USA</td><td>900</td></tr><tr><td>19</td><td>Tariq</td><td>UAE</td><td>999</td></tr></table>"
                    },
                    "metadata": {}
                }
            ],
            "execution_count": 3
        },
        {
            "cell_type": "markdown",
            "source": [
                "###  -- 03. Retrieve all customers and sort the results by the country and then by the highest score"
            ],
            "metadata": {
                "language": "",
                "azdata_cell_guid": "89c02b28-204c-4490-a225-0b218bf0cb02"
            },
            "attachments": {}
        },
        {
            "cell_type": "code",
            "source": [
                "\n",
                "SELECT * FROM customers\n",
                "ORDER BY country ASC, score DESC;\n",
                ""
            ],
            "metadata": {
                "language": "sql",
                "azdata_cell_guid": "ff4f6745-73d6-4152-93ef-38d9a167de43"
            },
            "outputs": [
                {
                    "output_type": "display_data",
                    "data": {
                        "text/html": "(20 rows affected)"
                    },
                    "metadata": {}
                },
                {
                    "output_type": "display_data",
                    "data": {
                        "text/html": "Total execution time: 00:00:00.004"
                    },
                    "metadata": {}
                },
                {
                    "output_type": "execute_result",
                    "execution_count": 4,
                    "data": {
                        "application/vnd.dataresource+json": {
                            "schema": {
                                "fields": [
                                    {
                                        "name": "id"
                                    },
                                    {
                                        "name": "first_name"
                                    },
                                    {
                                        "name": "country"
                                    },
                                    {
                                        "name": "score"
                                    }
                                ]
                            },
                            "data": [
                                {
                                    "id": "18",
                                    "first_name": "Ilyas",
                                    "country": "Canad",
                                    "score": "90"
                                },
                                {
                                    "id": "6",
                                    "first_name": "Alice",
                                    "country": "Canada",
                                    "score": "660"
                                },
                                {
                                    "id": "14",
                                    "first_name": "Salma",
                                    "country": "Canada",
                                    "score": "550"
                                },
                                {
                                    "id": "9",
                                    "first_name": "Nina",
                                    "country": "Germany",
                                    "score": "510"
                                },
                                {
                                    "id": "4",
                                    "first_name": "Martin",
                                    "country": "Germany",
                                    "score": "500"
                                },
                                {
                                    "id": "1",
                                    "first_name": "Maria",
                                    "country": "Germany",
                                    "score": "350"
                                },
                                {
                                    "id": "20",
                                    "first_name": "Tariq",
                                    "country": "Germany",
                                    "score": "110"
                                },
                                {
                                    "id": "7",
                                    "first_name": "Zara",
                                    "country": "India",
                                    "score": "480"
                                },
                                {
                                    "id": "12",
                                    "first_name": "Lina",
                                    "country": "India",
                                    "score": "430"
                                },
                                {
                                    "id": "16",
                                    "first_name": "Samd",
                                    "country": "India",
                                    "score": "110"
                                },
                                {
                                    "id": "17",
                                    "first_name": "Rauf",
                                    "country": "Iran",
                                    "score": "107"
                                },
                                {
                                    "id": "19",
                                    "first_name": "Tariq",
                                    "country": "UAE",
                                    "score": "999"
                                },
                                {
                                    "id": "8",
                                    "first_name": "Ali",
                                    "country": "UAE",
                                    "score": "720"
                                },
                                {
                                    "id": "13",
                                    "first_name": "Omar",
                                    "country": "UAE",
                                    "score": "600"
                                },
                                {
                                    "id": "11",
                                    "first_name": "Sameer",
                                    "country": "UK",
                                    "score": "820"
                                },
                                {
                                    "id": "3",
                                    "first_name": "Georg",
                                    "country": "UK",
                                    "score": "750"
                                },
                                {
                                    "id": "2",
                                    "first_name": "John",
                                    "country": "USA",
                                    "score": "900"
                                },
                                {
                                    "id": "10",
                                    "first_name": "Ahmed",
                                    "country": "USA",
                                    "score": "300"
                                },
                                {
                                    "id": "15",
                                    "first_name": "Tom",
                                    "country": "USA",
                                    "score": "100"
                                },
                                {
                                    "id": "5",
                                    "first_name": "Peter",
                                    "country": "USA",
                                    "score": "0"
                                }
                            ]
                        },
                        "text/html": "<table><tr><th>id</th><th>first_name</th><th>country</th><th>score</th></tr><tr><td>18</td><td>Ilyas</td><td>Canad</td><td>90</td></tr><tr><td>6</td><td>Alice</td><td>Canada</td><td>660</td></tr><tr><td>14</td><td>Salma</td><td>Canada</td><td>550</td></tr><tr><td>9</td><td>Nina</td><td>Germany</td><td>510</td></tr><tr><td>4</td><td>Martin</td><td>Germany</td><td>500</td></tr><tr><td>1</td><td>Maria</td><td>Germany</td><td>350</td></tr><tr><td>20</td><td>Tariq</td><td>Germany</td><td>110</td></tr><tr><td>7</td><td>Zara</td><td>India</td><td>480</td></tr><tr><td>12</td><td>Lina</td><td>India</td><td>430</td></tr><tr><td>16</td><td>Samd</td><td>India</td><td>110</td></tr><tr><td>17</td><td>Rauf</td><td>Iran</td><td>107</td></tr><tr><td>19</td><td>Tariq</td><td>UAE</td><td>999</td></tr><tr><td>8</td><td>Ali</td><td>UAE</td><td>720</td></tr><tr><td>13</td><td>Omar</td><td>UAE</td><td>600</td></tr><tr><td>11</td><td>Sameer</td><td>UK</td><td>820</td></tr><tr><td>3</td><td>Georg</td><td>UK</td><td>750</td></tr><tr><td>2</td><td>John</td><td>USA</td><td>900</td></tr><tr><td>10</td><td>Ahmed</td><td>USA</td><td>300</td></tr><tr><td>15</td><td>Tom</td><td>USA</td><td>100</td></tr><tr><td>5</td><td>Peter</td><td>USA</td><td>0</td></tr></table>"
                    },
                    "metadata": {}
                }
            ],
            "execution_count": 4
        },
        {
            "cell_type": "markdown",
            "source": [
                "-- 04. Retrieve all customers and sort the results by the first_name and then by the highest score\n",
                ""
            ],
            "metadata": {
                "language": "",
                "azdata_cell_guid": "cf3a1ba7-19e1-4c35-bf22-1fbbf88fb03f"
            },
            "attachments": {}
        },
        {
            "cell_type": "code",
            "source": [
                "SELECT * FROM customers\n",
                "ORDER BY first_name DESC, score DESC;\n",
                ""
            ],
            "metadata": {
                "language": "sql",
                "azdata_cell_guid": "254b9c1e-fabe-4a02-8631-024e09c81a6c"
            },
            "outputs": [
                {
                    "output_type": "display_data",
                    "data": {
                        "text/html": "(20 rows affected)"
                    },
                    "metadata": {}
                },
                {
                    "output_type": "display_data",
                    "data": {
                        "text/html": "Total execution time: 00:00:00.004"
                    },
                    "metadata": {}
                },
                {
                    "output_type": "execute_result",
                    "metadata": {},
                    "execution_count": 14,
                    "data": {
                        "application/vnd.dataresource+json": {
                            "schema": {
                                "fields": [
                                    {
                                        "name": "id"
                                    },
                                    {
                                        "name": "first_name"
                                    },
                                    {
                                        "name": "country"
                                    },
                                    {
                                        "name": "score"
                                    }
                                ]
                            },
                            "data": [
                                {
                                    "id": "7",
                                    "first_name": "Zara",
                                    "country": "India",
                                    "score": "480"
                                },
                                {
                                    "id": "15",
                                    "first_name": "Tom",
                                    "country": "USA",
                                    "score": "100"
                                },
                                {
                                    "id": "19",
                                    "first_name": "Tariq",
                                    "country": "UAE",
                                    "score": "999"
                                },
                                {
                                    "id": "20",
                                    "first_name": "Tariq",
                                    "country": "Germany",
                                    "score": "110"
                                },
                                {
                                    "id": "11",
                                    "first_name": "Sameer",
                                    "country": "UK",
                                    "score": "820"
                                },
                                {
                                    "id": "16",
                                    "first_name": "Samd",
                                    "country": "India",
                                    "score": "110"
                                },
                                {
                                    "id": "14",
                                    "first_name": "Salma",
                                    "country": "Canada",
                                    "score": "550"
                                },
                                {
                                    "id": "17",
                                    "first_name": "Rauf",
                                    "country": "Iran",
                                    "score": "107"
                                },
                                {
                                    "id": "5",
                                    "first_name": "Peter",
                                    "country": "USA",
                                    "score": "0"
                                },
                                {
                                    "id": "13",
                                    "first_name": "Omar",
                                    "country": "UAE",
                                    "score": "600"
                                },
                                {
                                    "id": "9",
                                    "first_name": "Nina",
                                    "country": "Germany",
                                    "score": "510"
                                },
                                {
                                    "id": "4",
                                    "first_name": "Martin",
                                    "country": "Germany",
                                    "score": "500"
                                },
                                {
                                    "id": "1",
                                    "first_name": "Maria",
                                    "country": "Germany",
                                    "score": "350"
                                },
                                {
                                    "id": "12",
                                    "first_name": "Lina",
                                    "country": "India",
                                    "score": "430"
                                },
                                {
                                    "id": "2",
                                    "first_name": "John",
                                    "country": "USA",
                                    "score": "900"
                                },
                                {
                                    "id": "18",
                                    "first_name": "Ilyas",
                                    "country": "Canad",
                                    "score": "90"
                                },
                                {
                                    "id": "3",
                                    "first_name": "Georg",
                                    "country": "UK",
                                    "score": "750"
                                },
                                {
                                    "id": "6",
                                    "first_name": "Alice",
                                    "country": "Canada",
                                    "score": "660"
                                },
                                {
                                    "id": "8",
                                    "first_name": "Ali",
                                    "country": "UAE",
                                    "score": "720"
                                },
                                {
                                    "id": "10",
                                    "first_name": "Ahmed",
                                    "country": "USA",
                                    "score": "300"
                                }
                            ]
                        },
                        "text/html": [
                            "<table>",
                            "<tr><th>id</th><th>first_name</th><th>country</th><th>score</th></tr>",
                            "<tr><td>7</td><td>Zara</td><td>India</td><td>480</td></tr>",
                            "<tr><td>15</td><td>Tom</td><td>USA</td><td>100</td></tr>",
                            "<tr><td>19</td><td>Tariq</td><td>UAE</td><td>999</td></tr>",
                            "<tr><td>20</td><td>Tariq</td><td>Germany</td><td>110</td></tr>",
                            "<tr><td>11</td><td>Sameer</td><td>UK</td><td>820</td></tr>",
                            "<tr><td>16</td><td>Samd</td><td>India</td><td>110</td></tr>",
                            "<tr><td>14</td><td>Salma</td><td>Canada</td><td>550</td></tr>",
                            "<tr><td>17</td><td>Rauf</td><td>Iran</td><td>107</td></tr>",
                            "<tr><td>5</td><td>Peter</td><td>USA</td><td>0</td></tr>",
                            "<tr><td>13</td><td>Omar</td><td>UAE</td><td>600</td></tr>",
                            "<tr><td>9</td><td>Nina</td><td>Germany</td><td>510</td></tr>",
                            "<tr><td>4</td><td>Martin</td><td>Germany</td><td>500</td></tr>",
                            "<tr><td>1</td><td>Maria</td><td>Germany</td><td>350</td></tr>",
                            "<tr><td>12</td><td>Lina</td><td>India</td><td>430</td></tr>",
                            "<tr><td>2</td><td>John</td><td>USA</td><td>900</td></tr>",
                            "<tr><td>18</td><td>Ilyas</td><td>Canad</td><td>90</td></tr>",
                            "<tr><td>3</td><td>Georg</td><td>UK</td><td>750</td></tr>",
                            "<tr><td>6</td><td>Alice</td><td>Canada</td><td>660</td></tr>",
                            "<tr><td>8</td><td>Ali</td><td>UAE</td><td>720</td></tr>",
                            "<tr><td>10</td><td>Ahmed</td><td>USA</td><td>300</td></tr>",
                            "</table>"
                        ]
                    }
                }
            ],
            "execution_count": 14
        },
        {
            "cell_type": "markdown",
            "source": [
                "-- 05. Sort customers by score (ascending)\n",
                ""
            ],
            "metadata": {
                "language": "",
                "azdata_cell_guid": "b705aa92-23b2-40c4-9a55-e0692d30e509"
            },
            "attachments": {}
        },
        {
            "cell_type": "code",
            "source": [
                "\n",
                "SELECT * FROM customers\n",
                "ORDER BY score ASC;\n",
                ""
            ],
            "metadata": {
                "language": "sql",
                "azdata_cell_guid": "b329568d-25ba-46ca-8392-3fbd3b6b377d"
            },
            "outputs": [
                {
                    "output_type": "display_data",
                    "data": {
                        "text/html": "(20 rows affected)"
                    },
                    "metadata": {}
                },
                {
                    "output_type": "display_data",
                    "data": {
                        "text/html": "Total execution time: 00:00:00.003"
                    },
                    "metadata": {}
                },
                {
                    "output_type": "execute_result",
                    "metadata": {},
                    "execution_count": 13,
                    "data": {
                        "application/vnd.dataresource+json": {
                            "schema": {
                                "fields": [
                                    {
                                        "name": "id"
                                    },
                                    {
                                        "name": "first_name"
                                    },
                                    {
                                        "name": "country"
                                    },
                                    {
                                        "name": "score"
                                    }
                                ]
                            },
                            "data": [
                                {
                                    "id": "5",
                                    "first_name": "Peter",
                                    "country": "USA",
                                    "score": "0"
                                },
                                {
                                    "id": "18",
                                    "first_name": "Ilyas",
                                    "country": "Canad",
                                    "score": "90"
                                },
                                {
                                    "id": "15",
                                    "first_name": "Tom",
                                    "country": "USA",
                                    "score": "100"
                                },
                                {
                                    "id": "17",
                                    "first_name": "Rauf",
                                    "country": "Iran",
                                    "score": "107"
                                },
                                {
                                    "id": "20",
                                    "first_name": "Tariq",
                                    "country": "Germany",
                                    "score": "110"
                                },
                                {
                                    "id": "16",
                                    "first_name": "Samd",
                                    "country": "India",
                                    "score": "110"
                                },
                                {
                                    "id": "10",
                                    "first_name": "Ahmed",
                                    "country": "USA",
                                    "score": "300"
                                },
                                {
                                    "id": "1",
                                    "first_name": "Maria",
                                    "country": "Germany",
                                    "score": "350"
                                },
                                {
                                    "id": "12",
                                    "first_name": "Lina",
                                    "country": "India",
                                    "score": "430"
                                },
                                {
                                    "id": "7",
                                    "first_name": "Zara",
                                    "country": "India",
                                    "score": "480"
                                },
                                {
                                    "id": "4",
                                    "first_name": "Martin",
                                    "country": "Germany",
                                    "score": "500"
                                },
                                {
                                    "id": "9",
                                    "first_name": "Nina",
                                    "country": "Germany",
                                    "score": "510"
                                },
                                {
                                    "id": "14",
                                    "first_name": "Salma",
                                    "country": "Canada",
                                    "score": "550"
                                },
                                {
                                    "id": "13",
                                    "first_name": "Omar",
                                    "country": "UAE",
                                    "score": "600"
                                },
                                {
                                    "id": "6",
                                    "first_name": "Alice",
                                    "country": "Canada",
                                    "score": "660"
                                },
                                {
                                    "id": "8",
                                    "first_name": "Ali",
                                    "country": "UAE",
                                    "score": "720"
                                },
                                {
                                    "id": "3",
                                    "first_name": "Georg",
                                    "country": "UK",
                                    "score": "750"
                                },
                                {
                                    "id": "11",
                                    "first_name": "Sameer",
                                    "country": "UK",
                                    "score": "820"
                                },
                                {
                                    "id": "2",
                                    "first_name": "John",
                                    "country": "USA",
                                    "score": "900"
                                },
                                {
                                    "id": "19",
                                    "first_name": "Tariq",
                                    "country": "UAE",
                                    "score": "999"
                                }
                            ]
                        },
                        "text/html": [
                            "<table>",
                            "<tr><th>id</th><th>first_name</th><th>country</th><th>score</th></tr>",
                            "<tr><td>5</td><td>Peter</td><td>USA</td><td>0</td></tr>",
                            "<tr><td>18</td><td>Ilyas</td><td>Canad</td><td>90</td></tr>",
                            "<tr><td>15</td><td>Tom</td><td>USA</td><td>100</td></tr>",
                            "<tr><td>17</td><td>Rauf</td><td>Iran</td><td>107</td></tr>",
                            "<tr><td>20</td><td>Tariq</td><td>Germany</td><td>110</td></tr>",
                            "<tr><td>16</td><td>Samd</td><td>India</td><td>110</td></tr>",
                            "<tr><td>10</td><td>Ahmed</td><td>USA</td><td>300</td></tr>",
                            "<tr><td>1</td><td>Maria</td><td>Germany</td><td>350</td></tr>",
                            "<tr><td>12</td><td>Lina</td><td>India</td><td>430</td></tr>",
                            "<tr><td>7</td><td>Zara</td><td>India</td><td>480</td></tr>",
                            "<tr><td>4</td><td>Martin</td><td>Germany</td><td>500</td></tr>",
                            "<tr><td>9</td><td>Nina</td><td>Germany</td><td>510</td></tr>",
                            "<tr><td>14</td><td>Salma</td><td>Canada</td><td>550</td></tr>",
                            "<tr><td>13</td><td>Omar</td><td>UAE</td><td>600</td></tr>",
                            "<tr><td>6</td><td>Alice</td><td>Canada</td><td>660</td></tr>",
                            "<tr><td>8</td><td>Ali</td><td>UAE</td><td>720</td></tr>",
                            "<tr><td>3</td><td>Georg</td><td>UK</td><td>750</td></tr>",
                            "<tr><td>11</td><td>Sameer</td><td>UK</td><td>820</td></tr>",
                            "<tr><td>2</td><td>John</td><td>USA</td><td>900</td></tr>",
                            "<tr><td>19</td><td>Tariq</td><td>UAE</td><td>999</td></tr>",
                            "</table>"
                        ]
                    }
                }
            ],
            "execution_count": 13
        },
        {
            "cell_type": "markdown",
            "source": [
                "-- 06. Sort customers by score (descending)\n",
                ""
            ],
            "metadata": {
                "language": "",
                "azdata_cell_guid": "8dac6ba0-f609-4d68-bd01-fef8f273edff"
            },
            "attachments": {}
        },
        {
            "cell_type": "code",
            "source": [
                "\n",
                "SELECT * FROM customers\n",
                "ORDER BY score DESC;\n",
                ""
            ],
            "metadata": {
                "language": "sql",
                "azdata_cell_guid": "9386e7c0-9222-49cd-80a2-03c3232b6177"
            },
            "outputs": [
                {
                    "output_type": "display_data",
                    "data": {
                        "text/html": "(20 rows affected)"
                    },
                    "metadata": {}
                },
                {
                    "output_type": "display_data",
                    "data": {
                        "text/html": "Total execution time: 00:00:00.012"
                    },
                    "metadata": {}
                },
                {
                    "output_type": "execute_result",
                    "metadata": {},
                    "execution_count": 12,
                    "data": {
                        "application/vnd.dataresource+json": {
                            "schema": {
                                "fields": [
                                    {
                                        "name": "id"
                                    },
                                    {
                                        "name": "first_name"
                                    },
                                    {
                                        "name": "country"
                                    },
                                    {
                                        "name": "score"
                                    }
                                ]
                            },
                            "data": [
                                {
                                    "id": "19",
                                    "first_name": "Tariq",
                                    "country": "UAE",
                                    "score": "999"
                                },
                                {
                                    "id": "2",
                                    "first_name": "John",
                                    "country": "USA",
                                    "score": "900"
                                },
                                {
                                    "id": "11",
                                    "first_name": "Sameer",
                                    "country": "UK",
                                    "score": "820"
                                },
                                {
                                    "id": "3",
                                    "first_name": "Georg",
                                    "country": "UK",
                                    "score": "750"
                                },
                                {
                                    "id": "8",
                                    "first_name": "Ali",
                                    "country": "UAE",
                                    "score": "720"
                                },
                                {
                                    "id": "6",
                                    "first_name": "Alice",
                                    "country": "Canada",
                                    "score": "660"
                                },
                                {
                                    "id": "13",
                                    "first_name": "Omar",
                                    "country": "UAE",
                                    "score": "600"
                                },
                                {
                                    "id": "14",
                                    "first_name": "Salma",
                                    "country": "Canada",
                                    "score": "550"
                                },
                                {
                                    "id": "9",
                                    "first_name": "Nina",
                                    "country": "Germany",
                                    "score": "510"
                                },
                                {
                                    "id": "4",
                                    "first_name": "Martin",
                                    "country": "Germany",
                                    "score": "500"
                                },
                                {
                                    "id": "7",
                                    "first_name": "Zara",
                                    "country": "India",
                                    "score": "480"
                                },
                                {
                                    "id": "12",
                                    "first_name": "Lina",
                                    "country": "India",
                                    "score": "430"
                                },
                                {
                                    "id": "1",
                                    "first_name": "Maria",
                                    "country": "Germany",
                                    "score": "350"
                                },
                                {
                                    "id": "10",
                                    "first_name": "Ahmed",
                                    "country": "USA",
                                    "score": "300"
                                },
                                {
                                    "id": "20",
                                    "first_name": "Tariq",
                                    "country": "Germany",
                                    "score": "110"
                                },
                                {
                                    "id": "16",
                                    "first_name": "Samd",
                                    "country": "India",
                                    "score": "110"
                                },
                                {
                                    "id": "17",
                                    "first_name": "Rauf",
                                    "country": "Iran",
                                    "score": "107"
                                },
                                {
                                    "id": "15",
                                    "first_name": "Tom",
                                    "country": "USA",
                                    "score": "100"
                                },
                                {
                                    "id": "18",
                                    "first_name": "Ilyas",
                                    "country": "Canad",
                                    "score": "90"
                                },
                                {
                                    "id": "5",
                                    "first_name": "Peter",
                                    "country": "USA",
                                    "score": "0"
                                }
                            ]
                        },
                        "text/html": [
                            "<table>",
                            "<tr><th>id</th><th>first_name</th><th>country</th><th>score</th></tr>",
                            "<tr><td>19</td><td>Tariq</td><td>UAE</td><td>999</td></tr>",
                            "<tr><td>2</td><td>John</td><td>USA</td><td>900</td></tr>",
                            "<tr><td>11</td><td>Sameer</td><td>UK</td><td>820</td></tr>",
                            "<tr><td>3</td><td>Georg</td><td>UK</td><td>750</td></tr>",
                            "<tr><td>8</td><td>Ali</td><td>UAE</td><td>720</td></tr>",
                            "<tr><td>6</td><td>Alice</td><td>Canada</td><td>660</td></tr>",
                            "<tr><td>13</td><td>Omar</td><td>UAE</td><td>600</td></tr>",
                            "<tr><td>14</td><td>Salma</td><td>Canada</td><td>550</td></tr>",
                            "<tr><td>9</td><td>Nina</td><td>Germany</td><td>510</td></tr>",
                            "<tr><td>4</td><td>Martin</td><td>Germany</td><td>500</td></tr>",
                            "<tr><td>7</td><td>Zara</td><td>India</td><td>480</td></tr>",
                            "<tr><td>12</td><td>Lina</td><td>India</td><td>430</td></tr>",
                            "<tr><td>1</td><td>Maria</td><td>Germany</td><td>350</td></tr>",
                            "<tr><td>10</td><td>Ahmed</td><td>USA</td><td>300</td></tr>",
                            "<tr><td>20</td><td>Tariq</td><td>Germany</td><td>110</td></tr>",
                            "<tr><td>16</td><td>Samd</td><td>India</td><td>110</td></tr>",
                            "<tr><td>17</td><td>Rauf</td><td>Iran</td><td>107</td></tr>",
                            "<tr><td>15</td><td>Tom</td><td>USA</td><td>100</td></tr>",
                            "<tr><td>18</td><td>Ilyas</td><td>Canad</td><td>90</td></tr>",
                            "<tr><td>5</td><td>Peter</td><td>USA</td><td>0</td></tr>",
                            "</table>"
                        ]
                    }
                }
            ],
            "execution_count": 12
        },
        {
            "cell_type": "markdown",
            "source": [
                "-- 07. Sort customers alphabetically by first name\n",
                ""
            ],
            "metadata": {
                "language": "",
                "azdata_cell_guid": "11b3f606-ac53-4838-9236-352bd575822c"
            },
            "attachments": {}
        },
        {
            "cell_type": "code",
            "source": [
                "\n",
                "SELECT * FROM customers\n",
                "ORDER BY first_name ASC;\n",
                ""
            ],
            "metadata": {
                "language": "sql",
                "azdata_cell_guid": "cd4a6920-4b8b-41c1-93ee-178b03b373b0"
            },
            "outputs": [
                {
                    "output_type": "display_data",
                    "data": {
                        "text/html": "(20 rows affected)"
                    },
                    "metadata": {}
                },
                {
                    "output_type": "display_data",
                    "data": {
                        "text/html": "Total execution time: 00:00:00.004"
                    },
                    "metadata": {}
                },
                {
                    "output_type": "execute_result",
                    "metadata": {},
                    "execution_count": 11,
                    "data": {
                        "application/vnd.dataresource+json": {
                            "schema": {
                                "fields": [
                                    {
                                        "name": "id"
                                    },
                                    {
                                        "name": "first_name"
                                    },
                                    {
                                        "name": "country"
                                    },
                                    {
                                        "name": "score"
                                    }
                                ]
                            },
                            "data": [
                                {
                                    "id": "10",
                                    "first_name": "Ahmed",
                                    "country": "USA",
                                    "score": "300"
                                },
                                {
                                    "id": "8",
                                    "first_name": "Ali",
                                    "country": "UAE",
                                    "score": "720"
                                },
                                {
                                    "id": "6",
                                    "first_name": "Alice",
                                    "country": "Canada",
                                    "score": "660"
                                },
                                {
                                    "id": "3",
                                    "first_name": "Georg",
                                    "country": "UK",
                                    "score": "750"
                                },
                                {
                                    "id": "18",
                                    "first_name": "Ilyas",
                                    "country": "Canad",
                                    "score": "90"
                                },
                                {
                                    "id": "2",
                                    "first_name": "John",
                                    "country": "USA",
                                    "score": "900"
                                },
                                {
                                    "id": "12",
                                    "first_name": "Lina",
                                    "country": "India",
                                    "score": "430"
                                },
                                {
                                    "id": "1",
                                    "first_name": "Maria",
                                    "country": "Germany",
                                    "score": "350"
                                },
                                {
                                    "id": "4",
                                    "first_name": "Martin",
                                    "country": "Germany",
                                    "score": "500"
                                },
                                {
                                    "id": "9",
                                    "first_name": "Nina",
                                    "country": "Germany",
                                    "score": "510"
                                },
                                {
                                    "id": "13",
                                    "first_name": "Omar",
                                    "country": "UAE",
                                    "score": "600"
                                },
                                {
                                    "id": "5",
                                    "first_name": "Peter",
                                    "country": "USA",
                                    "score": "0"
                                },
                                {
                                    "id": "17",
                                    "first_name": "Rauf",
                                    "country": "Iran",
                                    "score": "107"
                                },
                                {
                                    "id": "14",
                                    "first_name": "Salma",
                                    "country": "Canada",
                                    "score": "550"
                                },
                                {
                                    "id": "16",
                                    "first_name": "Samd",
                                    "country": "India",
                                    "score": "110"
                                },
                                {
                                    "id": "11",
                                    "first_name": "Sameer",
                                    "country": "UK",
                                    "score": "820"
                                },
                                {
                                    "id": "19",
                                    "first_name": "Tariq",
                                    "country": "UAE",
                                    "score": "999"
                                },
                                {
                                    "id": "20",
                                    "first_name": "Tariq",
                                    "country": "Germany",
                                    "score": "110"
                                },
                                {
                                    "id": "15",
                                    "first_name": "Tom",
                                    "country": "USA",
                                    "score": "100"
                                },
                                {
                                    "id": "7",
                                    "first_name": "Zara",
                                    "country": "India",
                                    "score": "480"
                                }
                            ]
                        },
                        "text/html": [
                            "<table>",
                            "<tr><th>id</th><th>first_name</th><th>country</th><th>score</th></tr>",
                            "<tr><td>10</td><td>Ahmed</td><td>USA</td><td>300</td></tr>",
                            "<tr><td>8</td><td>Ali</td><td>UAE</td><td>720</td></tr>",
                            "<tr><td>6</td><td>Alice</td><td>Canada</td><td>660</td></tr>",
                            "<tr><td>3</td><td>Georg</td><td>UK</td><td>750</td></tr>",
                            "<tr><td>18</td><td>Ilyas</td><td>Canad</td><td>90</td></tr>",
                            "<tr><td>2</td><td>John</td><td>USA</td><td>900</td></tr>",
                            "<tr><td>12</td><td>Lina</td><td>India</td><td>430</td></tr>",
                            "<tr><td>1</td><td>Maria</td><td>Germany</td><td>350</td></tr>",
                            "<tr><td>4</td><td>Martin</td><td>Germany</td><td>500</td></tr>",
                            "<tr><td>9</td><td>Nina</td><td>Germany</td><td>510</td></tr>",
                            "<tr><td>13</td><td>Omar</td><td>UAE</td><td>600</td></tr>",
                            "<tr><td>5</td><td>Peter</td><td>USA</td><td>0</td></tr>",
                            "<tr><td>17</td><td>Rauf</td><td>Iran</td><td>107</td></tr>",
                            "<tr><td>14</td><td>Salma</td><td>Canada</td><td>550</td></tr>",
                            "<tr><td>16</td><td>Samd</td><td>India</td><td>110</td></tr>",
                            "<tr><td>11</td><td>Sameer</td><td>UK</td><td>820</td></tr>",
                            "<tr><td>19</td><td>Tariq</td><td>UAE</td><td>999</td></tr>",
                            "<tr><td>20</td><td>Tariq</td><td>Germany</td><td>110</td></tr>",
                            "<tr><td>15</td><td>Tom</td><td>USA</td><td>100</td></tr>",
                            "<tr><td>7</td><td>Zara</td><td>India</td><td>480</td></tr>",
                            "</table>"
                        ]
                    }
                }
            ],
            "execution_count": 11
        },
        {
            "cell_type": "markdown",
            "source": [
                "-- 08. Sort customers by country, then by score descending\n",
                ""
            ],
            "metadata": {
                "language": "",
                "azdata_cell_guid": "c6250c88-a5e9-42d4-b384-2bf88e886b7a"
            },
            "attachments": {}
        },
        {
            "cell_type": "code",
            "source": [
                "\n",
                "SELECT * FROM customers\n",
                "ORDER BY country, score DESC;\n",
                "\n",
                ""
            ],
            "metadata": {
                "language": "sql",
                "azdata_cell_guid": "c3de29b8-2f9e-4497-8459-cd723d70a94e"
            },
            "outputs": [
                {
                    "output_type": "display_data",
                    "data": {
                        "text/html": "(20 rows affected)"
                    },
                    "metadata": {}
                },
                {
                    "output_type": "display_data",
                    "data": {
                        "text/html": "Total execution time: 00:00:00.009"
                    },
                    "metadata": {}
                },
                {
                    "output_type": "execute_result",
                    "metadata": {},
                    "execution_count": 10,
                    "data": {
                        "application/vnd.dataresource+json": {
                            "schema": {
                                "fields": [
                                    {
                                        "name": "id"
                                    },
                                    {
                                        "name": "first_name"
                                    },
                                    {
                                        "name": "country"
                                    },
                                    {
                                        "name": "score"
                                    }
                                ]
                            },
                            "data": [
                                {
                                    "id": "18",
                                    "first_name": "Ilyas",
                                    "country": "Canad",
                                    "score": "90"
                                },
                                {
                                    "id": "6",
                                    "first_name": "Alice",
                                    "country": "Canada",
                                    "score": "660"
                                },
                                {
                                    "id": "14",
                                    "first_name": "Salma",
                                    "country": "Canada",
                                    "score": "550"
                                },
                                {
                                    "id": "9",
                                    "first_name": "Nina",
                                    "country": "Germany",
                                    "score": "510"
                                },
                                {
                                    "id": "4",
                                    "first_name": "Martin",
                                    "country": "Germany",
                                    "score": "500"
                                },
                                {
                                    "id": "1",
                                    "first_name": "Maria",
                                    "country": "Germany",
                                    "score": "350"
                                },
                                {
                                    "id": "20",
                                    "first_name": "Tariq",
                                    "country": "Germany",
                                    "score": "110"
                                },
                                {
                                    "id": "7",
                                    "first_name": "Zara",
                                    "country": "India",
                                    "score": "480"
                                },
                                {
                                    "id": "12",
                                    "first_name": "Lina",
                                    "country": "India",
                                    "score": "430"
                                },
                                {
                                    "id": "16",
                                    "first_name": "Samd",
                                    "country": "India",
                                    "score": "110"
                                },
                                {
                                    "id": "17",
                                    "first_name": "Rauf",
                                    "country": "Iran",
                                    "score": "107"
                                },
                                {
                                    "id": "19",
                                    "first_name": "Tariq",
                                    "country": "UAE",
                                    "score": "999"
                                },
                                {
                                    "id": "8",
                                    "first_name": "Ali",
                                    "country": "UAE",
                                    "score": "720"
                                },
                                {
                                    "id": "13",
                                    "first_name": "Omar",
                                    "country": "UAE",
                                    "score": "600"
                                },
                                {
                                    "id": "11",
                                    "first_name": "Sameer",
                                    "country": "UK",
                                    "score": "820"
                                },
                                {
                                    "id": "3",
                                    "first_name": "Georg",
                                    "country": "UK",
                                    "score": "750"
                                },
                                {
                                    "id": "2",
                                    "first_name": "John",
                                    "country": "USA",
                                    "score": "900"
                                },
                                {
                                    "id": "10",
                                    "first_name": "Ahmed",
                                    "country": "USA",
                                    "score": "300"
                                },
                                {
                                    "id": "15",
                                    "first_name": "Tom",
                                    "country": "USA",
                                    "score": "100"
                                },
                                {
                                    "id": "5",
                                    "first_name": "Peter",
                                    "country": "USA",
                                    "score": "0"
                                }
                            ]
                        },
                        "text/html": [
                            "<table>",
                            "<tr><th>id</th><th>first_name</th><th>country</th><th>score</th></tr>",
                            "<tr><td>18</td><td>Ilyas</td><td>Canad</td><td>90</td></tr>",
                            "<tr><td>6</td><td>Alice</td><td>Canada</td><td>660</td></tr>",
                            "<tr><td>14</td><td>Salma</td><td>Canada</td><td>550</td></tr>",
                            "<tr><td>9</td><td>Nina</td><td>Germany</td><td>510</td></tr>",
                            "<tr><td>4</td><td>Martin</td><td>Germany</td><td>500</td></tr>",
                            "<tr><td>1</td><td>Maria</td><td>Germany</td><td>350</td></tr>",
                            "<tr><td>20</td><td>Tariq</td><td>Germany</td><td>110</td></tr>",
                            "<tr><td>7</td><td>Zara</td><td>India</td><td>480</td></tr>",
                            "<tr><td>12</td><td>Lina</td><td>India</td><td>430</td></tr>",
                            "<tr><td>16</td><td>Samd</td><td>India</td><td>110</td></tr>",
                            "<tr><td>17</td><td>Rauf</td><td>Iran</td><td>107</td></tr>",
                            "<tr><td>19</td><td>Tariq</td><td>UAE</td><td>999</td></tr>",
                            "<tr><td>8</td><td>Ali</td><td>UAE</td><td>720</td></tr>",
                            "<tr><td>13</td><td>Omar</td><td>UAE</td><td>600</td></tr>",
                            "<tr><td>11</td><td>Sameer</td><td>UK</td><td>820</td></tr>",
                            "<tr><td>3</td><td>Georg</td><td>UK</td><td>750</td></tr>",
                            "<tr><td>2</td><td>John</td><td>USA</td><td>900</td></tr>",
                            "<tr><td>10</td><td>Ahmed</td><td>USA</td><td>300</td></tr>",
                            "<tr><td>15</td><td>Tom</td><td>USA</td><td>100</td></tr>",
                            "<tr><td>5</td><td>Peter</td><td>USA</td><td>0</td></tr>",
                            "</table>"
                        ]
                    }
                }
            ],
            "execution_count": 10
        },
        {
            "cell_type": "code",
            "source": [
                "\n",
                "\n",
                ""
            ],
            "metadata": {
                "language": "sql",
                "azdata_cell_guid": "3596f42d-fccc-4d1b-b2be-38ca640fb475"
            },
            "outputs": [],
            "execution_count": null
        },
        {
            "cell_type": "markdown",
            "source": [
                "-- 09. Sort customers by length of first name"
            ],
            "metadata": {
                "language": "",
                "azdata_cell_guid": "2d46a93b-a392-4673-a074-885293df6b0f"
            },
            "attachments": {}
        },
        {
            "cell_type": "code",
            "source": [
                "SELECT * FROM customers\n",
                "ORDER BY LEN(first_name);\n",
                ""
            ],
            "metadata": {
                "language": "sql",
                "azdata_cell_guid": "b5991aa7-4415-4440-a8a7-a9dd63e652a5"
            },
            "outputs": [
                {
                    "output_type": "display_data",
                    "data": {
                        "text/html": "(20 rows affected)"
                    },
                    "metadata": {}
                },
                {
                    "output_type": "display_data",
                    "data": {
                        "text/html": "Total execution time: 00:00:00.005"
                    },
                    "metadata": {}
                },
                {
                    "output_type": "execute_result",
                    "metadata": {},
                    "execution_count": 9,
                    "data": {
                        "application/vnd.dataresource+json": {
                            "schema": {
                                "fields": [
                                    {
                                        "name": "id"
                                    },
                                    {
                                        "name": "first_name"
                                    },
                                    {
                                        "name": "country"
                                    },
                                    {
                                        "name": "score"
                                    }
                                ]
                            },
                            "data": [
                                {
                                    "id": "8",
                                    "first_name": "Ali",
                                    "country": "UAE",
                                    "score": "720"
                                },
                                {
                                    "id": "15",
                                    "first_name": "Tom",
                                    "country": "USA",
                                    "score": "100"
                                },
                                {
                                    "id": "16",
                                    "first_name": "Samd",
                                    "country": "India",
                                    "score": "110"
                                },
                                {
                                    "id": "17",
                                    "first_name": "Rauf",
                                    "country": "Iran",
                                    "score": "107"
                                },
                                {
                                    "id": "7",
                                    "first_name": "Zara",
                                    "country": "India",
                                    "score": "480"
                                },
                                {
                                    "id": "12",
                                    "first_name": "Lina",
                                    "country": "India",
                                    "score": "430"
                                },
                                {
                                    "id": "13",
                                    "first_name": "Omar",
                                    "country": "UAE",
                                    "score": "600"
                                },
                                {
                                    "id": "9",
                                    "first_name": "Nina",
                                    "country": "Germany",
                                    "score": "510"
                                },
                                {
                                    "id": "2",
                                    "first_name": "John",
                                    "country": "USA",
                                    "score": "900"
                                },
                                {
                                    "id": "3",
                                    "first_name": "Georg",
                                    "country": "UK",
                                    "score": "750"
                                },
                                {
                                    "id": "5",
                                    "first_name": "Peter",
                                    "country": "USA",
                                    "score": "0"
                                },
                                {
                                    "id": "6",
                                    "first_name": "Alice",
                                    "country": "Canada",
                                    "score": "660"
                                },
                                {
                                    "id": "10",
                                    "first_name": "Ahmed",
                                    "country": "USA",
                                    "score": "300"
                                },
                                {
                                    "id": "14",
                                    "first_name": "Salma",
                                    "country": "Canada",
                                    "score": "550"
                                },
                                {
                                    "id": "1",
                                    "first_name": "Maria",
                                    "country": "Germany",
                                    "score": "350"
                                },
                                {
                                    "id": "18",
                                    "first_name": "Ilyas",
                                    "country": "Canad",
                                    "score": "90"
                                },
                                {
                                    "id": "19",
                                    "first_name": "Tariq",
                                    "country": "UAE",
                                    "score": "999"
                                },
                                {
                                    "id": "20",
                                    "first_name": "Tariq",
                                    "country": "Germany",
                                    "score": "110"
                                },
                                {
                                    "id": "11",
                                    "first_name": "Sameer",
                                    "country": "UK",
                                    "score": "820"
                                },
                                {
                                    "id": "4",
                                    "first_name": "Martin",
                                    "country": "Germany",
                                    "score": "500"
                                }
                            ]
                        },
                        "text/html": [
                            "<table>",
                            "<tr><th>id</th><th>first_name</th><th>country</th><th>score</th></tr>",
                            "<tr><td>8</td><td>Ali</td><td>UAE</td><td>720</td></tr>",
                            "<tr><td>15</td><td>Tom</td><td>USA</td><td>100</td></tr>",
                            "<tr><td>16</td><td>Samd</td><td>India</td><td>110</td></tr>",
                            "<tr><td>17</td><td>Rauf</td><td>Iran</td><td>107</td></tr>",
                            "<tr><td>7</td><td>Zara</td><td>India</td><td>480</td></tr>",
                            "<tr><td>12</td><td>Lina</td><td>India</td><td>430</td></tr>",
                            "<tr><td>13</td><td>Omar</td><td>UAE</td><td>600</td></tr>",
                            "<tr><td>9</td><td>Nina</td><td>Germany</td><td>510</td></tr>",
                            "<tr><td>2</td><td>John</td><td>USA</td><td>900</td></tr>",
                            "<tr><td>3</td><td>Georg</td><td>UK</td><td>750</td></tr>",
                            "<tr><td>5</td><td>Peter</td><td>USA</td><td>0</td></tr>",
                            "<tr><td>6</td><td>Alice</td><td>Canada</td><td>660</td></tr>",
                            "<tr><td>10</td><td>Ahmed</td><td>USA</td><td>300</td></tr>",
                            "<tr><td>14</td><td>Salma</td><td>Canada</td><td>550</td></tr>",
                            "<tr><td>1</td><td>Maria</td><td>Germany</td><td>350</td></tr>",
                            "<tr><td>18</td><td>Ilyas</td><td>Canad</td><td>90</td></tr>",
                            "<tr><td>19</td><td>Tariq</td><td>UAE</td><td>999</td></tr>",
                            "<tr><td>20</td><td>Tariq</td><td>Germany</td><td>110</td></tr>",
                            "<tr><td>11</td><td>Sameer</td><td>UK</td><td>820</td></tr>",
                            "<tr><td>4</td><td>Martin</td><td>Germany</td><td>500</td></tr>",
                            "</table>"
                        ]
                    }
                }
            ],
            "execution_count": 9
        },
        {
            "cell_type": "markdown",
            "source": [
                "-- 10. Sort customers by country in reverse alphabetical order\n",
                "\n",
                ""
            ],
            "metadata": {
                "language": "",
                "azdata_cell_guid": "6eba286d-2976-4e2d-83ab-6e8a8a73e541"
            },
            "attachments": {}
        },
        {
            "cell_type": "code",
            "source": [
                "SELECT * FROM customers\n",
                "ORDER BY country DESC;\n",
                ""
            ],
            "metadata": {
                "language": "sql",
                "azdata_cell_guid": "6f73aa7a-fe97-4c79-8b5c-78a5d00b8d26"
            },
            "outputs": [
                {
                    "output_type": "display_data",
                    "data": {
                        "text/html": "(20 rows affected)"
                    },
                    "metadata": {}
                },
                {
                    "output_type": "display_data",
                    "data": {
                        "text/html": "Total execution time: 00:00:00.004"
                    },
                    "metadata": {}
                },
                {
                    "output_type": "execute_result",
                    "metadata": {},
                    "execution_count": 8,
                    "data": {
                        "application/vnd.dataresource+json": {
                            "schema": {
                                "fields": [
                                    {
                                        "name": "id"
                                    },
                                    {
                                        "name": "first_name"
                                    },
                                    {
                                        "name": "country"
                                    },
                                    {
                                        "name": "score"
                                    }
                                ]
                            },
                            "data": [
                                {
                                    "id": "2",
                                    "first_name": "John",
                                    "country": "USA",
                                    "score": "900"
                                },
                                {
                                    "id": "5",
                                    "first_name": "Peter",
                                    "country": "USA",
                                    "score": "0"
                                },
                                {
                                    "id": "10",
                                    "first_name": "Ahmed",
                                    "country": "USA",
                                    "score": "300"
                                },
                                {
                                    "id": "15",
                                    "first_name": "Tom",
                                    "country": "USA",
                                    "score": "100"
                                },
                                {
                                    "id": "11",
                                    "first_name": "Sameer",
                                    "country": "UK",
                                    "score": "820"
                                },
                                {
                                    "id": "3",
                                    "first_name": "Georg",
                                    "country": "UK",
                                    "score": "750"
                                },
                                {
                                    "id": "8",
                                    "first_name": "Ali",
                                    "country": "UAE",
                                    "score": "720"
                                },
                                {
                                    "id": "13",
                                    "first_name": "Omar",
                                    "country": "UAE",
                                    "score": "600"
                                },
                                {
                                    "id": "19",
                                    "first_name": "Tariq",
                                    "country": "UAE",
                                    "score": "999"
                                },
                                {
                                    "id": "17",
                                    "first_name": "Rauf",
                                    "country": "Iran",
                                    "score": "107"
                                },
                                {
                                    "id": "16",
                                    "first_name": "Samd",
                                    "country": "India",
                                    "score": "110"
                                },
                                {
                                    "id": "12",
                                    "first_name": "Lina",
                                    "country": "India",
                                    "score": "430"
                                },
                                {
                                    "id": "7",
                                    "first_name": "Zara",
                                    "country": "India",
                                    "score": "480"
                                },
                                {
                                    "id": "1",
                                    "first_name": "Maria",
                                    "country": "Germany",
                                    "score": "350"
                                },
                                {
                                    "id": "9",
                                    "first_name": "Nina",
                                    "country": "Germany",
                                    "score": "510"
                                },
                                {
                                    "id": "4",
                                    "first_name": "Martin",
                                    "country": "Germany",
                                    "score": "500"
                                },
                                {
                                    "id": "20",
                                    "first_name": "Tariq",
                                    "country": "Germany",
                                    "score": "110"
                                },
                                {
                                    "id": "6",
                                    "first_name": "Alice",
                                    "country": "Canada",
                                    "score": "660"
                                },
                                {
                                    "id": "14",
                                    "first_name": "Salma",
                                    "country": "Canada",
                                    "score": "550"
                                },
                                {
                                    "id": "18",
                                    "first_name": "Ilyas",
                                    "country": "Canad",
                                    "score": "90"
                                }
                            ]
                        },
                        "text/html": [
                            "<table>",
                            "<tr><th>id</th><th>first_name</th><th>country</th><th>score</th></tr>",
                            "<tr><td>2</td><td>John</td><td>USA</td><td>900</td></tr>",
                            "<tr><td>5</td><td>Peter</td><td>USA</td><td>0</td></tr>",
                            "<tr><td>10</td><td>Ahmed</td><td>USA</td><td>300</td></tr>",
                            "<tr><td>15</td><td>Tom</td><td>USA</td><td>100</td></tr>",
                            "<tr><td>11</td><td>Sameer</td><td>UK</td><td>820</td></tr>",
                            "<tr><td>3</td><td>Georg</td><td>UK</td><td>750</td></tr>",
                            "<tr><td>8</td><td>Ali</td><td>UAE</td><td>720</td></tr>",
                            "<tr><td>13</td><td>Omar</td><td>UAE</td><td>600</td></tr>",
                            "<tr><td>19</td><td>Tariq</td><td>UAE</td><td>999</td></tr>",
                            "<tr><td>17</td><td>Rauf</td><td>Iran</td><td>107</td></tr>",
                            "<tr><td>16</td><td>Samd</td><td>India</td><td>110</td></tr>",
                            "<tr><td>12</td><td>Lina</td><td>India</td><td>430</td></tr>",
                            "<tr><td>7</td><td>Zara</td><td>India</td><td>480</td></tr>",
                            "<tr><td>1</td><td>Maria</td><td>Germany</td><td>350</td></tr>",
                            "<tr><td>9</td><td>Nina</td><td>Germany</td><td>510</td></tr>",
                            "<tr><td>4</td><td>Martin</td><td>Germany</td><td>500</td></tr>",
                            "<tr><td>20</td><td>Tariq</td><td>Germany</td><td>110</td></tr>",
                            "<tr><td>6</td><td>Alice</td><td>Canada</td><td>660</td></tr>",
                            "<tr><td>14</td><td>Salma</td><td>Canada</td><td>550</td></tr>",
                            "<tr><td>18</td><td>Ilyas</td><td>Canad</td><td>90</td></tr>",
                            "</table>"
                        ]
                    }
                }
            ],
            "execution_count": 8
        },
        {
            "cell_type": "markdown",
            "source": [
                "-- 11. Sort orders by sales amount (ascending)\n",
                "\n",
                ""
            ],
            "metadata": {
                "language": "",
                "azdata_cell_guid": "e807e249-5fc2-4d14-9848-c9175a3debc9"
            },
            "attachments": {}
        },
        {
            "cell_type": "code",
            "source": [
                "SELECT * FROM orders\n",
                "ORDER BY sales ASC;\n",
                ""
            ],
            "metadata": {
                "language": "sql",
                "azdata_cell_guid": "3c6ea9ea-2ea3-4f7f-97a1-afedbe2b815c"
            },
            "outputs": [
                {
                    "output_type": "display_data",
                    "data": {
                        "text/html": "(20 rows affected)"
                    },
                    "metadata": {}
                },
                {
                    "output_type": "display_data",
                    "data": {
                        "text/html": "Total execution time: 00:00:00.004"
                    },
                    "metadata": {}
                },
                {
                    "output_type": "execute_result",
                    "metadata": {},
                    "execution_count": 7,
                    "data": {
                        "application/vnd.dataresource+json": {
                            "schema": {
                                "fields": [
                                    {
                                        "name": "order_id"
                                    },
                                    {
                                        "name": "customer_id"
                                    },
                                    {
                                        "name": "order_date"
                                    },
                                    {
                                        "name": "sales"
                                    }
                                ]
                            },
                            "data": [
                                {
                                    "order_id": "1008",
                                    "customer_id": "3",
                                    "order_date": "2021-06-18",
                                    "sales": "115"
                                },
                                {
                                    "order_id": "1001",
                                    "customer_id": "1",
                                    "order_date": "2021-01-11",
                                    "sales": "135"
                                },
                                {
                                    "order_id": "1007",
                                    "customer_id": "2",
                                    "order_date": "2021-04-05",
                                    "sales": "135"
                                },
                                {
                                    "order_id": "1004",
                                    "customer_id": "6",
                                    "order_date": "2021-08-31",
                                    "sales": "140"
                                },
                                {
                                    "order_id": "1014",
                                    "customer_id": "4",
                                    "order_date": "2022-07-09",
                                    "sales": "140"
                                },
                                {
                                    "order_id": "1015",
                                    "customer_id": "3",
                                    "order_date": "2022-08-17",
                                    "sales": "160"
                                },
                                {
                                    "order_id": "1009",
                                    "customer_id": "6",
                                    "order_date": "2021-08-31",
                                    "sales": "170"
                                },
                                {
                                    "order_id": "1003",
                                    "customer_id": "3",
                                    "order_date": "2021-06-18",
                                    "sales": "175"
                                },
                                {
                                    "order_id": "1016",
                                    "customer_id": "1",
                                    "order_date": "2021-10-03",
                                    "sales": "180"
                                },
                                {
                                    "order_id": "1006",
                                    "customer_id": "1",
                                    "order_date": "2021-01-11",
                                    "sales": "199"
                                },
                                {
                                    "order_id": "1017",
                                    "customer_id": "5",
                                    "order_date": "2021-11-21",
                                    "sales": "200"
                                },
                                {
                                    "order_id": "1010",
                                    "customer_id": "2",
                                    "order_date": "2021-09-15",
                                    "sales": "210"
                                },
                                {
                                    "order_id": "1018",
                                    "customer_id": "4",
                                    "order_date": "2021-12-05",
                                    "sales": "220"
                                },
                                {
                                    "order_id": "1011",
                                    "customer_id": "1",
                                    "order_date": "2022-03-20",
                                    "sales": "225"
                                },
                                {
                                    "order_id": "1019",
                                    "customer_id": "3",
                                    "order_date": "2022-01-10",
                                    "sales": "240"
                                },
                                {
                                    "order_id": "1020",
                                    "customer_id": "6",
                                    "order_date": "2022-02-14",
                                    "sales": "260"
                                },
                                {
                                    "order_id": "1021",
                                    "customer_id": "2",
                                    "order_date": "2022-03-14",
                                    "sales": "280"
                                },
                                {
                                    "order_id": "1002",
                                    "customer_id": "2",
                                    "order_date": "2021-04-05",
                                    "sales": "305"
                                },
                                {
                                    "order_id": "1013",
                                    "customer_id": "5",
                                    "order_date": "2022-06-01",
                                    "sales": "305"
                                },
                                {
                                    "order_id": "1012",
                                    "customer_id": "2",
                                    "order_date": "2022-04-25",
                                    "sales": "350"
                                }
                            ]
                        },
                        "text/html": [
                            "<table>",
                            "<tr><th>order_id</th><th>customer_id</th><th>order_date</th><th>sales</th></tr>",
                            "<tr><td>1008</td><td>3</td><td>2021-06-18</td><td>115</td></tr>",
                            "<tr><td>1001</td><td>1</td><td>2021-01-11</td><td>135</td></tr>",
                            "<tr><td>1007</td><td>2</td><td>2021-04-05</td><td>135</td></tr>",
                            "<tr><td>1004</td><td>6</td><td>2021-08-31</td><td>140</td></tr>",
                            "<tr><td>1014</td><td>4</td><td>2022-07-09</td><td>140</td></tr>",
                            "<tr><td>1015</td><td>3</td><td>2022-08-17</td><td>160</td></tr>",
                            "<tr><td>1009</td><td>6</td><td>2021-08-31</td><td>170</td></tr>",
                            "<tr><td>1003</td><td>3</td><td>2021-06-18</td><td>175</td></tr>",
                            "<tr><td>1016</td><td>1</td><td>2021-10-03</td><td>180</td></tr>",
                            "<tr><td>1006</td><td>1</td><td>2021-01-11</td><td>199</td></tr>",
                            "<tr><td>1017</td><td>5</td><td>2021-11-21</td><td>200</td></tr>",
                            "<tr><td>1010</td><td>2</td><td>2021-09-15</td><td>210</td></tr>",
                            "<tr><td>1018</td><td>4</td><td>2021-12-05</td><td>220</td></tr>",
                            "<tr><td>1011</td><td>1</td><td>2022-03-20</td><td>225</td></tr>",
                            "<tr><td>1019</td><td>3</td><td>2022-01-10</td><td>240</td></tr>",
                            "<tr><td>1020</td><td>6</td><td>2022-02-14</td><td>260</td></tr>",
                            "<tr><td>1021</td><td>2</td><td>2022-03-14</td><td>280</td></tr>",
                            "<tr><td>1002</td><td>2</td><td>2021-04-05</td><td>305</td></tr>",
                            "<tr><td>1013</td><td>5</td><td>2022-06-01</td><td>305</td></tr>",
                            "<tr><td>1012</td><td>2</td><td>2022-04-25</td><td>350</td></tr>",
                            "</table>"
                        ]
                    }
                }
            ],
            "execution_count": 7
        },
        {
            "cell_type": "markdown",
            "source": [
                "-- 12. Sort orders by sales amount (descending)\n",
                "\n",
                ""
            ],
            "metadata": {
                "language": "",
                "azdata_cell_guid": "18d079d8-3900-4f60-a977-a2d2e59409df"
            },
            "attachments": {}
        },
        {
            "cell_type": "code",
            "source": [
                "SELECT * FROM orders\n",
                "ORDER BY sales DESC;\n",
                ""
            ],
            "metadata": {
                "language": "sql",
                "azdata_cell_guid": "8e7c7e17-f84c-40f8-8421-3358cef3922b"
            },
            "outputs": [
                {
                    "output_type": "display_data",
                    "data": {
                        "text/html": "(20 rows affected)"
                    },
                    "metadata": {}
                },
                {
                    "output_type": "display_data",
                    "data": {
                        "text/html": "Total execution time: 00:00:00.005"
                    },
                    "metadata": {}
                },
                {
                    "output_type": "execute_result",
                    "metadata": {},
                    "execution_count": 2,
                    "data": {
                        "application/vnd.dataresource+json": {
                            "schema": {
                                "fields": [
                                    {
                                        "name": "order_id"
                                    },
                                    {
                                        "name": "customer_id"
                                    },
                                    {
                                        "name": "order_date"
                                    },
                                    {
                                        "name": "sales"
                                    }
                                ]
                            },
                            "data": [
                                {
                                    "order_id": "1012",
                                    "customer_id": "2",
                                    "order_date": "2022-04-25",
                                    "sales": "350"
                                },
                                {
                                    "order_id": "1013",
                                    "customer_id": "5",
                                    "order_date": "2022-06-01",
                                    "sales": "305"
                                },
                                {
                                    "order_id": "1002",
                                    "customer_id": "2",
                                    "order_date": "2021-04-05",
                                    "sales": "305"
                                },
                                {
                                    "order_id": "1021",
                                    "customer_id": "2",
                                    "order_date": "2022-03-14",
                                    "sales": "280"
                                },
                                {
                                    "order_id": "1020",
                                    "customer_id": "6",
                                    "order_date": "2022-02-14",
                                    "sales": "260"
                                },
                                {
                                    "order_id": "1019",
                                    "customer_id": "3",
                                    "order_date": "2022-01-10",
                                    "sales": "240"
                                },
                                {
                                    "order_id": "1011",
                                    "customer_id": "1",
                                    "order_date": "2022-03-20",
                                    "sales": "225"
                                },
                                {
                                    "order_id": "1018",
                                    "customer_id": "4",
                                    "order_date": "2021-12-05",
                                    "sales": "220"
                                },
                                {
                                    "order_id": "1010",
                                    "customer_id": "2",
                                    "order_date": "2021-09-15",
                                    "sales": "210"
                                },
                                {
                                    "order_id": "1017",
                                    "customer_id": "5",
                                    "order_date": "2021-11-21",
                                    "sales": "200"
                                },
                                {
                                    "order_id": "1006",
                                    "customer_id": "1",
                                    "order_date": "2021-01-11",
                                    "sales": "199"
                                },
                                {
                                    "order_id": "1016",
                                    "customer_id": "1",
                                    "order_date": "2021-10-03",
                                    "sales": "180"
                                },
                                {
                                    "order_id": "1003",
                                    "customer_id": "3",
                                    "order_date": "2021-06-18",
                                    "sales": "175"
                                },
                                {
                                    "order_id": "1009",
                                    "customer_id": "6",
                                    "order_date": "2021-08-31",
                                    "sales": "170"
                                },
                                {
                                    "order_id": "1015",
                                    "customer_id": "3",
                                    "order_date": "2022-08-17",
                                    "sales": "160"
                                },
                                {
                                    "order_id": "1014",
                                    "customer_id": "4",
                                    "order_date": "2022-07-09",
                                    "sales": "140"
                                },
                                {
                                    "order_id": "1004",
                                    "customer_id": "6",
                                    "order_date": "2021-08-31",
                                    "sales": "140"
                                },
                                {
                                    "order_id": "1007",
                                    "customer_id": "2",
                                    "order_date": "2021-04-05",
                                    "sales": "135"
                                },
                                {
                                    "order_id": "1001",
                                    "customer_id": "1",
                                    "order_date": "2021-01-11",
                                    "sales": "135"
                                },
                                {
                                    "order_id": "1008",
                                    "customer_id": "3",
                                    "order_date": "2021-06-18",
                                    "sales": "115"
                                }
                            ]
                        },
                        "text/html": [
                            "<table>",
                            "<tr><th>order_id</th><th>customer_id</th><th>order_date</th><th>sales</th></tr>",
                            "<tr><td>1012</td><td>2</td><td>2022-04-25</td><td>350</td></tr>",
                            "<tr><td>1013</td><td>5</td><td>2022-06-01</td><td>305</td></tr>",
                            "<tr><td>1002</td><td>2</td><td>2021-04-05</td><td>305</td></tr>",
                            "<tr><td>1021</td><td>2</td><td>2022-03-14</td><td>280</td></tr>",
                            "<tr><td>1020</td><td>6</td><td>2022-02-14</td><td>260</td></tr>",
                            "<tr><td>1019</td><td>3</td><td>2022-01-10</td><td>240</td></tr>",
                            "<tr><td>1011</td><td>1</td><td>2022-03-20</td><td>225</td></tr>",
                            "<tr><td>1018</td><td>4</td><td>2021-12-05</td><td>220</td></tr>",
                            "<tr><td>1010</td><td>2</td><td>2021-09-15</td><td>210</td></tr>",
                            "<tr><td>1017</td><td>5</td><td>2021-11-21</td><td>200</td></tr>",
                            "<tr><td>1006</td><td>1</td><td>2021-01-11</td><td>199</td></tr>",
                            "<tr><td>1016</td><td>1</td><td>2021-10-03</td><td>180</td></tr>",
                            "<tr><td>1003</td><td>3</td><td>2021-06-18</td><td>175</td></tr>",
                            "<tr><td>1009</td><td>6</td><td>2021-08-31</td><td>170</td></tr>",
                            "<tr><td>1015</td><td>3</td><td>2022-08-17</td><td>160</td></tr>",
                            "<tr><td>1014</td><td>4</td><td>2022-07-09</td><td>140</td></tr>",
                            "<tr><td>1004</td><td>6</td><td>2021-08-31</td><td>140</td></tr>",
                            "<tr><td>1007</td><td>2</td><td>2021-04-05</td><td>135</td></tr>",
                            "<tr><td>1001</td><td>1</td><td>2021-01-11</td><td>135</td></tr>",
                            "<tr><td>1008</td><td>3</td><td>2021-06-18</td><td>115</td></tr>",
                            "</table>"
                        ]
                    }
                }
            ],
            "execution_count": 2
        },
        {
            "cell_type": "markdown",
            "source": [
                "-- 13. Sort orders by order_date (oldest to newest)\n",
                "\n",
                ""
            ],
            "metadata": {
                "language": "",
                "azdata_cell_guid": "4e51442d-4591-4925-aeb3-b34050e3cbaf"
            },
            "attachments": {}
        },
        {
            "cell_type": "code",
            "source": [
                "SELECT * FROM orders\n",
                "ORDER BY order_date ASC;\n",
                ""
            ],
            "metadata": {
                "language": "sql",
                "azdata_cell_guid": "49d8109e-d49b-47c3-86d1-b49aadab0dd9"
            },
            "outputs": [
                {
                    "output_type": "display_data",
                    "data": {
                        "text/html": "(20 rows affected)"
                    },
                    "metadata": {}
                },
                {
                    "output_type": "display_data",
                    "data": {
                        "text/html": "Total execution time: 00:00:00.004"
                    },
                    "metadata": {}
                },
                {
                    "output_type": "execute_result",
                    "metadata": {},
                    "execution_count": 3,
                    "data": {
                        "application/vnd.dataresource+json": {
                            "schema": {
                                "fields": [
                                    {
                                        "name": "order_id"
                                    },
                                    {
                                        "name": "customer_id"
                                    },
                                    {
                                        "name": "order_date"
                                    },
                                    {
                                        "name": "sales"
                                    }
                                ]
                            },
                            "data": [
                                {
                                    "order_id": "1006",
                                    "customer_id": "1",
                                    "order_date": "2021-01-11",
                                    "sales": "199"
                                },
                                {
                                    "order_id": "1001",
                                    "customer_id": "1",
                                    "order_date": "2021-01-11",
                                    "sales": "135"
                                },
                                {
                                    "order_id": "1002",
                                    "customer_id": "2",
                                    "order_date": "2021-04-05",
                                    "sales": "305"
                                },
                                {
                                    "order_id": "1007",
                                    "customer_id": "2",
                                    "order_date": "2021-04-05",
                                    "sales": "135"
                                },
                                {
                                    "order_id": "1008",
                                    "customer_id": "3",
                                    "order_date": "2021-06-18",
                                    "sales": "115"
                                },
                                {
                                    "order_id": "1003",
                                    "customer_id": "3",
                                    "order_date": "2021-06-18",
                                    "sales": "175"
                                },
                                {
                                    "order_id": "1004",
                                    "customer_id": "6",
                                    "order_date": "2021-08-31",
                                    "sales": "140"
                                },
                                {
                                    "order_id": "1009",
                                    "customer_id": "6",
                                    "order_date": "2021-08-31",
                                    "sales": "170"
                                },
                                {
                                    "order_id": "1010",
                                    "customer_id": "2",
                                    "order_date": "2021-09-15",
                                    "sales": "210"
                                },
                                {
                                    "order_id": "1016",
                                    "customer_id": "1",
                                    "order_date": "2021-10-03",
                                    "sales": "180"
                                },
                                {
                                    "order_id": "1017",
                                    "customer_id": "5",
                                    "order_date": "2021-11-21",
                                    "sales": "200"
                                },
                                {
                                    "order_id": "1018",
                                    "customer_id": "4",
                                    "order_date": "2021-12-05",
                                    "sales": "220"
                                },
                                {
                                    "order_id": "1019",
                                    "customer_id": "3",
                                    "order_date": "2022-01-10",
                                    "sales": "240"
                                },
                                {
                                    "order_id": "1020",
                                    "customer_id": "6",
                                    "order_date": "2022-02-14",
                                    "sales": "260"
                                },
                                {
                                    "order_id": "1021",
                                    "customer_id": "2",
                                    "order_date": "2022-03-14",
                                    "sales": "280"
                                },
                                {
                                    "order_id": "1011",
                                    "customer_id": "1",
                                    "order_date": "2022-03-20",
                                    "sales": "225"
                                },
                                {
                                    "order_id": "1012",
                                    "customer_id": "2",
                                    "order_date": "2022-04-25",
                                    "sales": "350"
                                },
                                {
                                    "order_id": "1013",
                                    "customer_id": "5",
                                    "order_date": "2022-06-01",
                                    "sales": "305"
                                },
                                {
                                    "order_id": "1014",
                                    "customer_id": "4",
                                    "order_date": "2022-07-09",
                                    "sales": "140"
                                },
                                {
                                    "order_id": "1015",
                                    "customer_id": "3",
                                    "order_date": "2022-08-17",
                                    "sales": "160"
                                }
                            ]
                        },
                        "text/html": [
                            "<table>",
                            "<tr><th>order_id</th><th>customer_id</th><th>order_date</th><th>sales</th></tr>",
                            "<tr><td>1006</td><td>1</td><td>2021-01-11</td><td>199</td></tr>",
                            "<tr><td>1001</td><td>1</td><td>2021-01-11</td><td>135</td></tr>",
                            "<tr><td>1002</td><td>2</td><td>2021-04-05</td><td>305</td></tr>",
                            "<tr><td>1007</td><td>2</td><td>2021-04-05</td><td>135</td></tr>",
                            "<tr><td>1008</td><td>3</td><td>2021-06-18</td><td>115</td></tr>",
                            "<tr><td>1003</td><td>3</td><td>2021-06-18</td><td>175</td></tr>",
                            "<tr><td>1004</td><td>6</td><td>2021-08-31</td><td>140</td></tr>",
                            "<tr><td>1009</td><td>6</td><td>2021-08-31</td><td>170</td></tr>",
                            "<tr><td>1010</td><td>2</td><td>2021-09-15</td><td>210</td></tr>",
                            "<tr><td>1016</td><td>1</td><td>2021-10-03</td><td>180</td></tr>",
                            "<tr><td>1017</td><td>5</td><td>2021-11-21</td><td>200</td></tr>",
                            "<tr><td>1018</td><td>4</td><td>2021-12-05</td><td>220</td></tr>",
                            "<tr><td>1019</td><td>3</td><td>2022-01-10</td><td>240</td></tr>",
                            "<tr><td>1020</td><td>6</td><td>2022-02-14</td><td>260</td></tr>",
                            "<tr><td>1021</td><td>2</td><td>2022-03-14</td><td>280</td></tr>",
                            "<tr><td>1011</td><td>1</td><td>2022-03-20</td><td>225</td></tr>",
                            "<tr><td>1012</td><td>2</td><td>2022-04-25</td><td>350</td></tr>",
                            "<tr><td>1013</td><td>5</td><td>2022-06-01</td><td>305</td></tr>",
                            "<tr><td>1014</td><td>4</td><td>2022-07-09</td><td>140</td></tr>",
                            "<tr><td>1015</td><td>3</td><td>2022-08-17</td><td>160</td></tr>",
                            "</table>"
                        ]
                    }
                }
            ],
            "execution_count": 3
        },
        {
            "cell_type": "markdown",
            "source": [
                "-- 14. Sort orders by order_date (newest to oldest)\n",
                ""
            ],
            "metadata": {
                "language": "",
                "azdata_cell_guid": "bf08aa8f-31dd-47d7-b530-92f65206b64b"
            },
            "attachments": {}
        },
        {
            "cell_type": "code",
            "source": [
                "SELECT * FROM orders\n",
                "ORDER BY order_date DESC;\n",
                "\n",
                ""
            ],
            "metadata": {
                "language": "sql",
                "azdata_cell_guid": "67f408bc-7f81-43af-bb2b-60a2b4f162f2"
            },
            "outputs": [
                {
                    "output_type": "display_data",
                    "data": {
                        "text/html": "(20 rows affected)"
                    },
                    "metadata": {}
                },
                {
                    "output_type": "display_data",
                    "data": {
                        "text/html": "Total execution time: 00:00:00.004"
                    },
                    "metadata": {}
                },
                {
                    "output_type": "execute_result",
                    "metadata": {},
                    "execution_count": 4,
                    "data": {
                        "application/vnd.dataresource+json": {
                            "schema": {
                                "fields": [
                                    {
                                        "name": "order_id"
                                    },
                                    {
                                        "name": "customer_id"
                                    },
                                    {
                                        "name": "order_date"
                                    },
                                    {
                                        "name": "sales"
                                    }
                                ]
                            },
                            "data": [
                                {
                                    "order_id": "1015",
                                    "customer_id": "3",
                                    "order_date": "2022-08-17",
                                    "sales": "160"
                                },
                                {
                                    "order_id": "1014",
                                    "customer_id": "4",
                                    "order_date": "2022-07-09",
                                    "sales": "140"
                                },
                                {
                                    "order_id": "1013",
                                    "customer_id": "5",
                                    "order_date": "2022-06-01",
                                    "sales": "305"
                                },
                                {
                                    "order_id": "1012",
                                    "customer_id": "2",
                                    "order_date": "2022-04-25",
                                    "sales": "350"
                                },
                                {
                                    "order_id": "1011",
                                    "customer_id": "1",
                                    "order_date": "2022-03-20",
                                    "sales": "225"
                                },
                                {
                                    "order_id": "1021",
                                    "customer_id": "2",
                                    "order_date": "2022-03-14",
                                    "sales": "280"
                                },
                                {
                                    "order_id": "1020",
                                    "customer_id": "6",
                                    "order_date": "2022-02-14",
                                    "sales": "260"
                                },
                                {
                                    "order_id": "1019",
                                    "customer_id": "3",
                                    "order_date": "2022-01-10",
                                    "sales": "240"
                                },
                                {
                                    "order_id": "1018",
                                    "customer_id": "4",
                                    "order_date": "2021-12-05",
                                    "sales": "220"
                                },
                                {
                                    "order_id": "1017",
                                    "customer_id": "5",
                                    "order_date": "2021-11-21",
                                    "sales": "200"
                                },
                                {
                                    "order_id": "1016",
                                    "customer_id": "1",
                                    "order_date": "2021-10-03",
                                    "sales": "180"
                                },
                                {
                                    "order_id": "1010",
                                    "customer_id": "2",
                                    "order_date": "2021-09-15",
                                    "sales": "210"
                                },
                                {
                                    "order_id": "1004",
                                    "customer_id": "6",
                                    "order_date": "2021-08-31",
                                    "sales": "140"
                                },
                                {
                                    "order_id": "1009",
                                    "customer_id": "6",
                                    "order_date": "2021-08-31",
                                    "sales": "170"
                                },
                                {
                                    "order_id": "1008",
                                    "customer_id": "3",
                                    "order_date": "2021-06-18",
                                    "sales": "115"
                                },
                                {
                                    "order_id": "1003",
                                    "customer_id": "3",
                                    "order_date": "2021-06-18",
                                    "sales": "175"
                                },
                                {
                                    "order_id": "1007",
                                    "customer_id": "2",
                                    "order_date": "2021-04-05",
                                    "sales": "135"
                                },
                                {
                                    "order_id": "1002",
                                    "customer_id": "2",
                                    "order_date": "2021-04-05",
                                    "sales": "305"
                                },
                                {
                                    "order_id": "1001",
                                    "customer_id": "1",
                                    "order_date": "2021-01-11",
                                    "sales": "135"
                                },
                                {
                                    "order_id": "1006",
                                    "customer_id": "1",
                                    "order_date": "2021-01-11",
                                    "sales": "199"
                                }
                            ]
                        },
                        "text/html": [
                            "<table>",
                            "<tr><th>order_id</th><th>customer_id</th><th>order_date</th><th>sales</th></tr>",
                            "<tr><td>1015</td><td>3</td><td>2022-08-17</td><td>160</td></tr>",
                            "<tr><td>1014</td><td>4</td><td>2022-07-09</td><td>140</td></tr>",
                            "<tr><td>1013</td><td>5</td><td>2022-06-01</td><td>305</td></tr>",
                            "<tr><td>1012</td><td>2</td><td>2022-04-25</td><td>350</td></tr>",
                            "<tr><td>1011</td><td>1</td><td>2022-03-20</td><td>225</td></tr>",
                            "<tr><td>1021</td><td>2</td><td>2022-03-14</td><td>280</td></tr>",
                            "<tr><td>1020</td><td>6</td><td>2022-02-14</td><td>260</td></tr>",
                            "<tr><td>1019</td><td>3</td><td>2022-01-10</td><td>240</td></tr>",
                            "<tr><td>1018</td><td>4</td><td>2021-12-05</td><td>220</td></tr>",
                            "<tr><td>1017</td><td>5</td><td>2021-11-21</td><td>200</td></tr>",
                            "<tr><td>1016</td><td>1</td><td>2021-10-03</td><td>180</td></tr>",
                            "<tr><td>1010</td><td>2</td><td>2021-09-15</td><td>210</td></tr>",
                            "<tr><td>1004</td><td>6</td><td>2021-08-31</td><td>140</td></tr>",
                            "<tr><td>1009</td><td>6</td><td>2021-08-31</td><td>170</td></tr>",
                            "<tr><td>1008</td><td>3</td><td>2021-06-18</td><td>115</td></tr>",
                            "<tr><td>1003</td><td>3</td><td>2021-06-18</td><td>175</td></tr>",
                            "<tr><td>1007</td><td>2</td><td>2021-04-05</td><td>135</td></tr>",
                            "<tr><td>1002</td><td>2</td><td>2021-04-05</td><td>305</td></tr>",
                            "<tr><td>1001</td><td>1</td><td>2021-01-11</td><td>135</td></tr>",
                            "<tr><td>1006</td><td>1</td><td>2021-01-11</td><td>199</td></tr>",
                            "</table>"
                        ]
                    }
                }
            ],
            "execution_count": 4
        },
        {
            "cell_type": "markdown",
            "source": [
                "-- 15. Sort orders by customer_id, then sales descending"
            ],
            "metadata": {
                "language": "",
                "azdata_cell_guid": "485ef7d9-0ac6-444f-909c-bd711009be7a"
            },
            "attachments": {}
        },
        {
            "cell_type": "code",
            "source": [
                "\n",
                "SELECT * FROM orders\n",
                "ORDER BY customer_id, sales DESC;\n",
                ""
            ],
            "metadata": {
                "language": "sql",
                "azdata_cell_guid": "960a5f6b-2c9c-4007-a048-60a636b899e2"
            },
            "outputs": [
                {
                    "output_type": "display_data",
                    "data": {
                        "text/html": "(20 rows affected)"
                    },
                    "metadata": {}
                },
                {
                    "output_type": "display_data",
                    "data": {
                        "text/html": "Total execution time: 00:00:00.004"
                    },
                    "metadata": {}
                },
                {
                    "output_type": "execute_result",
                    "metadata": {},
                    "execution_count": 1,
                    "data": {
                        "application/vnd.dataresource+json": {
                            "schema": {
                                "fields": [
                                    {
                                        "name": "order_id"
                                    },
                                    {
                                        "name": "customer_id"
                                    },
                                    {
                                        "name": "order_date"
                                    },
                                    {
                                        "name": "sales"
                                    }
                                ]
                            },
                            "data": [
                                {
                                    "order_id": "1011",
                                    "customer_id": "1",
                                    "order_date": "2022-03-20",
                                    "sales": "225"
                                },
                                {
                                    "order_id": "1006",
                                    "customer_id": "1",
                                    "order_date": "2021-01-11",
                                    "sales": "199"
                                },
                                {
                                    "order_id": "1016",
                                    "customer_id": "1",
                                    "order_date": "2021-10-03",
                                    "sales": "180"
                                },
                                {
                                    "order_id": "1001",
                                    "customer_id": "1",
                                    "order_date": "2021-01-11",
                                    "sales": "135"
                                },
                                {
                                    "order_id": "1012",
                                    "customer_id": "2",
                                    "order_date": "2022-04-25",
                                    "sales": "350"
                                },
                                {
                                    "order_id": "1002",
                                    "customer_id": "2",
                                    "order_date": "2021-04-05",
                                    "sales": "305"
                                },
                                {
                                    "order_id": "1021",
                                    "customer_id": "2",
                                    "order_date": "2022-03-14",
                                    "sales": "280"
                                },
                                {
                                    "order_id": "1010",
                                    "customer_id": "2",
                                    "order_date": "2021-09-15",
                                    "sales": "210"
                                },
                                {
                                    "order_id": "1007",
                                    "customer_id": "2",
                                    "order_date": "2021-04-05",
                                    "sales": "135"
                                },
                                {
                                    "order_id": "1019",
                                    "customer_id": "3",
                                    "order_date": "2022-01-10",
                                    "sales": "240"
                                },
                                {
                                    "order_id": "1003",
                                    "customer_id": "3",
                                    "order_date": "2021-06-18",
                                    "sales": "175"
                                },
                                {
                                    "order_id": "1015",
                                    "customer_id": "3",
                                    "order_date": "2022-08-17",
                                    "sales": "160"
                                },
                                {
                                    "order_id": "1008",
                                    "customer_id": "3",
                                    "order_date": "2021-06-18",
                                    "sales": "115"
                                },
                                {
                                    "order_id": "1018",
                                    "customer_id": "4",
                                    "order_date": "2021-12-05",
                                    "sales": "220"
                                },
                                {
                                    "order_id": "1014",
                                    "customer_id": "4",
                                    "order_date": "2022-07-09",
                                    "sales": "140"
                                },
                                {
                                    "order_id": "1013",
                                    "customer_id": "5",
                                    "order_date": "2022-06-01",
                                    "sales": "305"
                                },
                                {
                                    "order_id": "1017",
                                    "customer_id": "5",
                                    "order_date": "2021-11-21",
                                    "sales": "200"
                                },
                                {
                                    "order_id": "1020",
                                    "customer_id": "6",
                                    "order_date": "2022-02-14",
                                    "sales": "260"
                                },
                                {
                                    "order_id": "1009",
                                    "customer_id": "6",
                                    "order_date": "2021-08-31",
                                    "sales": "170"
                                },
                                {
                                    "order_id": "1004",
                                    "customer_id": "6",
                                    "order_date": "2021-08-31",
                                    "sales": "140"
                                }
                            ]
                        },
                        "text/html": [
                            "<table>",
                            "<tr><th>order_id</th><th>customer_id</th><th>order_date</th><th>sales</th></tr>",
                            "<tr><td>1011</td><td>1</td><td>2022-03-20</td><td>225</td></tr>",
                            "<tr><td>1006</td><td>1</td><td>2021-01-11</td><td>199</td></tr>",
                            "<tr><td>1016</td><td>1</td><td>2021-10-03</td><td>180</td></tr>",
                            "<tr><td>1001</td><td>1</td><td>2021-01-11</td><td>135</td></tr>",
                            "<tr><td>1012</td><td>2</td><td>2022-04-25</td><td>350</td></tr>",
                            "<tr><td>1002</td><td>2</td><td>2021-04-05</td><td>305</td></tr>",
                            "<tr><td>1021</td><td>2</td><td>2022-03-14</td><td>280</td></tr>",
                            "<tr><td>1010</td><td>2</td><td>2021-09-15</td><td>210</td></tr>",
                            "<tr><td>1007</td><td>2</td><td>2021-04-05</td><td>135</td></tr>",
                            "<tr><td>1019</td><td>3</td><td>2022-01-10</td><td>240</td></tr>",
                            "<tr><td>1003</td><td>3</td><td>2021-06-18</td><td>175</td></tr>",
                            "<tr><td>1015</td><td>3</td><td>2022-08-17</td><td>160</td></tr>",
                            "<tr><td>1008</td><td>3</td><td>2021-06-18</td><td>115</td></tr>",
                            "<tr><td>1018</td><td>4</td><td>2021-12-05</td><td>220</td></tr>",
                            "<tr><td>1014</td><td>4</td><td>2022-07-09</td><td>140</td></tr>",
                            "<tr><td>1013</td><td>5</td><td>2022-06-01</td><td>305</td></tr>",
                            "<tr><td>1017</td><td>5</td><td>2021-11-21</td><td>200</td></tr>",
                            "<tr><td>1020</td><td>6</td><td>2022-02-14</td><td>260</td></tr>",
                            "<tr><td>1009</td><td>6</td><td>2021-08-31</td><td>170</td></tr>",
                            "<tr><td>1004</td><td>6</td><td>2021-08-31</td><td>140</td></tr>",
                            "</table>"
                        ]
                    }
                }
            ],
            "execution_count": 1
        },
        {
            "cell_type": "markdown",
            "source": [
                "\n",
                "-- 16. Filter orders with sales > 200, sorted by sales descending"
            ],
            "metadata": {
                "language": "",
                "azdata_cell_guid": "a58b51c6-082f-4eb9-9092-34bd72dbec40"
            },
            "attachments": {}
        },
        {
            "cell_type": "code",
            "source": [
                "\n",
                "SELECT * FROM orders\n",
                "WHERE sales > 200\n",
                "ORDER BY sales DESC;\n",
                ""
            ],
            "metadata": {
                "language": "sql",
                "azdata_cell_guid": "03e4e7d8-7036-45a7-87a9-7cfc17581bcb"
            },
            "outputs": [
                {
                    "output_type": "display_data",
                    "data": {
                        "text/html": "(9 rows affected)"
                    },
                    "metadata": {}
                },
                {
                    "output_type": "display_data",
                    "data": {
                        "text/html": "Total execution time: 00:00:00.005"
                    },
                    "metadata": {}
                },
                {
                    "output_type": "execute_result",
                    "execution_count": 6,
                    "data": {
                        "application/vnd.dataresource+json": {
                            "schema": {
                                "fields": [
                                    {
                                        "name": "order_id"
                                    },
                                    {
                                        "name": "customer_id"
                                    },
                                    {
                                        "name": "order_date"
                                    },
                                    {
                                        "name": "sales"
                                    }
                                ]
                            },
                            "data": [
                                {
                                    "order_id": "1012",
                                    "customer_id": "2",
                                    "order_date": "2022-04-25",
                                    "sales": "350"
                                },
                                {
                                    "order_id": "1013",
                                    "customer_id": "5",
                                    "order_date": "2022-06-01",
                                    "sales": "305"
                                },
                                {
                                    "order_id": "1002",
                                    "customer_id": "2",
                                    "order_date": "2021-04-05",
                                    "sales": "305"
                                },
                                {
                                    "order_id": "1021",
                                    "customer_id": "2",
                                    "order_date": "2022-03-14",
                                    "sales": "280"
                                },
                                {
                                    "order_id": "1020",
                                    "customer_id": "6",
                                    "order_date": "2022-02-14",
                                    "sales": "260"
                                },
                                {
                                    "order_id": "1019",
                                    "customer_id": "3",
                                    "order_date": "2022-01-10",
                                    "sales": "240"
                                },
                                {
                                    "order_id": "1011",
                                    "customer_id": "1",
                                    "order_date": "2022-03-20",
                                    "sales": "225"
                                },
                                {
                                    "order_id": "1018",
                                    "customer_id": "4",
                                    "order_date": "2021-12-05",
                                    "sales": "220"
                                },
                                {
                                    "order_id": "1010",
                                    "customer_id": "2",
                                    "order_date": "2021-09-15",
                                    "sales": "210"
                                }
                            ]
                        },
                        "text/html": "<table><tr><th>order_id</th><th>customer_id</th><th>order_date</th><th>sales</th></tr><tr><td>1012</td><td>2</td><td>2022-04-25</td><td>350</td></tr><tr><td>1013</td><td>5</td><td>2022-06-01</td><td>305</td></tr><tr><td>1002</td><td>2</td><td>2021-04-05</td><td>305</td></tr><tr><td>1021</td><td>2</td><td>2022-03-14</td><td>280</td></tr><tr><td>1020</td><td>6</td><td>2022-02-14</td><td>260</td></tr><tr><td>1019</td><td>3</td><td>2022-01-10</td><td>240</td></tr><tr><td>1011</td><td>1</td><td>2022-03-20</td><td>225</td></tr><tr><td>1018</td><td>4</td><td>2021-12-05</td><td>220</td></tr><tr><td>1010</td><td>2</td><td>2021-09-15</td><td>210</td></tr></table>"
                    },
                    "metadata": {}
                }
            ],
            "execution_count": 6
        },
        {
            "cell_type": "markdown",
            "source": [
                "-- 17. Sort only 2022 orders by order_date\n",
                ""
            ],
            "metadata": {
                "language": "",
                "azdata_cell_guid": "676eab08-c1c2-46c0-bccb-587125560c53"
            },
            "attachments": {}
        },
        {
            "cell_type": "code",
            "source": [
                "\n",
                "SELECT * FROM orders\n",
                "WHERE YEAR(order_date) = 2022\n",
                "ORDER BY order_date ASC;"
            ],
            "metadata": {
                "language": "sql",
                "azdata_cell_guid": "fa21f643-8de3-47d9-b64a-14e9e227621e"
            },
            "outputs": [
                {
                    "output_type": "display_data",
                    "data": {
                        "text/html": "(8 rows affected)"
                    },
                    "metadata": {}
                },
                {
                    "output_type": "display_data",
                    "data": {
                        "text/html": "Total execution time: 00:00:00.008"
                    },
                    "metadata": {}
                },
                {
                    "output_type": "execute_result",
                    "execution_count": 5,
                    "data": {
                        "application/vnd.dataresource+json": {
                            "schema": {
                                "fields": [
                                    {
                                        "name": "order_id"
                                    },
                                    {
                                        "name": "customer_id"
                                    },
                                    {
                                        "name": "order_date"
                                    },
                                    {
                                        "name": "sales"
                                    }
                                ]
                            },
                            "data": [
                                {
                                    "order_id": "1019",
                                    "customer_id": "3",
                                    "order_date": "2022-01-10",
                                    "sales": "240"
                                },
                                {
                                    "order_id": "1020",
                                    "customer_id": "6",
                                    "order_date": "2022-02-14",
                                    "sales": "260"
                                },
                                {
                                    "order_id": "1021",
                                    "customer_id": "2",
                                    "order_date": "2022-03-14",
                                    "sales": "280"
                                },
                                {
                                    "order_id": "1011",
                                    "customer_id": "1",
                                    "order_date": "2022-03-20",
                                    "sales": "225"
                                },
                                {
                                    "order_id": "1012",
                                    "customer_id": "2",
                                    "order_date": "2022-04-25",
                                    "sales": "350"
                                },
                                {
                                    "order_id": "1013",
                                    "customer_id": "5",
                                    "order_date": "2022-06-01",
                                    "sales": "305"
                                },
                                {
                                    "order_id": "1014",
                                    "customer_id": "4",
                                    "order_date": "2022-07-09",
                                    "sales": "140"
                                },
                                {
                                    "order_id": "1015",
                                    "customer_id": "3",
                                    "order_date": "2022-08-17",
                                    "sales": "160"
                                }
                            ]
                        },
                        "text/html": "<table><tr><th>order_id</th><th>customer_id</th><th>order_date</th><th>sales</th></tr><tr><td>1019</td><td>3</td><td>2022-01-10</td><td>240</td></tr><tr><td>1020</td><td>6</td><td>2022-02-14</td><td>260</td></tr><tr><td>1021</td><td>2</td><td>2022-03-14</td><td>280</td></tr><tr><td>1011</td><td>1</td><td>2022-03-20</td><td>225</td></tr><tr><td>1012</td><td>2</td><td>2022-04-25</td><td>350</td></tr><tr><td>1013</td><td>5</td><td>2022-06-01</td><td>305</td></tr><tr><td>1014</td><td>4</td><td>2022-07-09</td><td>140</td></tr><tr><td>1015</td><td>3</td><td>2022-08-17</td><td>160</td></tr></table>"
                    },
                    "metadata": {}
                }
            ],
            "execution_count": 5
        }
    ]
}