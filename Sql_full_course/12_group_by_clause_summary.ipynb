{
    "metadata": {
        "kernelspec": {
            "name": "SQL",
            "display_name": "SQL",
            "language": "sql"
        },
        "language_info": {
            "name": "sql",
            "version": ""
        }
    },
    "nbformat_minor": 2,
    "nbformat": 4,
    "cells": [
        {
            "cell_type": "markdown",
            "source": [
                "# 📘 SQL GROUP BY Practice\n",
                "**Using Customers and Orders Table**\n\n",
                "This notebook demonstrates the use of `GROUP BY` clause in SQL with real-world data structure.\n"
            ],
            "metadata": {
                "azdata_cell_guid": "a1c9542b-14af-41ef-8270-2937ec6adf31"
            }
        },
        {
            "cell_type": "markdown",
            "source": [
                "<span style=\"color: #008000;\">-- 01. Count customers from each country</span>"
            ],
            "metadata": {
                "azdata_cell_guid": "5ace9d9b-62eb-4730-bdf4-558d4eb0a36f"
            },
            "attachments": {}
        },
        {
            "cell_type": "code",
            "source": [
                "SELECT country, COUNT(*) AS total_customers\n",
                "FROM customers\n",
                "GROUP BY country;"
            ],
            "metadata": {
                "azdata_cell_guid": "f2f9cdbd-449e-4903-b81a-cc02d5890334",
                "language": "sql"
            },
            "outputs": [
                {
                    "output_type": "display_data",
                    "data": {
                        "text/html": "(8 rows affected)"
                    },
                    "metadata": {}
                },
                {
                    "output_type": "display_data",
                    "data": {
                        "text/html": "Total execution time: 00:00:00.005"
                    },
                    "metadata": {}
                },
                {
                    "output_type": "execute_result",
                    "execution_count": 1,
                    "data": {
                        "application/vnd.dataresource+json": {
                            "schema": {
                                "fields": [
                                    {
                                        "name": "country"
                                    },
                                    {
                                        "name": "total_customers"
                                    }
                                ]
                            },
                            "data": [
                                {
                                    "country": "Canad",
                                    "total_customers": "1"
                                },
                                {
                                    "country": "Canada",
                                    "total_customers": "2"
                                },
                                {
                                    "country": "Germany",
                                    "total_customers": "4"
                                },
                                {
                                    "country": "India",
                                    "total_customers": "3"
                                },
                                {
                                    "country": "Iran",
                                    "total_customers": "1"
                                },
                                {
                                    "country": "UAE",
                                    "total_customers": "3"
                                },
                                {
                                    "country": "UK",
                                    "total_customers": "2"
                                },
                                {
                                    "country": "USA",
                                    "total_customers": "4"
                                }
                            ]
                        },
                        "text/html": "<table><tr><th>country</th><th>total_customers</th></tr><tr><td>Canad</td><td>1</td></tr><tr><td>Canada</td><td>2</td></tr><tr><td>Germany</td><td>4</td></tr><tr><td>India</td><td>3</td></tr><tr><td>Iran</td><td>1</td></tr><tr><td>UAE</td><td>3</td></tr><tr><td>UK</td><td>2</td></tr><tr><td>USA</td><td>4</td></tr></table>"
                    },
                    "metadata": {}
                }
            ],
            "execution_count": 1
        },
        {
            "cell_type": "markdown",
            "source": [
                "<span style=\"color: rgb(0, 128, 0); font-family: Consolas, &quot;Courier New&quot;, monospace; font-size: 12px; white-space: pre;\">-- 02. Average score of customers by country</span>"
            ],
            "metadata": {
                "azdata_cell_guid": "fd0e86dd-8e46-4e7d-8c80-127416ad7cc5"
            },
            "attachments": {}
        },
        {
            "cell_type": "code",
            "source": [
                "SELECT country, AVG(score) AS average_score\n",
                "FROM customers\n",
                "GROUP BY country;"
            ],
            "metadata": {
                "azdata_cell_guid": "6d15781e-a6d7-4981-a5e7-4f919d7b8a40",
                "language": "sql"
            },
            "outputs": [
                {
                    "output_type": "display_data",
                    "data": {
                        "text/html": "(8 rows affected)"
                    },
                    "metadata": {}
                },
                {
                    "output_type": "display_data",
                    "data": {
                        "text/html": "Total execution time: 00:00:00.016"
                    },
                    "metadata": {}
                },
                {
                    "output_type": "execute_result",
                    "metadata": {},
                    "execution_count": 1,
                    "data": {
                        "application/vnd.dataresource+json": {
                            "schema": {
                                "fields": [
                                    {
                                        "name": "country"
                                    },
                                    {
                                        "name": "average_score"
                                    }
                                ]
                            },
                            "data": [
                                {
                                    "country": "Canad",
                                    "average_score": "90"
                                },
                                {
                                    "country": "Canada",
                                    "average_score": "605"
                                },
                                {
                                    "country": "Germany",
                                    "average_score": "367"
                                },
                                {
                                    "country": "India",
                                    "average_score": "340"
                                },
                                {
                                    "country": "Iran",
                                    "average_score": "107"
                                },
                                {
                                    "country": "UAE",
                                    "average_score": "773"
                                },
                                {
                                    "country": "UK",
                                    "average_score": "785"
                                },
                                {
                                    "country": "USA",
                                    "average_score": "325"
                                }
                            ]
                        },
                        "text/html": [
                            "<table>",
                            "<tr><th>country</th><th>average_score</th></tr>",
                            "<tr><td>Canad</td><td>90</td></tr>",
                            "<tr><td>Canada</td><td>605</td></tr>",
                            "<tr><td>Germany</td><td>367</td></tr>",
                            "<tr><td>India</td><td>340</td></tr>",
                            "<tr><td>Iran</td><td>107</td></tr>",
                            "<tr><td>UAE</td><td>773</td></tr>",
                            "<tr><td>UK</td><td>785</td></tr>",
                            "<tr><td>USA</td><td>325</td></tr>",
                            "</table>"
                        ]
                    }
                }
            ],
            "execution_count": 1
        },
        {
            "cell_type": "markdown",
            "source": [
                "<span style=\"color: rgb(0, 128, 0); font-family: Consolas, &quot;Courier New&quot;, monospace; font-size: 12px; white-space: pre;\">-- 03. Total sales done by each customer</span>"
            ],
            "metadata": {
                "azdata_cell_guid": "babc9dfc-c972-4fed-90fc-c25032316290"
            },
            "attachments": {}
        },
        {
            "cell_type": "code",
            "source": [
                "SELECT customer_id, SUM(sales) AS total_sales\n",
                "FROM orders\n",
                "GROUP BY customer_id;"
            ],
            "metadata": {
                "azdata_cell_guid": "e2552ebd-8fbd-484b-831c-d4054d8a68c6",
                "language": "sql"
            },
            "outputs": [
                {
                    "output_type": "display_data",
                    "data": {
                        "text/html": "(6 rows affected)"
                    },
                    "metadata": {}
                },
                {
                    "output_type": "display_data",
                    "data": {
                        "text/html": "Total execution time: 00:00:00.045"
                    },
                    "metadata": {}
                },
                {
                    "output_type": "execute_result",
                    "metadata": {},
                    "execution_count": 2,
                    "data": {
                        "application/vnd.dataresource+json": {
                            "schema": {
                                "fields": [
                                    {
                                        "name": "customer_id"
                                    },
                                    {
                                        "name": "total_sales"
                                    }
                                ]
                            },
                            "data": [
                                {
                                    "customer_id": "1",
                                    "total_sales": "739"
                                },
                                {
                                    "customer_id": "2",
                                    "total_sales": "1280"
                                },
                                {
                                    "customer_id": "3",
                                    "total_sales": "690"
                                },
                                {
                                    "customer_id": "4",
                                    "total_sales": "360"
                                },
                                {
                                    "customer_id": "5",
                                    "total_sales": "505"
                                },
                                {
                                    "customer_id": "6",
                                    "total_sales": "570"
                                }
                            ]
                        },
                        "text/html": [
                            "<table>",
                            "<tr><th>customer_id</th><th>total_sales</th></tr>",
                            "<tr><td>1</td><td>739</td></tr>",
                            "<tr><td>2</td><td>1280</td></tr>",
                            "<tr><td>3</td><td>690</td></tr>",
                            "<tr><td>4</td><td>360</td></tr>",
                            "<tr><td>5</td><td>505</td></tr>",
                            "<tr><td>6</td><td>570</td></tr>",
                            "</table>"
                        ]
                    }
                }
            ],
            "execution_count": 2
        },
        {
            "cell_type": "markdown",
            "source": [
                "<span style=\"color: rgb(0, 128, 0); font-family: Consolas, &quot;Courier New&quot;, monospace; font-size: 12px; white-space: pre;\">-- 04. Number of orders placed by each customer</span>"
            ],
            "metadata": {
                "azdata_cell_guid": "1e5832e9-4df3-4185-b551-91cb5110df71"
            },
            "attachments": {}
        },
        {
            "cell_type": "code",
            "source": [
                "SELECT customer_id, COUNT(order_id) AS number_of_orders\n",
                "FROM orders\n",
                "GROUP BY customer_id;"
            ],
            "metadata": {
                "azdata_cell_guid": "a482b194-6b54-4f9c-8a3b-121092067a68",
                "language": "sql"
            },
            "outputs": [
                {
                    "output_type": "display_data",
                    "data": {
                        "text/html": "(6 rows affected)"
                    },
                    "metadata": {}
                },
                {
                    "output_type": "display_data",
                    "data": {
                        "text/html": "Total execution time: 00:00:00.013"
                    },
                    "metadata": {}
                },
                {
                    "output_type": "execute_result",
                    "metadata": {},
                    "execution_count": 3,
                    "data": {
                        "application/vnd.dataresource+json": {
                            "schema": {
                                "fields": [
                                    {
                                        "name": "customer_id"
                                    },
                                    {
                                        "name": "number_of_orders"
                                    }
                                ]
                            },
                            "data": [
                                {
                                    "customer_id": "1",
                                    "number_of_orders": "4"
                                },
                                {
                                    "customer_id": "2",
                                    "number_of_orders": "5"
                                },
                                {
                                    "customer_id": "3",
                                    "number_of_orders": "4"
                                },
                                {
                                    "customer_id": "4",
                                    "number_of_orders": "2"
                                },
                                {
                                    "customer_id": "5",
                                    "number_of_orders": "2"
                                },
                                {
                                    "customer_id": "6",
                                    "number_of_orders": "3"
                                }
                            ]
                        },
                        "text/html": [
                            "<table>",
                            "<tr><th>customer_id</th><th>number_of_orders</th></tr>",
                            "<tr><td>1</td><td>4</td></tr>",
                            "<tr><td>2</td><td>5</td></tr>",
                            "<tr><td>3</td><td>4</td></tr>",
                            "<tr><td>4</td><td>2</td></tr>",
                            "<tr><td>5</td><td>2</td></tr>",
                            "<tr><td>6</td><td>3</td></tr>",
                            "</table>"
                        ]
                    }
                }
            ],
            "execution_count": 3
        },
        {
            "cell_type": "markdown",
            "source": [
                "<span style=\"color: #008000;\">-- 05. Minimum and maximum sales per customer</span>"
            ],
            "metadata": {
                "azdata_cell_guid": "7d7d5764-5ac4-44f9-b85a-f03d8e98d713"
            },
            "attachments": {}
        },
        {
            "cell_type": "code",
            "source": [
                "SELECT customer_id, MIN(sales) AS min_sale, MAX(sales) AS max_sale\n",
                "FROM orders\n",
                "GROUP BY customer_id;"
            ],
            "metadata": {
                "azdata_cell_guid": "a3b4947b-ea70-40f6-894d-cbfbb153fe2b",
                "language": "sql"
            },
            "outputs": [
                {
                    "output_type": "display_data",
                    "data": {
                        "text/html": "(6 rows affected)"
                    },
                    "metadata": {}
                },
                {
                    "output_type": "display_data",
                    "data": {
                        "text/html": "Total execution time: 00:00:00.009"
                    },
                    "metadata": {}
                },
                {
                    "output_type": "execute_result",
                    "metadata": {},
                    "execution_count": 4,
                    "data": {
                        "application/vnd.dataresource+json": {
                            "schema": {
                                "fields": [
                                    {
                                        "name": "customer_id"
                                    },
                                    {
                                        "name": "min_sale"
                                    },
                                    {
                                        "name": "max_sale"
                                    }
                                ]
                            },
                            "data": [
                                {
                                    "customer_id": "1",
                                    "min_sale": "135",
                                    "max_sale": "225"
                                },
                                {
                                    "customer_id": "2",
                                    "min_sale": "135",
                                    "max_sale": "350"
                                },
                                {
                                    "customer_id": "3",
                                    "min_sale": "115",
                                    "max_sale": "240"
                                },
                                {
                                    "customer_id": "4",
                                    "min_sale": "140",
                                    "max_sale": "220"
                                },
                                {
                                    "customer_id": "5",
                                    "min_sale": "200",
                                    "max_sale": "305"
                                },
                                {
                                    "customer_id": "6",
                                    "min_sale": "140",
                                    "max_sale": "260"
                                }
                            ]
                        },
                        "text/html": [
                            "<table>",
                            "<tr><th>customer_id</th><th>min_sale</th><th>max_sale</th></tr>",
                            "<tr><td>1</td><td>135</td><td>225</td></tr>",
                            "<tr><td>2</td><td>135</td><td>350</td></tr>",
                            "<tr><td>3</td><td>115</td><td>240</td></tr>",
                            "<tr><td>4</td><td>140</td><td>220</td></tr>",
                            "<tr><td>5</td><td>200</td><td>305</td></tr>",
                            "<tr><td>6</td><td>140</td><td>260</td></tr>",
                            "</table>"
                        ]
                    }
                }
            ],
            "execution_count": 4
        },
        {
            "cell_type": "markdown",
            "source": [
                "<span style=\"color: rgb(0, 128, 0); font-family: Consolas, &quot;Courier New&quot;, monospace; font-size: 12px; white-space: pre;\">-- 06. Total sales by year</span>"
            ],
            "metadata": {
                "azdata_cell_guid": "1a1bee69-430f-4b53-af10-2b3b69cc56ad"
            },
            "attachments": {}
        },
        {
            "cell_type": "code",
            "source": [
                "SELECT YEAR(order_date) AS order_year, SUM(sales) AS total_sales\n",
                "FROM orders\n",
                "GROUP BY YEAR(order_date);"
            ],
            "metadata": {
                "azdata_cell_guid": "77d4bcc2-dd56-4f43-b915-dbce2de0fdbe",
                "language": "sql"
            },
            "outputs": [
                {
                    "output_type": "display_data",
                    "data": {
                        "text/html": "(2 rows affected)"
                    },
                    "metadata": {}
                },
                {
                    "output_type": "display_data",
                    "data": {
                        "text/html": "Total execution time: 00:00:00.017"
                    },
                    "metadata": {}
                },
                {
                    "output_type": "execute_result",
                    "metadata": {},
                    "execution_count": 5,
                    "data": {
                        "application/vnd.dataresource+json": {
                            "schema": {
                                "fields": [
                                    {
                                        "name": "order_year"
                                    },
                                    {
                                        "name": "total_sales"
                                    }
                                ]
                            },
                            "data": [
                                {
                                    "order_year": "2021",
                                    "total_sales": "2184"
                                },
                                {
                                    "order_year": "2022",
                                    "total_sales": "1960"
                                }
                            ]
                        },
                        "text/html": [
                            "<table>",
                            "<tr><th>order_year</th><th>total_sales</th></tr>",
                            "<tr><td>2021</td><td>2184</td></tr>",
                            "<tr><td>2022</td><td>1960</td></tr>",
                            "</table>"
                        ]
                    }
                }
            ],
            "execution_count": 5
        },
        {
            "cell_type": "markdown",
            "source": [
                "<span style=\"color: rgb(0, 128, 0); font-family: Consolas, &quot;Courier New&quot;, monospace; font-size: 12px; white-space: pre;\">-- 07. Number of customers per score group (grouping by rounded hundreds)<i></i></span>"
            ],
            "metadata": {
                "azdata_cell_guid": "16a7d9f4-92b9-4163-bee0-a786dfe46cbc"
            },
            "attachments": {}
        },
        {
            "cell_type": "code",
            "source": [
                "SELECT (score / 100) * 100 AS score_range, COUNT(*) AS customer_count\n",
                "FROM customers\n",
                "GROUP BY (score / 100) * 100;"
            ],
            "metadata": {
                "azdata_cell_guid": "b4815234-5a87-41c4-80d2-9f29a3257808",
                "language": "sql"
            },
            "outputs": [
                {
                    "output_type": "display_data",
                    "data": {
                        "text/html": "(9 rows affected)"
                    },
                    "metadata": {}
                },
                {
                    "output_type": "display_data",
                    "data": {
                        "text/html": "Total execution time: 00:00:00.018"
                    },
                    "metadata": {}
                },
                {
                    "output_type": "execute_result",
                    "metadata": {},
                    "execution_count": 6,
                    "data": {
                        "application/vnd.dataresource+json": {
                            "schema": {
                                "fields": [
                                    {
                                        "name": "score_range"
                                    },
                                    {
                                        "name": "customer_count"
                                    }
                                ]
                            },
                            "data": [
                                {
                                    "score_range": "0",
                                    "customer_count": "2"
                                },
                                {
                                    "score_range": "100",
                                    "customer_count": "4"
                                },
                                {
                                    "score_range": "300",
                                    "customer_count": "2"
                                },
                                {
                                    "score_range": "400",
                                    "customer_count": "2"
                                },
                                {
                                    "score_range": "500",
                                    "customer_count": "3"
                                },
                                {
                                    "score_range": "600",
                                    "customer_count": "2"
                                },
                                {
                                    "score_range": "700",
                                    "customer_count": "2"
                                },
                                {
                                    "score_range": "800",
                                    "customer_count": "1"
                                },
                                {
                                    "score_range": "900",
                                    "customer_count": "2"
                                }
                            ]
                        },
                        "text/html": [
                            "<table>",
                            "<tr><th>score_range</th><th>customer_count</th></tr>",
                            "<tr><td>0</td><td>2</td></tr>",
                            "<tr><td>100</td><td>4</td></tr>",
                            "<tr><td>300</td><td>2</td></tr>",
                            "<tr><td>400</td><td>2</td></tr>",
                            "<tr><td>500</td><td>3</td></tr>",
                            "<tr><td>600</td><td>2</td></tr>",
                            "<tr><td>700</td><td>2</td></tr>",
                            "<tr><td>800</td><td>1</td></tr>",
                            "<tr><td>900</td><td>2</td></tr>",
                            "</table>"
                        ]
                    }
                }
            ],
            "execution_count": 6
        },
        {
            "cell_type": "markdown",
            "source": [
                "<span style=\"color: rgb(0, 128, 0); font-family: Consolas, &quot;Courier New&quot;, monospace; font-size: 12px; white-space: pre;\">-- 08. Total orders and average sales by year and customer</span>"
            ],
            "metadata": {
                "azdata_cell_guid": "ead08e5f-b538-44cd-897f-a4d862e92992"
            },
            "attachments": {}
        },
        {
            "cell_type": "code",
            "source": [
                "SELECT YEAR(order_date) AS order_year, customer_id, COUNT(*) AS total_orders, AVG(sales) AS avg_sales\n",
                "FROM orders\n",
                "GROUP BY YEAR(order_date), customer_id;"
            ],
            "metadata": {
                "azdata_cell_guid": "3c386e29-b0be-42eb-ac9d-372f5d76e95a",
                "language": "sql"
            },
            "outputs": [
                {
                    "output_type": "display_data",
                    "data": {
                        "text/html": "(12 rows affected)"
                    },
                    "metadata": {}
                },
                {
                    "output_type": "display_data",
                    "data": {
                        "text/html": "Total execution time: 00:00:00.025"
                    },
                    "metadata": {}
                },
                {
                    "output_type": "execute_result",
                    "metadata": {},
                    "execution_count": 7,
                    "data": {
                        "application/vnd.dataresource+json": {
                            "schema": {
                                "fields": [
                                    {
                                        "name": "order_year"
                                    },
                                    {
                                        "name": "customer_id"
                                    },
                                    {
                                        "name": "total_orders"
                                    },
                                    {
                                        "name": "avg_sales"
                                    }
                                ]
                            },
                            "data": [
                                {
                                    "order_year": "2021",
                                    "customer_id": "1",
                                    "total_orders": "3",
                                    "avg_sales": "171"
                                },
                                {
                                    "order_year": "2022",
                                    "customer_id": "1",
                                    "total_orders": "1",
                                    "avg_sales": "225"
                                },
                                {
                                    "order_year": "2021",
                                    "customer_id": "2",
                                    "total_orders": "3",
                                    "avg_sales": "216"
                                },
                                {
                                    "order_year": "2022",
                                    "customer_id": "2",
                                    "total_orders": "2",
                                    "avg_sales": "315"
                                },
                                {
                                    "order_year": "2021",
                                    "customer_id": "3",
                                    "total_orders": "2",
                                    "avg_sales": "145"
                                },
                                {
                                    "order_year": "2022",
                                    "customer_id": "3",
                                    "total_orders": "2",
                                    "avg_sales": "200"
                                },
                                {
                                    "order_year": "2021",
                                    "customer_id": "4",
                                    "total_orders": "1",
                                    "avg_sales": "220"
                                },
                                {
                                    "order_year": "2022",
                                    "customer_id": "4",
                                    "total_orders": "1",
                                    "avg_sales": "140"
                                },
                                {
                                    "order_year": "2021",
                                    "customer_id": "5",
                                    "total_orders": "1",
                                    "avg_sales": "200"
                                },
                                {
                                    "order_year": "2022",
                                    "customer_id": "5",
                                    "total_orders": "1",
                                    "avg_sales": "305"
                                },
                                {
                                    "order_year": "2021",
                                    "customer_id": "6",
                                    "total_orders": "2",
                                    "avg_sales": "155"
                                },
                                {
                                    "order_year": "2022",
                                    "customer_id": "6",
                                    "total_orders": "1",
                                    "avg_sales": "260"
                                }
                            ]
                        },
                        "text/html": [
                            "<table>",
                            "<tr><th>order_year</th><th>customer_id</th><th>total_orders</th><th>avg_sales</th></tr>",
                            "<tr><td>2021</td><td>1</td><td>3</td><td>171</td></tr>",
                            "<tr><td>2022</td><td>1</td><td>1</td><td>225</td></tr>",
                            "<tr><td>2021</td><td>2</td><td>3</td><td>216</td></tr>",
                            "<tr><td>2022</td><td>2</td><td>2</td><td>315</td></tr>",
                            "<tr><td>2021</td><td>3</td><td>2</td><td>145</td></tr>",
                            "<tr><td>2022</td><td>3</td><td>2</td><td>200</td></tr>",
                            "<tr><td>2021</td><td>4</td><td>1</td><td>220</td></tr>",
                            "<tr><td>2022</td><td>4</td><td>1</td><td>140</td></tr>",
                            "<tr><td>2021</td><td>5</td><td>1</td><td>200</td></tr>",
                            "<tr><td>2022</td><td>5</td><td>1</td><td>305</td></tr>",
                            "<tr><td>2021</td><td>6</td><td>2</td><td>155</td></tr>",
                            "<tr><td>2022</td><td>6</td><td>1</td><td>260</td></tr>",
                            "</table>"
                        ]
                    }
                }
            ],
            "execution_count": 7
        },
        {
            "cell_type": "markdown",
            "source": [
                "<span style=\"color: rgb(0, 128, 0); font-family: Consolas, &quot;Courier New&quot;, monospace; font-size: 12px; white-space: pre;\">-- 09. Count of countries with each customer name (to find duplicate names across countries)<i></i></span>"
            ],
            "metadata": {
                "azdata_cell_guid": "171bbf34-5f2e-46ff-8648-d8a50b56cb55"
            },
            "attachments": {}
        },
        {
            "cell_type": "code",
            "source": [
                "SELECT first_name, COUNT(DISTINCT country) AS country_count\n",
                "FROM customers\n",
                "GROUP BY first_name;"
            ],
            "metadata": {
                "azdata_cell_guid": "bef0ac83-b3ef-4742-a565-f4b5d8bd57b4",
                "language": "sql"
            },
            "outputs": [
                {
                    "output_type": "display_data",
                    "data": {
                        "text/html": "(19 rows affected)"
                    },
                    "metadata": {}
                },
                {
                    "output_type": "display_data",
                    "data": {
                        "text/html": "Total execution time: 00:00:00.030"
                    },
                    "metadata": {}
                },
                {
                    "output_type": "execute_result",
                    "metadata": {},
                    "execution_count": 8,
                    "data": {
                        "application/vnd.dataresource+json": {
                            "schema": {
                                "fields": [
                                    {
                                        "name": "first_name"
                                    },
                                    {
                                        "name": "country_count"
                                    }
                                ]
                            },
                            "data": [
                                {
                                    "first_name": "Ahmed",
                                    "country_count": "1"
                                },
                                {
                                    "first_name": "Ali",
                                    "country_count": "1"
                                },
                                {
                                    "first_name": "Alice",
                                    "country_count": "1"
                                },
                                {
                                    "first_name": "Georg",
                                    "country_count": "1"
                                },
                                {
                                    "first_name": "Ilyas",
                                    "country_count": "1"
                                },
                                {
                                    "first_name": "John",
                                    "country_count": "1"
                                },
                                {
                                    "first_name": "Lina",
                                    "country_count": "1"
                                },
                                {
                                    "first_name": "Maria",
                                    "country_count": "1"
                                },
                                {
                                    "first_name": "Martin",
                                    "country_count": "1"
                                },
                                {
                                    "first_name": "Nina",
                                    "country_count": "1"
                                },
                                {
                                    "first_name": "Omar",
                                    "country_count": "1"
                                },
                                {
                                    "first_name": "Peter",
                                    "country_count": "1"
                                },
                                {
                                    "first_name": "Rauf",
                                    "country_count": "1"
                                },
                                {
                                    "first_name": "Salma",
                                    "country_count": "1"
                                },
                                {
                                    "first_name": "Samd",
                                    "country_count": "1"
                                },
                                {
                                    "first_name": "Sameer",
                                    "country_count": "1"
                                },
                                {
                                    "first_name": "Tariq",
                                    "country_count": "2"
                                },
                                {
                                    "first_name": "Tom",
                                    "country_count": "1"
                                },
                                {
                                    "first_name": "Zara",
                                    "country_count": "1"
                                }
                            ]
                        },
                        "text/html": [
                            "<table>",
                            "<tr><th>first_name</th><th>country_count</th></tr>",
                            "<tr><td>Ahmed</td><td>1</td></tr>",
                            "<tr><td>Ali</td><td>1</td></tr>",
                            "<tr><td>Alice</td><td>1</td></tr>",
                            "<tr><td>Georg</td><td>1</td></tr>",
                            "<tr><td>Ilyas</td><td>1</td></tr>",
                            "<tr><td>John</td><td>1</td></tr>",
                            "<tr><td>Lina</td><td>1</td></tr>",
                            "<tr><td>Maria</td><td>1</td></tr>",
                            "<tr><td>Martin</td><td>1</td></tr>",
                            "<tr><td>Nina</td><td>1</td></tr>",
                            "<tr><td>Omar</td><td>1</td></tr>",
                            "<tr><td>Peter</td><td>1</td></tr>",
                            "<tr><td>Rauf</td><td>1</td></tr>",
                            "<tr><td>Salma</td><td>1</td></tr>",
                            "<tr><td>Samd</td><td>1</td></tr>",
                            "<tr><td>Sameer</td><td>1</td></tr>",
                            "<tr><td>Tariq</td><td>2</td></tr>",
                            "<tr><td>Tom</td><td>1</td></tr>",
                            "<tr><td>Zara</td><td>1</td></tr>",
                            "</table>"
                        ]
                    }
                }
            ],
            "execution_count": 8
        },
        {
            "cell_type": "markdown",
            "source": [
                "<span style=\"color: rgb(0, 128, 0); font-family: Consolas, &quot;Courier New&quot;, monospace; font-size: 12px; white-space: pre;\">-- 10. Find total score by country where total score is above 1000<i></i></span>"
            ],
            "metadata": {
                "azdata_cell_guid": "4c727242-6c0e-46bf-b62b-573fe12443f4"
            },
            "attachments": {}
        },
        {
            "cell_type": "code",
            "source": [
                "SELECT country, SUM(score) AS total_score\n",
                "FROM customers\n",
                "GROUP BY country\n",
                "HAVING SUM(score) > 1000;"
            ],
            "metadata": {
                "azdata_cell_guid": "6054e8c0-432f-4511-9bf3-ce9b7f58b184",
                "language": "sql"
            },
            "outputs": [
                {
                    "output_type": "display_data",
                    "data": {
                        "text/html": "(6 rows affected)"
                    },
                    "metadata": {}
                },
                {
                    "output_type": "display_data",
                    "data": {
                        "text/html": "Total execution time: 00:00:00.017"
                    },
                    "metadata": {}
                },
                {
                    "output_type": "execute_result",
                    "metadata": {},
                    "execution_count": 9,
                    "data": {
                        "application/vnd.dataresource+json": {
                            "schema": {
                                "fields": [
                                    {
                                        "name": "country"
                                    },
                                    {
                                        "name": "total_score"
                                    }
                                ]
                            },
                            "data": [
                                {
                                    "country": "Canada",
                                    "total_score": "1210"
                                },
                                {
                                    "country": "Germany",
                                    "total_score": "1470"
                                },
                                {
                                    "country": "India",
                                    "total_score": "1020"
                                },
                                {
                                    "country": "UAE",
                                    "total_score": "2319"
                                },
                                {
                                    "country": "UK",
                                    "total_score": "1570"
                                },
                                {
                                    "country": "USA",
                                    "total_score": "1300"
                                }
                            ]
                        },
                        "text/html": [
                            "<table>",
                            "<tr><th>country</th><th>total_score</th></tr>",
                            "<tr><td>Canada</td><td>1210</td></tr>",
                            "<tr><td>Germany</td><td>1470</td></tr>",
                            "<tr><td>India</td><td>1020</td></tr>",
                            "<tr><td>UAE</td><td>2319</td></tr>",
                            "<tr><td>UK</td><td>1570</td></tr>",
                            "<tr><td>USA</td><td>1300</td></tr>",
                            "</table>"
                        ]
                    }
                }
            ],
            "execution_count": 9
        },
        {
            "cell_type": "markdown",
            "source": [
                "<span style=\"color: rgb(0, 128, 0); font-family: Consolas, &quot;Courier New&quot;, monospace; font-size: 12px; white-space: pre;\">-- 11. Count how many orders each customer made in 2022<i></i></span>"
            ],
            "metadata": {
                "azdata_cell_guid": "a5932b30-1a06-4216-8dd9-5c7012bc079c"
            },
            "attachments": {}
        },
        {
            "cell_type": "code",
            "source": [
                "SELECT customer_id, COUNT(*) AS orders_2022\n",
                "FROM orders\n",
                "WHERE YEAR(order_date) = 2022\n",
                "GROUP BY customer_id;"
            ],
            "metadata": {
                "azdata_cell_guid": "3464fbdb-9537-4398-8e26-453a50e05c31",
                "language": "sql"
            },
            "outputs": [
                {
                    "output_type": "display_data",
                    "data": {
                        "text/html": "(6 rows affected)"
                    },
                    "metadata": {}
                },
                {
                    "output_type": "display_data",
                    "data": {
                        "text/html": "Total execution time: 00:00:00.017"
                    },
                    "metadata": {}
                },
                {
                    "output_type": "execute_result",
                    "metadata": {},
                    "execution_count": 10,
                    "data": {
                        "application/vnd.dataresource+json": {
                            "schema": {
                                "fields": [
                                    {
                                        "name": "customer_id"
                                    },
                                    {
                                        "name": "orders_2022"
                                    }
                                ]
                            },
                            "data": [
                                {
                                    "customer_id": "1",
                                    "orders_2022": "1"
                                },
                                {
                                    "customer_id": "2",
                                    "orders_2022": "2"
                                },
                                {
                                    "customer_id": "3",
                                    "orders_2022": "2"
                                },
                                {
                                    "customer_id": "4",
                                    "orders_2022": "1"
                                },
                                {
                                    "customer_id": "5",
                                    "orders_2022": "1"
                                },
                                {
                                    "customer_id": "6",
                                    "orders_2022": "1"
                                }
                            ]
                        },
                        "text/html": [
                            "<table>",
                            "<tr><th>customer_id</th><th>orders_2022</th></tr>",
                            "<tr><td>1</td><td>1</td></tr>",
                            "<tr><td>2</td><td>2</td></tr>",
                            "<tr><td>3</td><td>2</td></tr>",
                            "<tr><td>4</td><td>1</td></tr>",
                            "<tr><td>5</td><td>1</td></tr>",
                            "<tr><td>6</td><td>1</td></tr>",
                            "</table>"
                        ]
                    }
                }
            ],
            "execution_count": 10
        },
        {
            "cell_type": "markdown",
            "source": [
                "<span style=\"color: #008000;\">-- 12. Total sales grouped by customer and order year</span>"
            ],
            "metadata": {
                "azdata_cell_guid": "38e48867-d187-4faa-a18d-a0d1f8b79b6a"
            },
            "attachments": {}
        },
        {
            "cell_type": "code",
            "source": [
                "SELECT customer_id, YEAR(order_date) AS order_year, SUM(sales) AS yearly_sales\n",
                "FROM orders\n",
                "GROUP BY customer_id, YEAR(order_date);"
            ],
            "metadata": {
                "azdata_cell_guid": "178d04ef-0f48-4648-83ec-abba318778d3",
                "language": "sql"
            },
            "outputs": [
                {
                    "output_type": "display_data",
                    "data": {
                        "text/html": "(12 rows affected)"
                    },
                    "metadata": {}
                },
                {
                    "output_type": "display_data",
                    "data": {
                        "text/html": "Total execution time: 00:00:00.010"
                    },
                    "metadata": {}
                },
                {
                    "output_type": "execute_result",
                    "metadata": {},
                    "execution_count": 11,
                    "data": {
                        "application/vnd.dataresource+json": {
                            "schema": {
                                "fields": [
                                    {
                                        "name": "customer_id"
                                    },
                                    {
                                        "name": "order_year"
                                    },
                                    {
                                        "name": "yearly_sales"
                                    }
                                ]
                            },
                            "data": [
                                {
                                    "customer_id": "1",
                                    "order_year": "2021",
                                    "yearly_sales": "514"
                                },
                                {
                                    "customer_id": "2",
                                    "order_year": "2021",
                                    "yearly_sales": "650"
                                },
                                {
                                    "customer_id": "3",
                                    "order_year": "2021",
                                    "yearly_sales": "290"
                                },
                                {
                                    "customer_id": "4",
                                    "order_year": "2021",
                                    "yearly_sales": "220"
                                },
                                {
                                    "customer_id": "5",
                                    "order_year": "2021",
                                    "yearly_sales": "200"
                                },
                                {
                                    "customer_id": "6",
                                    "order_year": "2021",
                                    "yearly_sales": "310"
                                },
                                {
                                    "customer_id": "1",
                                    "order_year": "2022",
                                    "yearly_sales": "225"
                                },
                                {
                                    "customer_id": "2",
                                    "order_year": "2022",
                                    "yearly_sales": "630"
                                },
                                {
                                    "customer_id": "3",
                                    "order_year": "2022",
                                    "yearly_sales": "400"
                                },
                                {
                                    "customer_id": "4",
                                    "order_year": "2022",
                                    "yearly_sales": "140"
                                },
                                {
                                    "customer_id": "5",
                                    "order_year": "2022",
                                    "yearly_sales": "305"
                                },
                                {
                                    "customer_id": "6",
                                    "order_year": "2022",
                                    "yearly_sales": "260"
                                }
                            ]
                        },
                        "text/html": [
                            "<table>",
                            "<tr><th>customer_id</th><th>order_year</th><th>yearly_sales</th></tr>",
                            "<tr><td>1</td><td>2021</td><td>514</td></tr>",
                            "<tr><td>2</td><td>2021</td><td>650</td></tr>",
                            "<tr><td>3</td><td>2021</td><td>290</td></tr>",
                            "<tr><td>4</td><td>2021</td><td>220</td></tr>",
                            "<tr><td>5</td><td>2021</td><td>200</td></tr>",
                            "<tr><td>6</td><td>2021</td><td>310</td></tr>",
                            "<tr><td>1</td><td>2022</td><td>225</td></tr>",
                            "<tr><td>2</td><td>2022</td><td>630</td></tr>",
                            "<tr><td>3</td><td>2022</td><td>400</td></tr>",
                            "<tr><td>4</td><td>2022</td><td>140</td></tr>",
                            "<tr><td>5</td><td>2022</td><td>305</td></tr>",
                            "<tr><td>6</td><td>2022</td><td>260</td></tr>",
                            "</table>"
                        ]
                    }
                }
            ],
            "execution_count": 11
        }
    ]
}